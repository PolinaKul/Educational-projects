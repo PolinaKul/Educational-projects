{
 "cells": [
  {
   "cell_type": "markdown",
   "id": "5eeb4ea9",
   "metadata": {},
   "source": [
    "Имеются данные о поведении клиентов и о расторжении договоров с банком. Необходимо составить прогноз о возможном уходе клиента.\n",
    "Обучим модель, рассчитывающую потенциальное поведение клиента.\n",
    "Результаты предсказания модели будем проверять F1-мерой. Минимальное приемлемое ее значение - 0,59."
   ]
  },
  {
   "cell_type": "markdown",
   "id": "824c10d2",
   "metadata": {},
   "source": [
    "**1  Подготовка данных**"
   ]
  },
  {
   "cell_type": "code",
   "execution_count": 1,
   "id": "1d1e6f00",
   "metadata": {},
   "outputs": [],
   "source": [
    "import pandas as pd\n",
    "from sklearn.model_selection import train_test_split\n",
    "from sklearn.tree import DecisionTreeClassifier\n",
    "from sklearn.linear_model import LogisticRegression\n",
    "from sklearn.preprocessing import OrdinalEncoder \n",
    "from sklearn.preprocessing import OneHotEncoder\n",
    "from sklearn.metrics import f1_score\n",
    "from sklearn.utils import shuffle\n",
    "from sklearn.metrics import roc_auc_score"
   ]
  },
  {
   "cell_type": "code",
   "execution_count": 2,
   "id": "fadf3910",
   "metadata": {},
   "outputs": [
    {
     "name": "stdout",
     "output_type": "stream",
     "text": [
      "<class 'pandas.core.frame.DataFrame'>\n",
      "RangeIndex: 10000 entries, 0 to 9999\n",
      "Data columns (total 14 columns):\n",
      " #   Column           Non-Null Count  Dtype  \n",
      "---  ------           --------------  -----  \n",
      " 0   RowNumber        10000 non-null  int64  \n",
      " 1   CustomerId       10000 non-null  int64  \n",
      " 2   Surname          10000 non-null  object \n",
      " 3   CreditScore      10000 non-null  int64  \n",
      " 4   Geography        10000 non-null  object \n",
      " 5   Gender           10000 non-null  object \n",
      " 6   Age              10000 non-null  int64  \n",
      " 7   Tenure           9091 non-null   float64\n",
      " 8   Balance          10000 non-null  float64\n",
      " 9   NumOfProducts    10000 non-null  int64  \n",
      " 10  HasCrCard        10000 non-null  int64  \n",
      " 11  IsActiveMember   10000 non-null  int64  \n",
      " 12  EstimatedSalary  10000 non-null  float64\n",
      " 13  Exited           10000 non-null  int64  \n",
      "dtypes: float64(3), int64(8), object(3)\n",
      "memory usage: 1.1+ MB\n",
      "None\n"
     ]
    },
    {
     "data": {
      "text/html": [
       "<div>\n",
       "<style scoped>\n",
       "    .dataframe tbody tr th:only-of-type {\n",
       "        vertical-align: middle;\n",
       "    }\n",
       "\n",
       "    .dataframe tbody tr th {\n",
       "        vertical-align: top;\n",
       "    }\n",
       "\n",
       "    .dataframe thead th {\n",
       "        text-align: right;\n",
       "    }\n",
       "</style>\n",
       "<table border=\"1\" class=\"dataframe\">\n",
       "  <thead>\n",
       "    <tr style=\"text-align: right;\">\n",
       "      <th></th>\n",
       "      <th>RowNumber</th>\n",
       "      <th>CustomerId</th>\n",
       "      <th>Surname</th>\n",
       "      <th>CreditScore</th>\n",
       "      <th>Geography</th>\n",
       "      <th>Gender</th>\n",
       "      <th>Age</th>\n",
       "      <th>Tenure</th>\n",
       "      <th>Balance</th>\n",
       "      <th>NumOfProducts</th>\n",
       "      <th>HasCrCard</th>\n",
       "      <th>IsActiveMember</th>\n",
       "      <th>EstimatedSalary</th>\n",
       "      <th>Exited</th>\n",
       "    </tr>\n",
       "  </thead>\n",
       "  <tbody>\n",
       "    <tr>\n",
       "      <th>0</th>\n",
       "      <td>1</td>\n",
       "      <td>15634602</td>\n",
       "      <td>Hargrave</td>\n",
       "      <td>619</td>\n",
       "      <td>France</td>\n",
       "      <td>Female</td>\n",
       "      <td>42</td>\n",
       "      <td>2.0</td>\n",
       "      <td>0.00</td>\n",
       "      <td>1</td>\n",
       "      <td>1</td>\n",
       "      <td>1</td>\n",
       "      <td>101348.88</td>\n",
       "      <td>1</td>\n",
       "    </tr>\n",
       "    <tr>\n",
       "      <th>1</th>\n",
       "      <td>2</td>\n",
       "      <td>15647311</td>\n",
       "      <td>Hill</td>\n",
       "      <td>608</td>\n",
       "      <td>Spain</td>\n",
       "      <td>Female</td>\n",
       "      <td>41</td>\n",
       "      <td>1.0</td>\n",
       "      <td>83807.86</td>\n",
       "      <td>1</td>\n",
       "      <td>0</td>\n",
       "      <td>1</td>\n",
       "      <td>112542.58</td>\n",
       "      <td>0</td>\n",
       "    </tr>\n",
       "    <tr>\n",
       "      <th>2</th>\n",
       "      <td>3</td>\n",
       "      <td>15619304</td>\n",
       "      <td>Onio</td>\n",
       "      <td>502</td>\n",
       "      <td>France</td>\n",
       "      <td>Female</td>\n",
       "      <td>42</td>\n",
       "      <td>8.0</td>\n",
       "      <td>159660.80</td>\n",
       "      <td>3</td>\n",
       "      <td>1</td>\n",
       "      <td>0</td>\n",
       "      <td>113931.57</td>\n",
       "      <td>1</td>\n",
       "    </tr>\n",
       "    <tr>\n",
       "      <th>3</th>\n",
       "      <td>4</td>\n",
       "      <td>15701354</td>\n",
       "      <td>Boni</td>\n",
       "      <td>699</td>\n",
       "      <td>France</td>\n",
       "      <td>Female</td>\n",
       "      <td>39</td>\n",
       "      <td>1.0</td>\n",
       "      <td>0.00</td>\n",
       "      <td>2</td>\n",
       "      <td>0</td>\n",
       "      <td>0</td>\n",
       "      <td>93826.63</td>\n",
       "      <td>0</td>\n",
       "    </tr>\n",
       "    <tr>\n",
       "      <th>4</th>\n",
       "      <td>5</td>\n",
       "      <td>15737888</td>\n",
       "      <td>Mitchell</td>\n",
       "      <td>850</td>\n",
       "      <td>Spain</td>\n",
       "      <td>Female</td>\n",
       "      <td>43</td>\n",
       "      <td>2.0</td>\n",
       "      <td>125510.82</td>\n",
       "      <td>1</td>\n",
       "      <td>1</td>\n",
       "      <td>1</td>\n",
       "      <td>79084.10</td>\n",
       "      <td>0</td>\n",
       "    </tr>\n",
       "    <tr>\n",
       "      <th>5</th>\n",
       "      <td>6</td>\n",
       "      <td>15574012</td>\n",
       "      <td>Chu</td>\n",
       "      <td>645</td>\n",
       "      <td>Spain</td>\n",
       "      <td>Male</td>\n",
       "      <td>44</td>\n",
       "      <td>8.0</td>\n",
       "      <td>113755.78</td>\n",
       "      <td>2</td>\n",
       "      <td>1</td>\n",
       "      <td>0</td>\n",
       "      <td>149756.71</td>\n",
       "      <td>1</td>\n",
       "    </tr>\n",
       "    <tr>\n",
       "      <th>6</th>\n",
       "      <td>7</td>\n",
       "      <td>15592531</td>\n",
       "      <td>Bartlett</td>\n",
       "      <td>822</td>\n",
       "      <td>France</td>\n",
       "      <td>Male</td>\n",
       "      <td>50</td>\n",
       "      <td>7.0</td>\n",
       "      <td>0.00</td>\n",
       "      <td>2</td>\n",
       "      <td>1</td>\n",
       "      <td>1</td>\n",
       "      <td>10062.80</td>\n",
       "      <td>0</td>\n",
       "    </tr>\n",
       "    <tr>\n",
       "      <th>7</th>\n",
       "      <td>8</td>\n",
       "      <td>15656148</td>\n",
       "      <td>Obinna</td>\n",
       "      <td>376</td>\n",
       "      <td>Germany</td>\n",
       "      <td>Female</td>\n",
       "      <td>29</td>\n",
       "      <td>4.0</td>\n",
       "      <td>115046.74</td>\n",
       "      <td>4</td>\n",
       "      <td>1</td>\n",
       "      <td>0</td>\n",
       "      <td>119346.88</td>\n",
       "      <td>1</td>\n",
       "    </tr>\n",
       "    <tr>\n",
       "      <th>8</th>\n",
       "      <td>9</td>\n",
       "      <td>15792365</td>\n",
       "      <td>He</td>\n",
       "      <td>501</td>\n",
       "      <td>France</td>\n",
       "      <td>Male</td>\n",
       "      <td>44</td>\n",
       "      <td>4.0</td>\n",
       "      <td>142051.07</td>\n",
       "      <td>2</td>\n",
       "      <td>0</td>\n",
       "      <td>1</td>\n",
       "      <td>74940.50</td>\n",
       "      <td>0</td>\n",
       "    </tr>\n",
       "    <tr>\n",
       "      <th>9</th>\n",
       "      <td>10</td>\n",
       "      <td>15592389</td>\n",
       "      <td>H?</td>\n",
       "      <td>684</td>\n",
       "      <td>France</td>\n",
       "      <td>Male</td>\n",
       "      <td>27</td>\n",
       "      <td>2.0</td>\n",
       "      <td>134603.88</td>\n",
       "      <td>1</td>\n",
       "      <td>1</td>\n",
       "      <td>1</td>\n",
       "      <td>71725.73</td>\n",
       "      <td>0</td>\n",
       "    </tr>\n",
       "  </tbody>\n",
       "</table>\n",
       "</div>"
      ],
      "text/plain": [
       "   RowNumber  CustomerId   Surname  CreditScore Geography  Gender  Age  \\\n",
       "0          1    15634602  Hargrave          619    France  Female   42   \n",
       "1          2    15647311      Hill          608     Spain  Female   41   \n",
       "2          3    15619304      Onio          502    France  Female   42   \n",
       "3          4    15701354      Boni          699    France  Female   39   \n",
       "4          5    15737888  Mitchell          850     Spain  Female   43   \n",
       "5          6    15574012       Chu          645     Spain    Male   44   \n",
       "6          7    15592531  Bartlett          822    France    Male   50   \n",
       "7          8    15656148    Obinna          376   Germany  Female   29   \n",
       "8          9    15792365        He          501    France    Male   44   \n",
       "9         10    15592389        H?          684    France    Male   27   \n",
       "\n",
       "   Tenure    Balance  NumOfProducts  HasCrCard  IsActiveMember  \\\n",
       "0     2.0       0.00              1          1               1   \n",
       "1     1.0   83807.86              1          0               1   \n",
       "2     8.0  159660.80              3          1               0   \n",
       "3     1.0       0.00              2          0               0   \n",
       "4     2.0  125510.82              1          1               1   \n",
       "5     8.0  113755.78              2          1               0   \n",
       "6     7.0       0.00              2          1               1   \n",
       "7     4.0  115046.74              4          1               0   \n",
       "8     4.0  142051.07              2          0               1   \n",
       "9     2.0  134603.88              1          1               1   \n",
       "\n",
       "   EstimatedSalary  Exited  \n",
       "0        101348.88       1  \n",
       "1        112542.58       0  \n",
       "2        113931.57       1  \n",
       "3         93826.63       0  \n",
       "4         79084.10       0  \n",
       "5        149756.71       1  \n",
       "6         10062.80       0  \n",
       "7        119346.88       1  \n",
       "8         74940.50       0  \n",
       "9         71725.73       0  "
      ]
     },
     "metadata": {},
     "output_type": "display_data"
    }
   ],
   "source": [
    "data=pd.read_csv('/datasets/Churn.csv')\n",
    "print(data.info())\n",
    "display(data.head(10))"
   ]
  },
  {
   "cell_type": "code",
   "execution_count": 3,
   "id": "3154e872",
   "metadata": {},
   "outputs": [],
   "source": [
    "data.columns = data.columns.str.lower()"
   ]
  },
  {
   "cell_type": "code",
   "execution_count": 4,
   "id": "b7bd4fd1",
   "metadata": {},
   "outputs": [
    {
     "name": "stdout",
     "output_type": "stream",
     "text": [
      "909\n"
     ]
    }
   ],
   "source": [
    "print(data['tenure'].isna().sum()) "
   ]
  },
  {
   "cell_type": "code",
   "execution_count": 5,
   "id": "f1cef155",
   "metadata": {},
   "outputs": [
    {
     "name": "stdout",
     "output_type": "stream",
     "text": [
      "0\n"
     ]
    }
   ],
   "source": [
    "data = data.dropna(subset=['tenure'])\n",
    "print(data['tenure'].isna().sum()) "
   ]
  },
  {
   "cell_type": "code",
   "execution_count": 6,
   "id": "719fc3be",
   "metadata": {},
   "outputs": [],
   "source": [
    "data['tenure'] = data['tenure'].astype('int')"
   ]
  },
  {
   "cell_type": "markdown",
   "id": "93b3b647",
   "metadata": {},
   "source": [
    "Для дальнейшего обучения моделей все категориальные столбцы необходимо преобразовать в числительные. Используем метод One-Hot Encoding. Предаврительно разделим выборку на обучающую, валидационную и тестовую выборки. Столбец с номерами, номерами ID, фамилиями можно удалить, поскольку эти значения на обучение модели не повлияют."
   ]
  },
  {
   "cell_type": "code",
   "execution_count": 7,
   "id": "f0df72f0",
   "metadata": {},
   "outputs": [
    {
     "data": {
      "text/html": [
       "<div>\n",
       "<style scoped>\n",
       "    .dataframe tbody tr th:only-of-type {\n",
       "        vertical-align: middle;\n",
       "    }\n",
       "\n",
       "    .dataframe tbody tr th {\n",
       "        vertical-align: top;\n",
       "    }\n",
       "\n",
       "    .dataframe thead th {\n",
       "        text-align: right;\n",
       "    }\n",
       "</style>\n",
       "<table border=\"1\" class=\"dataframe\">\n",
       "  <thead>\n",
       "    <tr style=\"text-align: right;\">\n",
       "      <th></th>\n",
       "      <th>creditscore</th>\n",
       "      <th>age</th>\n",
       "      <th>tenure</th>\n",
       "      <th>balance</th>\n",
       "      <th>numofproducts</th>\n",
       "      <th>hascrcard</th>\n",
       "      <th>isactivemember</th>\n",
       "      <th>estimatedsalary</th>\n",
       "      <th>exited</th>\n",
       "      <th>geography_France</th>\n",
       "      <th>geography_Germany</th>\n",
       "      <th>geography_Spain</th>\n",
       "      <th>gender_Female</th>\n",
       "      <th>gender_Male</th>\n",
       "    </tr>\n",
       "  </thead>\n",
       "  <tbody>\n",
       "    <tr>\n",
       "      <th>0</th>\n",
       "      <td>619</td>\n",
       "      <td>42</td>\n",
       "      <td>2</td>\n",
       "      <td>0.00</td>\n",
       "      <td>1</td>\n",
       "      <td>1</td>\n",
       "      <td>1</td>\n",
       "      <td>101348.88</td>\n",
       "      <td>1</td>\n",
       "      <td>1</td>\n",
       "      <td>0</td>\n",
       "      <td>0</td>\n",
       "      <td>1</td>\n",
       "      <td>0</td>\n",
       "    </tr>\n",
       "    <tr>\n",
       "      <th>1</th>\n",
       "      <td>608</td>\n",
       "      <td>41</td>\n",
       "      <td>1</td>\n",
       "      <td>83807.86</td>\n",
       "      <td>1</td>\n",
       "      <td>0</td>\n",
       "      <td>1</td>\n",
       "      <td>112542.58</td>\n",
       "      <td>0</td>\n",
       "      <td>0</td>\n",
       "      <td>0</td>\n",
       "      <td>1</td>\n",
       "      <td>1</td>\n",
       "      <td>0</td>\n",
       "    </tr>\n",
       "    <tr>\n",
       "      <th>2</th>\n",
       "      <td>502</td>\n",
       "      <td>42</td>\n",
       "      <td>8</td>\n",
       "      <td>159660.80</td>\n",
       "      <td>3</td>\n",
       "      <td>1</td>\n",
       "      <td>0</td>\n",
       "      <td>113931.57</td>\n",
       "      <td>1</td>\n",
       "      <td>1</td>\n",
       "      <td>0</td>\n",
       "      <td>0</td>\n",
       "      <td>1</td>\n",
       "      <td>0</td>\n",
       "    </tr>\n",
       "  </tbody>\n",
       "</table>\n",
       "</div>"
      ],
      "text/plain": [
       "   creditscore  age  tenure    balance  numofproducts  hascrcard  \\\n",
       "0          619   42       2       0.00              1          1   \n",
       "1          608   41       1   83807.86              1          0   \n",
       "2          502   42       8  159660.80              3          1   \n",
       "\n",
       "   isactivemember  estimatedsalary  exited  geography_France  \\\n",
       "0               1        101348.88       1                 1   \n",
       "1               1        112542.58       0                 0   \n",
       "2               0        113931.57       1                 1   \n",
       "\n",
       "   geography_Germany  geography_Spain  gender_Female  gender_Male  \n",
       "0                  0                0              1            0  \n",
       "1                  0                1              1            0  \n",
       "2                  0                0              1            0  "
      ]
     },
     "metadata": {},
     "output_type": "display_data"
    }
   ],
   "source": [
    "data=data.drop(['surname', 'rownumber', 'customerid'], axis=1)\n",
    "data_ohe = pd.get_dummies(data, drop_first = False)\n",
    "display(data_ohe.head(3))"
   ]
  },
  {
   "cell_type": "markdown",
   "id": "11ec6804",
   "metadata": {},
   "source": [
    "**2  Исследование задачи**"
   ]
  },
  {
   "cell_type": "markdown",
   "id": "f8dcde46",
   "metadata": {},
   "source": [
    "Исследуем баланс классов."
   ]
  },
  {
   "cell_type": "code",
   "execution_count": 9,
   "id": "a274cabd",
   "metadata": {},
   "outputs": [
    {
     "name": "stdout",
     "output_type": "stream",
     "text": [
      "0    7237\n",
      "1    1854\n",
      "Name: exited, dtype: int64\n"
     ]
    }
   ],
   "source": [
    "print(data_ohe.exited.value_counts());"
   ]
  },
  {
   "cell_type": "markdown",
   "id": "6f583f8d",
   "metadata": {},
   "source": [
    "Столбец с целевым признаком несбалансирован. Попробуем обучить модель на таких данных"
   ]
  },
  {
   "cell_type": "code",
   "execution_count": 10,
   "id": "921057fd",
   "metadata": {},
   "outputs": [],
   "source": [
    "target = data_ohe['exited']\n",
    "features = data_ohe.drop(['exited'], axis=1)\n",
    "features_train, features_valid, target_train, target_valid = train_test_split(\n",
    "    features, target, test_size=0.4, random_state=12345, stratify = data_ohe['exited'])\n",
    "features_valid, features_test, target_valid, target_test = train_test_split(\n",
    "    features_valid, target_valid, test_size=0.5, random_state=12345, stratify = target_valid)"
   ]
  },
  {
   "cell_type": "markdown",
   "id": "307bfc18",
   "metadata": {},
   "source": [
    "Найдем результаты работы модели - DecisionTreeClassifier."
   ]
  },
  {
   "cell_type": "code",
   "execution_count": 11,
   "id": "7196cedd",
   "metadata": {},
   "outputs": [
    {
     "name": "stdout",
     "output_type": "stream",
     "text": [
      "0.5862646566164155 7\n"
     ]
    }
   ],
   "source": [
    "best_result=0\n",
    "depth_1 = 0\n",
    "for depth in range(1, 8):\n",
    "    model = DecisionTreeClassifier(random_state=12345, max_depth=depth) \n",
    "    model.fit(features_train, target_train) \n",
    "    predictions_valid = model.predict(features_valid)\n",
    "    result_1 = f1_score(target_valid, predictions_valid)\n",
    "    if result_1 > best_result:\n",
    "        best_result = result_1\n",
    "        depth_1 = depth\n",
    "print(best_result, depth_1)"
   ]
  },
  {
   "cell_type": "markdown",
   "id": "85a4d709",
   "metadata": {},
   "source": [
    "Мера F1 показывает соотношение полноты и точности. Полученное значение F1 показывает, что положительный класс прогнозируется не слишком хорошо, это значение ощутимо меньше, чем необходимое."
   ]
  },
  {
   "cell_type": "code",
   "execution_count": 12,
   "id": "85f2c413",
   "metadata": {},
   "outputs": [
    {
     "name": "stdout",
     "output_type": "stream",
     "text": [
      "0.07637231503579953\n"
     ]
    }
   ],
   "source": [
    "model2 = LogisticRegression(random_state = 12345, solver = 'liblinear', max_iter=1000)\n",
    "model2.fit(features_train, target_train)\n",
    "predicted_valid = model2.predict(features_valid)\n",
    "f1 = f1_score(target_valid, predicted_valid)\n",
    "print(f1)"
   ]
  },
  {
   "cell_type": "markdown",
   "id": "0e6267fe",
   "metadata": {},
   "source": [
    "F1 - мера показывает, что даннае модель недостаточно хорошо предсказывают возможные варианта ухода клиента. Попробуем улучшить исходные данные, чтобы улучшить результаты работы модели"
   ]
  },
  {
   "cell_type": "markdown",
   "id": "ffc46484",
   "metadata": {},
   "source": [
    "**3  Борьба с дисбалансом**"
   ]
  },
  {
   "cell_type": "markdown",
   "id": "b83a4004",
   "metadata": {},
   "source": [
    "Ранее уже выяснили, что положительных ответов достаточно мало. Можем сбалансировать данные, добавив положительные ответы."
   ]
  },
  {
   "cell_type": "code",
   "execution_count": 13,
   "id": "396a7ca8",
   "metadata": {},
   "outputs": [],
   "source": [
    "def upsample(features, target, repeat):\n",
    "    features_zeros = features[target == 0]\n",
    "    features_ones = features[target == 1]\n",
    "    target_zeros = target[target == 0]\n",
    "    target_ones = target[target == 1]\n",
    "\n",
    "    features_upsampled = pd.concat([features_zeros] + [features_ones] * repeat)\n",
    "    target_upsampled = pd.concat([target_zeros] + [target_ones] * repeat)\n",
    "    \n",
    "    features_upsampled, target_upsampled = shuffle(\n",
    "        features_upsampled, target_upsampled, random_state=12345)\n",
    "    \n",
    "    return features_upsampled, target_upsampled"
   ]
  },
  {
   "cell_type": "code",
   "execution_count": 14,
   "id": "41f43f1e",
   "metadata": {},
   "outputs": [
    {
     "name": "stdout",
     "output_type": "stream",
     "text": [
      "0.6022099447513812 5\n"
     ]
    }
   ],
   "source": [
    "best_result=0\n",
    "depth = 0\n",
    "for depth in range(1, 9):\n",
    "    features_upsampled, target_upsampled = upsample(features_train, target_train, 2)\n",
    "    model = DecisionTreeClassifier(random_state=12345, max_depth=depth) \n",
    "    model.fit(features_upsampled, target_upsampled) \n",
    "    predicted_valid = model.predict(features_valid)\n",
    "    result = f1_score(target_valid, predicted_valid)\n",
    "    if result > best_result:\n",
    "        best_result = result\n",
    "        depth_1 = depth\n",
    "print(best_result, depth_1)"
   ]
  },
  {
   "cell_type": "code",
   "execution_count": 15,
   "id": "45a0dd2f",
   "metadata": {},
   "outputs": [
    {
     "name": "stdout",
     "output_type": "stream",
     "text": [
      "0.36305732484076436\n"
     ]
    }
   ],
   "source": [
    "model = LogisticRegression(random_state = 12345, solver = 'liblinear', max_iter=5000)\n",
    "model.fit(features_upsampled, target_upsampled)\n",
    "predicted_valid = model. predict(features_valid)\n",
    "f1 = f1_score(target_valid, predicted_valid)\n",
    "print(f1)"
   ]
  },
  {
   "cell_type": "markdown",
   "id": "18c934fe",
   "metadata": {},
   "source": [
    "Попробуем балансировку данных с уменьшением отрицательных вариантов."
   ]
  },
  {
   "cell_type": "code",
   "execution_count": 16,
   "id": "3cc7aa62",
   "metadata": {},
   "outputs": [],
   "source": [
    "def downsample(features, target, fraction):\n",
    "    features_zeros = features[target == 0]\n",
    "    features_ones = features[target == 1]\n",
    "    target_zeros = target[target == 0]\n",
    "    target_ones = target[target == 1]\n",
    "\n",
    "    features_downsampled = pd.concat([features_zeros.sample(frac=fraction, random_state=12345)] + [features_ones])\n",
    "    target_downsampled = pd.concat([target_zeros.sample(frac=fraction, random_state=12345)] + [target_ones])\n",
    "    \n",
    "    features_downsampled, target_downsampled = shuffle(\n",
    "        features_downsampled, target_downsampled, random_state=12345)\n",
    "    \n",
    "    return features_downsampled, target_downsampled"
   ]
  },
  {
   "cell_type": "code",
   "execution_count": 17,
   "id": "8367863f",
   "metadata": {},
   "outputs": [
    {
     "name": "stdout",
     "output_type": "stream",
     "text": [
      "0.4801223241590214 7\n"
     ]
    }
   ],
   "source": [
    "best_result=0\n",
    "depth = 0\n",
    "for depth in range(1, 8):\n",
    "    features_downsampled, target_downsampled = downsample(features_train, target_train, 0.1)\n",
    "    model = DecisionTreeClassifier(random_state=12345, max_depth=depth) \n",
    "    model.fit(features_downsampled, target_downsampled) \n",
    "    predicted_valid = model.predict(features_valid)\n",
    "    result = f1_score(target_valid, predicted_valid)\n",
    "    if result > best_result:\n",
    "        best_result = result\n",
    "        depth_1 = depth\n",
    "print(best_result, depth_1)"
   ]
  },
  {
   "cell_type": "code",
   "execution_count": 18,
   "id": "52a7c30c",
   "metadata": {},
   "outputs": [
    {
     "name": "stdout",
     "output_type": "stream",
     "text": [
      "0.3677452491011813\n"
     ]
    }
   ],
   "source": [
    "model = LogisticRegression(random_state = 12345, solver = 'liblinear', max_iter=1000)\n",
    "model.fit(features_downsampled, target_downsampled)\n",
    "predicted_valid = model.predict(features_valid)\n",
    "f1 = f1_score(target_valid, predicted_valid)\n",
    "print(f1)"
   ]
  },
  {
   "cell_type": "markdown",
   "id": "b9998827",
   "metadata": {},
   "source": [
    "Попробуем придать объектам более редкого класса больший вес - установим величину class weight = balanced."
   ]
  },
  {
   "cell_type": "code",
   "execution_count": 19,
   "id": "57a940e3",
   "metadata": {},
   "outputs": [
    {
     "name": "stdout",
     "output_type": "stream",
     "text": [
      "0.583084577114428 6\n"
     ]
    }
   ],
   "source": [
    "best_result=0\n",
    "depth = 0\n",
    "for depth in range(1, 9):\n",
    "    model = DecisionTreeClassifier(random_state=12345, class_weight='balanced', max_depth=depth) \n",
    "    model.fit(features_train, target_train) \n",
    "    predicted_valid = model.predict(features_valid)\n",
    "    result = f1_score(target_valid, predicted_valid)\n",
    "    if result > best_result:\n",
    "        best_result = result\n",
    "        depth_1 = depth\n",
    "print(best_result, depth_1)"
   ]
  },
  {
   "cell_type": "code",
   "execution_count": 20,
   "id": "4adc501c",
   "metadata": {},
   "outputs": [
    {
     "name": "stdout",
     "output_type": "stream",
     "text": [
      "0.4556737588652482\n"
     ]
    }
   ],
   "source": [
    "model = LogisticRegression(random_state = 12345, solver = 'lbfgs', max_iter=1000, class_weight='balanced')\n",
    "model.fit(features_train, target_train)\n",
    "predicted_valid = model. predict(features_valid)\n",
    "f1 = f1_score(target_valid, predicted_valid)\n",
    "print(f1)"
   ]
  },
  {
   "cell_type": "markdown",
   "id": "4b2e0b75",
   "metadata": {},
   "source": [
    "Наилучшие данные метрики F1 получены с использованием балансировки данных увеличением выборки.\n",
    "Для тестирования модели возьмем именно этот - самый успешный вариант."
   ]
  },
  {
   "cell_type": "markdown",
   "id": "6688d21e",
   "metadata": {},
   "source": [
    "**4  Тестирование модели**"
   ]
  },
  {
   "cell_type": "code",
   "execution_count": 21,
   "id": "4efbadba",
   "metadata": {},
   "outputs": [
    {
     "name": "stdout",
     "output_type": "stream",
     "text": [
      "0.5921787709497207\n",
      "0.8131515167309498\n"
     ]
    }
   ],
   "source": [
    "features_upsampled, target_upsampled = upsample(features_train, target_train, 2)\n",
    "model = DecisionTreeClassifier(random_state=12345, max_depth=7)\n",
    "model.fit(features_upsampled, target_upsampled)\n",
    "predicted_test = model. predict(features_test)\n",
    "f1 = f1_score(target_test, predicted_test)\n",
    "probabilities_valid = model.predict_proba(features_test)\n",
    "probabilities_one_valid = probabilities_valid[:, 1]\n",
    "auc_roc = roc_auc_score(target_test, probabilities_one_valid)\n",
    "print(f1)\n",
    "print(auc_roc)"
   ]
  },
  {
   "cell_type": "markdown",
   "id": "6c6e17f9",
   "metadata": {},
   "source": [
    "Обучили модель предсказания дальнейшего поведения клиента. Мера F1 = 0.5921787709497207, что соответствует требованиям заказчика. Дополнительно проверим значени метрики auc_roc. В нашем случае, значение этой метрики 0.8131515167309498, что достаточно близко к 1 (максимально возможному результаты для данной метрики)."
   ]
  },
  {
   "cell_type": "markdown",
   "id": "1be06313",
   "metadata": {},
   "source": [
    "**Заключение**\n",
    "\n",
    "Для банка необходимо составить прогноз о возможном уходе клиента из банка в ближайшее время. На основании исторических данных о поведении клиентов и расторжении договоров с банком, построим модели, прогнозирующие требуемые данные.\n",
    "\n",
    "1. Подготовка данных\n",
    "\n",
    "Рассмотрим, имеющиеся данные. Имеется таблица с 10000 строк, в столбцах расположены личные данные клиентов банка: фамилии, кредитный рейтинг, страна проживания и т.д. Для начала приведем все названия столбцов к привычному написанию – все буквы строчные. В столбце tenure – данные о количестве лет сотрудничества клиента с банком – имеются пропущенные значения. Присваиваем им значение 0, поскольку вероятнее всего, пропущены значения в тех строках, где клиент является клиентом банка менее 1 года. Значения в этом столбце приведем к целочисленным данным. Значения во всех категориальных столбцах приведем к численным – присвоим категории для значений фамилий, страны проживания и пола клиента.\n",
    "\n",
    "2. Исследование задачи\n",
    "\n",
    "Баланс классов в столбце с целевым признаком не соблюден. Но для начала проведем обучение модели на несбалансированных данных. Данные поделили на три части: обучающую, валидационную и тестовую. Обучающая часть - самая большая выборка – составила 60% от изначально предоставленных данных. Оставшуюся часть поделили по 20% от общих данных для валидации модели и тестирования. Для сравнения используем модели обучения: DecisionTreeClassifier (дерево решений) и LogisticRegression (логистическая регрессия). Основная определяющая метрика качества предсказаний модели – F1.\n",
    "\n",
    "3. Борьба с дисбалансом\n",
    "\n",
    "Попробуем сбалансировать выборку и сравним результаты обучения модели на сбалансированных данных. Первый способ – увеличить количество положительных классов. Берем значения =1, увеличиваем в несколько раз и перемешиваем среди остальных данных. Результаты обучения модели на таких данных для дерева решений - 0.6022099447513812, логистической регрессии - 0.36305732484076436. Второй способ - уменьшаем количество отрицательных классов. Берем значения =0, уменьшаем их количество до 0,1, и перемешиваем среди остальных данных. Результаты обучения модели на таких данных для дерева решений - 0.4801223241590214, логистической регрессии - 0.3677452491011813. Что чуть хуже, чем при предыдущем балансировании. Третий способ – повысим важность класса, установим величину class weight = balanced. Результаты обучения модели на таких данных для дерева решений - 0.583084577114428, логистической регрессии - 0.4556737588652482. Наилучший результат был достигнут моделью Дерево решений при увеличении выборки. Для дальнейшего тестирования используем эту модель.\n",
    "\n",
    "4. Тестирование модели\n",
    "\n",
    "Возьмем параметры, давшие наилучший результат метрики F1, и протестируем на тестовой выборке. Дополнительно исследуем метрику auc-roc. Достигли значения метрики F1 - 0.5921787709497207, auc_roc = 0.8131515167309498. Это позволяет использовать данную модель для дальнейшего предсказания поведения клиентов."
   ]
  }
 ],
 "metadata": {
  "ExecuteTimeLog": [
   {
    "duration": 1039,
    "start_time": "2023-01-29T13:28:01.795Z"
   },
   {
    "duration": 207,
    "start_time": "2023-01-29T13:28:07.268Z"
   },
   {
    "duration": 3,
    "start_time": "2023-01-29T13:28:10.726Z"
   },
   {
    "duration": 4,
    "start_time": "2023-01-29T13:28:12.229Z"
   },
   {
    "duration": 9,
    "start_time": "2023-01-29T13:28:12.946Z"
   },
   {
    "duration": 4,
    "start_time": "2023-01-29T13:28:13.541Z"
   },
   {
    "duration": 22,
    "start_time": "2023-01-29T13:28:14.687Z"
   },
   {
    "duration": 5,
    "start_time": "2023-01-29T13:28:58.747Z"
   },
   {
    "duration": 6,
    "start_time": "2023-01-29T13:29:13.072Z"
   },
   {
    "duration": 13,
    "start_time": "2023-01-29T13:29:15.994Z"
   },
   {
    "duration": 94,
    "start_time": "2023-01-29T13:29:19.265Z"
   },
   {
    "duration": 36,
    "start_time": "2023-01-29T13:29:21.952Z"
   },
   {
    "duration": 4,
    "start_time": "2023-01-29T13:29:25.705Z"
   },
   {
    "duration": 164,
    "start_time": "2023-01-29T13:29:27.730Z"
   },
   {
    "duration": 40,
    "start_time": "2023-01-29T13:29:28.615Z"
   },
   {
    "duration": 5,
    "start_time": "2023-01-29T13:29:31.148Z"
   },
   {
    "duration": 88,
    "start_time": "2023-01-29T13:29:33.161Z"
   },
   {
    "duration": 17,
    "start_time": "2023-01-29T13:29:34.038Z"
   },
   {
    "duration": 119,
    "start_time": "2023-01-29T13:29:36.535Z"
   },
   {
    "duration": 965,
    "start_time": "2023-01-29T13:29:37.187Z"
   },
   {
    "duration": 38,
    "start_time": "2023-01-29T13:29:41.770Z"
   }
  ],
  "kernelspec": {
   "display_name": "Python 3 (ipykernel)",
   "language": "python",
   "name": "python3"
  },
  "language_info": {
   "codemirror_mode": {
    "name": "ipython",
    "version": 3
   },
   "file_extension": ".py",
   "mimetype": "text/x-python",
   "name": "python",
   "nbconvert_exporter": "python",
   "pygments_lexer": "ipython3",
   "version": "3.9.5"
  },
  "toc": {
   "base_numbering": 1,
   "nav_menu": {},
   "number_sections": true,
   "sideBar": true,
   "skip_h1_title": true,
   "title_cell": "Table of Contents",
   "title_sidebar": "Contents",
   "toc_cell": false,
   "toc_position": {},
   "toc_section_display": true,
   "toc_window_display": false
  }
 },
 "nbformat": 4,
 "nbformat_minor": 5
}
