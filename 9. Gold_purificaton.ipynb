{
 "cells": [
  {
   "cell_type": "markdown",
   "id": "98a60c37",
   "metadata": {},
   "source": [
    "Для компании \"Цифра\", разрабатывающей решения для эффективной работы промышленных предприятий, необходимо обучить модель предсказывать коэффициент восстановления золота из данной руды Имеются данные со значениями добычи и очистки золотосодержащей руды. Модель поможет оптимизировать процесс производства, чтобы предприятие работало без убытков."
   ]
  },
  {
   "cell_type": "markdown",
   "id": "4ceec8bd",
   "metadata": {},
   "source": [
    "**1  Подготовка данных**"
   ]
  },
  {
   "cell_type": "code",
   "execution_count": 1,
   "id": "5f80910f",
   "metadata": {},
   "outputs": [],
   "source": [
    "import matplotlib.pyplot as plt\n",
    "import numpy as np\n",
    "import pandas as pd\n",
    "import seaborn as sns\n",
    "from sklearn.dummy import DummyRegressor\n",
    "from sklearn.ensemble import RandomForestRegressor\n",
    "from sklearn.linear_model import LinearRegression\n",
    "from sklearn.tree import DecisionTreeRegressor\n",
    "from sklearn.metrics import mean_absolute_error\n",
    "from sklearn.metrics import fbeta_score, make_scorer\n",
    "from sklearn.model_selection import cross_val_score\n",
    "from sklearn.model_selection import GridSearchCV"
   ]
  },
  {
   "cell_type": "code",
   "execution_count": 2,
   "id": "301450c1",
   "metadata": {},
   "outputs": [
    {
     "data": {
      "text/html": [
       "<div>\n",
       "<style scoped>\n",
       "    .dataframe tbody tr th:only-of-type {\n",
       "        vertical-align: middle;\n",
       "    }\n",
       "\n",
       "    .dataframe tbody tr th {\n",
       "        vertical-align: top;\n",
       "    }\n",
       "\n",
       "    .dataframe thead th {\n",
       "        text-align: right;\n",
       "    }\n",
       "</style>\n",
       "<table border=\"1\" class=\"dataframe\">\n",
       "  <thead>\n",
       "    <tr style=\"text-align: right;\">\n",
       "      <th></th>\n",
       "      <th>date</th>\n",
       "      <th>final.output.concentrate_ag</th>\n",
       "      <th>final.output.concentrate_pb</th>\n",
       "      <th>final.output.concentrate_sol</th>\n",
       "      <th>final.output.concentrate_au</th>\n",
       "      <th>final.output.recovery</th>\n",
       "      <th>final.output.tail_ag</th>\n",
       "      <th>final.output.tail_pb</th>\n",
       "      <th>final.output.tail_sol</th>\n",
       "      <th>final.output.tail_au</th>\n",
       "      <th>...</th>\n",
       "      <th>secondary_cleaner.state.floatbank4_a_air</th>\n",
       "      <th>secondary_cleaner.state.floatbank4_a_level</th>\n",
       "      <th>secondary_cleaner.state.floatbank4_b_air</th>\n",
       "      <th>secondary_cleaner.state.floatbank4_b_level</th>\n",
       "      <th>secondary_cleaner.state.floatbank5_a_air</th>\n",
       "      <th>secondary_cleaner.state.floatbank5_a_level</th>\n",
       "      <th>secondary_cleaner.state.floatbank5_b_air</th>\n",
       "      <th>secondary_cleaner.state.floatbank5_b_level</th>\n",
       "      <th>secondary_cleaner.state.floatbank6_a_air</th>\n",
       "      <th>secondary_cleaner.state.floatbank6_a_level</th>\n",
       "    </tr>\n",
       "  </thead>\n",
       "  <tbody>\n",
       "    <tr>\n",
       "      <th>0</th>\n",
       "      <td>2016-01-15 00:00:00</td>\n",
       "      <td>6.055403</td>\n",
       "      <td>9.889648</td>\n",
       "      <td>5.507324</td>\n",
       "      <td>42.192020</td>\n",
       "      <td>70.541216</td>\n",
       "      <td>10.411962</td>\n",
       "      <td>0.895447</td>\n",
       "      <td>16.904297</td>\n",
       "      <td>2.143149</td>\n",
       "      <td>...</td>\n",
       "      <td>14.016835</td>\n",
       "      <td>-502.488007</td>\n",
       "      <td>12.099931</td>\n",
       "      <td>-504.715942</td>\n",
       "      <td>9.925633</td>\n",
       "      <td>-498.310211</td>\n",
       "      <td>8.079666</td>\n",
       "      <td>-500.470978</td>\n",
       "      <td>14.151341</td>\n",
       "      <td>-605.841980</td>\n",
       "    </tr>\n",
       "    <tr>\n",
       "      <th>1</th>\n",
       "      <td>2016-01-15 01:00:00</td>\n",
       "      <td>6.029369</td>\n",
       "      <td>9.968944</td>\n",
       "      <td>5.257781</td>\n",
       "      <td>42.701629</td>\n",
       "      <td>69.266198</td>\n",
       "      <td>10.462676</td>\n",
       "      <td>0.927452</td>\n",
       "      <td>16.634514</td>\n",
       "      <td>2.224930</td>\n",
       "      <td>...</td>\n",
       "      <td>13.992281</td>\n",
       "      <td>-505.503262</td>\n",
       "      <td>11.950531</td>\n",
       "      <td>-501.331529</td>\n",
       "      <td>10.039245</td>\n",
       "      <td>-500.169983</td>\n",
       "      <td>7.984757</td>\n",
       "      <td>-500.582168</td>\n",
       "      <td>13.998353</td>\n",
       "      <td>-599.787184</td>\n",
       "    </tr>\n",
       "    <tr>\n",
       "      <th>2</th>\n",
       "      <td>2016-01-15 02:00:00</td>\n",
       "      <td>6.055926</td>\n",
       "      <td>10.213995</td>\n",
       "      <td>5.383759</td>\n",
       "      <td>42.657501</td>\n",
       "      <td>68.116445</td>\n",
       "      <td>10.507046</td>\n",
       "      <td>0.953716</td>\n",
       "      <td>16.208849</td>\n",
       "      <td>2.257889</td>\n",
       "      <td>...</td>\n",
       "      <td>14.015015</td>\n",
       "      <td>-502.520901</td>\n",
       "      <td>11.912783</td>\n",
       "      <td>-501.133383</td>\n",
       "      <td>10.070913</td>\n",
       "      <td>-500.129135</td>\n",
       "      <td>8.013877</td>\n",
       "      <td>-500.517572</td>\n",
       "      <td>14.028663</td>\n",
       "      <td>-601.427363</td>\n",
       "    </tr>\n",
       "    <tr>\n",
       "      <th>3</th>\n",
       "      <td>2016-01-15 03:00:00</td>\n",
       "      <td>6.047977</td>\n",
       "      <td>9.977019</td>\n",
       "      <td>4.858634</td>\n",
       "      <td>42.689819</td>\n",
       "      <td>68.347543</td>\n",
       "      <td>10.422762</td>\n",
       "      <td>0.883763</td>\n",
       "      <td>16.532835</td>\n",
       "      <td>2.146849</td>\n",
       "      <td>...</td>\n",
       "      <td>14.036510</td>\n",
       "      <td>-500.857308</td>\n",
       "      <td>11.999550</td>\n",
       "      <td>-501.193686</td>\n",
       "      <td>9.970366</td>\n",
       "      <td>-499.201640</td>\n",
       "      <td>7.977324</td>\n",
       "      <td>-500.255908</td>\n",
       "      <td>14.005551</td>\n",
       "      <td>-599.996129</td>\n",
       "    </tr>\n",
       "    <tr>\n",
       "      <th>4</th>\n",
       "      <td>2016-01-15 04:00:00</td>\n",
       "      <td>6.148599</td>\n",
       "      <td>10.142511</td>\n",
       "      <td>4.939416</td>\n",
       "      <td>42.774141</td>\n",
       "      <td>66.927016</td>\n",
       "      <td>10.360302</td>\n",
       "      <td>0.792826</td>\n",
       "      <td>16.525686</td>\n",
       "      <td>2.055292</td>\n",
       "      <td>...</td>\n",
       "      <td>14.027298</td>\n",
       "      <td>-499.838632</td>\n",
       "      <td>11.953070</td>\n",
       "      <td>-501.053894</td>\n",
       "      <td>9.925709</td>\n",
       "      <td>-501.686727</td>\n",
       "      <td>7.894242</td>\n",
       "      <td>-500.356035</td>\n",
       "      <td>13.996647</td>\n",
       "      <td>-601.496691</td>\n",
       "    </tr>\n",
       "  </tbody>\n",
       "</table>\n",
       "<p>5 rows × 87 columns</p>\n",
       "</div>"
      ],
      "text/plain": [
       "                  date  final.output.concentrate_ag  \\\n",
       "0  2016-01-15 00:00:00                     6.055403   \n",
       "1  2016-01-15 01:00:00                     6.029369   \n",
       "2  2016-01-15 02:00:00                     6.055926   \n",
       "3  2016-01-15 03:00:00                     6.047977   \n",
       "4  2016-01-15 04:00:00                     6.148599   \n",
       "\n",
       "   final.output.concentrate_pb  final.output.concentrate_sol  \\\n",
       "0                     9.889648                      5.507324   \n",
       "1                     9.968944                      5.257781   \n",
       "2                    10.213995                      5.383759   \n",
       "3                     9.977019                      4.858634   \n",
       "4                    10.142511                      4.939416   \n",
       "\n",
       "   final.output.concentrate_au  final.output.recovery  final.output.tail_ag  \\\n",
       "0                    42.192020              70.541216             10.411962   \n",
       "1                    42.701629              69.266198             10.462676   \n",
       "2                    42.657501              68.116445             10.507046   \n",
       "3                    42.689819              68.347543             10.422762   \n",
       "4                    42.774141              66.927016             10.360302   \n",
       "\n",
       "   final.output.tail_pb  final.output.tail_sol  final.output.tail_au  ...  \\\n",
       "0              0.895447              16.904297              2.143149  ...   \n",
       "1              0.927452              16.634514              2.224930  ...   \n",
       "2              0.953716              16.208849              2.257889  ...   \n",
       "3              0.883763              16.532835              2.146849  ...   \n",
       "4              0.792826              16.525686              2.055292  ...   \n",
       "\n",
       "   secondary_cleaner.state.floatbank4_a_air  \\\n",
       "0                                 14.016835   \n",
       "1                                 13.992281   \n",
       "2                                 14.015015   \n",
       "3                                 14.036510   \n",
       "4                                 14.027298   \n",
       "\n",
       "   secondary_cleaner.state.floatbank4_a_level  \\\n",
       "0                                 -502.488007   \n",
       "1                                 -505.503262   \n",
       "2                                 -502.520901   \n",
       "3                                 -500.857308   \n",
       "4                                 -499.838632   \n",
       "\n",
       "   secondary_cleaner.state.floatbank4_b_air  \\\n",
       "0                                 12.099931   \n",
       "1                                 11.950531   \n",
       "2                                 11.912783   \n",
       "3                                 11.999550   \n",
       "4                                 11.953070   \n",
       "\n",
       "   secondary_cleaner.state.floatbank4_b_level  \\\n",
       "0                                 -504.715942   \n",
       "1                                 -501.331529   \n",
       "2                                 -501.133383   \n",
       "3                                 -501.193686   \n",
       "4                                 -501.053894   \n",
       "\n",
       "   secondary_cleaner.state.floatbank5_a_air  \\\n",
       "0                                  9.925633   \n",
       "1                                 10.039245   \n",
       "2                                 10.070913   \n",
       "3                                  9.970366   \n",
       "4                                  9.925709   \n",
       "\n",
       "   secondary_cleaner.state.floatbank5_a_level  \\\n",
       "0                                 -498.310211   \n",
       "1                                 -500.169983   \n",
       "2                                 -500.129135   \n",
       "3                                 -499.201640   \n",
       "4                                 -501.686727   \n",
       "\n",
       "   secondary_cleaner.state.floatbank5_b_air  \\\n",
       "0                                  8.079666   \n",
       "1                                  7.984757   \n",
       "2                                  8.013877   \n",
       "3                                  7.977324   \n",
       "4                                  7.894242   \n",
       "\n",
       "   secondary_cleaner.state.floatbank5_b_level  \\\n",
       "0                                 -500.470978   \n",
       "1                                 -500.582168   \n",
       "2                                 -500.517572   \n",
       "3                                 -500.255908   \n",
       "4                                 -500.356035   \n",
       "\n",
       "   secondary_cleaner.state.floatbank6_a_air  \\\n",
       "0                                 14.151341   \n",
       "1                                 13.998353   \n",
       "2                                 14.028663   \n",
       "3                                 14.005551   \n",
       "4                                 13.996647   \n",
       "\n",
       "   secondary_cleaner.state.floatbank6_a_level  \n",
       "0                                 -605.841980  \n",
       "1                                 -599.787184  \n",
       "2                                 -601.427363  \n",
       "3                                 -599.996129  \n",
       "4                                 -601.496691  \n",
       "\n",
       "[5 rows x 87 columns]"
      ]
     },
     "metadata": {},
     "output_type": "display_data"
    },
    {
     "data": {
      "text/html": [
       "<div>\n",
       "<style scoped>\n",
       "    .dataframe tbody tr th:only-of-type {\n",
       "        vertical-align: middle;\n",
       "    }\n",
       "\n",
       "    .dataframe tbody tr th {\n",
       "        vertical-align: top;\n",
       "    }\n",
       "\n",
       "    .dataframe thead th {\n",
       "        text-align: right;\n",
       "    }\n",
       "</style>\n",
       "<table border=\"1\" class=\"dataframe\">\n",
       "  <thead>\n",
       "    <tr style=\"text-align: right;\">\n",
       "      <th></th>\n",
       "      <th>date</th>\n",
       "      <th>primary_cleaner.input.sulfate</th>\n",
       "      <th>primary_cleaner.input.depressant</th>\n",
       "      <th>primary_cleaner.input.feed_size</th>\n",
       "      <th>primary_cleaner.input.xanthate</th>\n",
       "      <th>primary_cleaner.state.floatbank8_a_air</th>\n",
       "      <th>primary_cleaner.state.floatbank8_a_level</th>\n",
       "      <th>primary_cleaner.state.floatbank8_b_air</th>\n",
       "      <th>primary_cleaner.state.floatbank8_b_level</th>\n",
       "      <th>primary_cleaner.state.floatbank8_c_air</th>\n",
       "      <th>...</th>\n",
       "      <th>secondary_cleaner.state.floatbank4_a_air</th>\n",
       "      <th>secondary_cleaner.state.floatbank4_a_level</th>\n",
       "      <th>secondary_cleaner.state.floatbank4_b_air</th>\n",
       "      <th>secondary_cleaner.state.floatbank4_b_level</th>\n",
       "      <th>secondary_cleaner.state.floatbank5_a_air</th>\n",
       "      <th>secondary_cleaner.state.floatbank5_a_level</th>\n",
       "      <th>secondary_cleaner.state.floatbank5_b_air</th>\n",
       "      <th>secondary_cleaner.state.floatbank5_b_level</th>\n",
       "      <th>secondary_cleaner.state.floatbank6_a_air</th>\n",
       "      <th>secondary_cleaner.state.floatbank6_a_level</th>\n",
       "    </tr>\n",
       "  </thead>\n",
       "  <tbody>\n",
       "    <tr>\n",
       "      <th>0</th>\n",
       "      <td>2016-09-01 00:59:59</td>\n",
       "      <td>210.800909</td>\n",
       "      <td>14.993118</td>\n",
       "      <td>8.080000</td>\n",
       "      <td>1.005021</td>\n",
       "      <td>1398.981301</td>\n",
       "      <td>-500.225577</td>\n",
       "      <td>1399.144926</td>\n",
       "      <td>-499.919735</td>\n",
       "      <td>1400.102998</td>\n",
       "      <td>...</td>\n",
       "      <td>12.023554</td>\n",
       "      <td>-497.795834</td>\n",
       "      <td>8.016656</td>\n",
       "      <td>-501.289139</td>\n",
       "      <td>7.946562</td>\n",
       "      <td>-432.317850</td>\n",
       "      <td>4.872511</td>\n",
       "      <td>-500.037437</td>\n",
       "      <td>26.705889</td>\n",
       "      <td>-499.709414</td>\n",
       "    </tr>\n",
       "    <tr>\n",
       "      <th>1</th>\n",
       "      <td>2016-09-01 01:59:59</td>\n",
       "      <td>215.392455</td>\n",
       "      <td>14.987471</td>\n",
       "      <td>8.080000</td>\n",
       "      <td>0.990469</td>\n",
       "      <td>1398.777912</td>\n",
       "      <td>-500.057435</td>\n",
       "      <td>1398.055362</td>\n",
       "      <td>-499.778182</td>\n",
       "      <td>1396.151033</td>\n",
       "      <td>...</td>\n",
       "      <td>12.058140</td>\n",
       "      <td>-498.695773</td>\n",
       "      <td>8.130979</td>\n",
       "      <td>-499.634209</td>\n",
       "      <td>7.958270</td>\n",
       "      <td>-525.839648</td>\n",
       "      <td>4.878850</td>\n",
       "      <td>-500.162375</td>\n",
       "      <td>25.019940</td>\n",
       "      <td>-499.819438</td>\n",
       "    </tr>\n",
       "    <tr>\n",
       "      <th>2</th>\n",
       "      <td>2016-09-01 02:59:59</td>\n",
       "      <td>215.259946</td>\n",
       "      <td>12.884934</td>\n",
       "      <td>7.786667</td>\n",
       "      <td>0.996043</td>\n",
       "      <td>1398.493666</td>\n",
       "      <td>-500.868360</td>\n",
       "      <td>1398.860436</td>\n",
       "      <td>-499.764529</td>\n",
       "      <td>1398.075709</td>\n",
       "      <td>...</td>\n",
       "      <td>11.962366</td>\n",
       "      <td>-498.767484</td>\n",
       "      <td>8.096893</td>\n",
       "      <td>-500.827423</td>\n",
       "      <td>8.071056</td>\n",
       "      <td>-500.801673</td>\n",
       "      <td>4.905125</td>\n",
       "      <td>-499.828510</td>\n",
       "      <td>24.994862</td>\n",
       "      <td>-500.622559</td>\n",
       "    </tr>\n",
       "    <tr>\n",
       "      <th>3</th>\n",
       "      <td>2016-09-01 03:59:59</td>\n",
       "      <td>215.336236</td>\n",
       "      <td>12.006805</td>\n",
       "      <td>7.640000</td>\n",
       "      <td>0.863514</td>\n",
       "      <td>1399.618111</td>\n",
       "      <td>-498.863574</td>\n",
       "      <td>1397.440120</td>\n",
       "      <td>-499.211024</td>\n",
       "      <td>1400.129303</td>\n",
       "      <td>...</td>\n",
       "      <td>12.033091</td>\n",
       "      <td>-498.350935</td>\n",
       "      <td>8.074946</td>\n",
       "      <td>-499.474407</td>\n",
       "      <td>7.897085</td>\n",
       "      <td>-500.868509</td>\n",
       "      <td>4.931400</td>\n",
       "      <td>-499.963623</td>\n",
       "      <td>24.948919</td>\n",
       "      <td>-498.709987</td>\n",
       "    </tr>\n",
       "    <tr>\n",
       "      <th>4</th>\n",
       "      <td>2016-09-01 04:59:59</td>\n",
       "      <td>199.099327</td>\n",
       "      <td>10.682530</td>\n",
       "      <td>7.530000</td>\n",
       "      <td>0.805575</td>\n",
       "      <td>1401.268123</td>\n",
       "      <td>-500.808305</td>\n",
       "      <td>1398.128818</td>\n",
       "      <td>-499.504543</td>\n",
       "      <td>1402.172226</td>\n",
       "      <td>...</td>\n",
       "      <td>12.025367</td>\n",
       "      <td>-500.786497</td>\n",
       "      <td>8.054678</td>\n",
       "      <td>-500.397500</td>\n",
       "      <td>8.107890</td>\n",
       "      <td>-509.526725</td>\n",
       "      <td>4.957674</td>\n",
       "      <td>-500.360026</td>\n",
       "      <td>25.003331</td>\n",
       "      <td>-500.856333</td>\n",
       "    </tr>\n",
       "  </tbody>\n",
       "</table>\n",
       "<p>5 rows × 53 columns</p>\n",
       "</div>"
      ],
      "text/plain": [
       "                  date  primary_cleaner.input.sulfate  \\\n",
       "0  2016-09-01 00:59:59                     210.800909   \n",
       "1  2016-09-01 01:59:59                     215.392455   \n",
       "2  2016-09-01 02:59:59                     215.259946   \n",
       "3  2016-09-01 03:59:59                     215.336236   \n",
       "4  2016-09-01 04:59:59                     199.099327   \n",
       "\n",
       "   primary_cleaner.input.depressant  primary_cleaner.input.feed_size  \\\n",
       "0                         14.993118                         8.080000   \n",
       "1                         14.987471                         8.080000   \n",
       "2                         12.884934                         7.786667   \n",
       "3                         12.006805                         7.640000   \n",
       "4                         10.682530                         7.530000   \n",
       "\n",
       "   primary_cleaner.input.xanthate  primary_cleaner.state.floatbank8_a_air  \\\n",
       "0                        1.005021                             1398.981301   \n",
       "1                        0.990469                             1398.777912   \n",
       "2                        0.996043                             1398.493666   \n",
       "3                        0.863514                             1399.618111   \n",
       "4                        0.805575                             1401.268123   \n",
       "\n",
       "   primary_cleaner.state.floatbank8_a_level  \\\n",
       "0                               -500.225577   \n",
       "1                               -500.057435   \n",
       "2                               -500.868360   \n",
       "3                               -498.863574   \n",
       "4                               -500.808305   \n",
       "\n",
       "   primary_cleaner.state.floatbank8_b_air  \\\n",
       "0                             1399.144926   \n",
       "1                             1398.055362   \n",
       "2                             1398.860436   \n",
       "3                             1397.440120   \n",
       "4                             1398.128818   \n",
       "\n",
       "   primary_cleaner.state.floatbank8_b_level  \\\n",
       "0                               -499.919735   \n",
       "1                               -499.778182   \n",
       "2                               -499.764529   \n",
       "3                               -499.211024   \n",
       "4                               -499.504543   \n",
       "\n",
       "   primary_cleaner.state.floatbank8_c_air  ...  \\\n",
       "0                             1400.102998  ...   \n",
       "1                             1396.151033  ...   \n",
       "2                             1398.075709  ...   \n",
       "3                             1400.129303  ...   \n",
       "4                             1402.172226  ...   \n",
       "\n",
       "   secondary_cleaner.state.floatbank4_a_air  \\\n",
       "0                                 12.023554   \n",
       "1                                 12.058140   \n",
       "2                                 11.962366   \n",
       "3                                 12.033091   \n",
       "4                                 12.025367   \n",
       "\n",
       "   secondary_cleaner.state.floatbank4_a_level  \\\n",
       "0                                 -497.795834   \n",
       "1                                 -498.695773   \n",
       "2                                 -498.767484   \n",
       "3                                 -498.350935   \n",
       "4                                 -500.786497   \n",
       "\n",
       "   secondary_cleaner.state.floatbank4_b_air  \\\n",
       "0                                  8.016656   \n",
       "1                                  8.130979   \n",
       "2                                  8.096893   \n",
       "3                                  8.074946   \n",
       "4                                  8.054678   \n",
       "\n",
       "   secondary_cleaner.state.floatbank4_b_level  \\\n",
       "0                                 -501.289139   \n",
       "1                                 -499.634209   \n",
       "2                                 -500.827423   \n",
       "3                                 -499.474407   \n",
       "4                                 -500.397500   \n",
       "\n",
       "   secondary_cleaner.state.floatbank5_a_air  \\\n",
       "0                                  7.946562   \n",
       "1                                  7.958270   \n",
       "2                                  8.071056   \n",
       "3                                  7.897085   \n",
       "4                                  8.107890   \n",
       "\n",
       "   secondary_cleaner.state.floatbank5_a_level  \\\n",
       "0                                 -432.317850   \n",
       "1                                 -525.839648   \n",
       "2                                 -500.801673   \n",
       "3                                 -500.868509   \n",
       "4                                 -509.526725   \n",
       "\n",
       "   secondary_cleaner.state.floatbank5_b_air  \\\n",
       "0                                  4.872511   \n",
       "1                                  4.878850   \n",
       "2                                  4.905125   \n",
       "3                                  4.931400   \n",
       "4                                  4.957674   \n",
       "\n",
       "   secondary_cleaner.state.floatbank5_b_level  \\\n",
       "0                                 -500.037437   \n",
       "1                                 -500.162375   \n",
       "2                                 -499.828510   \n",
       "3                                 -499.963623   \n",
       "4                                 -500.360026   \n",
       "\n",
       "   secondary_cleaner.state.floatbank6_a_air  \\\n",
       "0                                 26.705889   \n",
       "1                                 25.019940   \n",
       "2                                 24.994862   \n",
       "3                                 24.948919   \n",
       "4                                 25.003331   \n",
       "\n",
       "   secondary_cleaner.state.floatbank6_a_level  \n",
       "0                                 -499.709414  \n",
       "1                                 -499.819438  \n",
       "2                                 -500.622559  \n",
       "3                                 -498.709987  \n",
       "4                                 -500.856333  \n",
       "\n",
       "[5 rows x 53 columns]"
      ]
     },
     "metadata": {},
     "output_type": "display_data"
    },
    {
     "data": {
      "text/html": [
       "<div>\n",
       "<style scoped>\n",
       "    .dataframe tbody tr th:only-of-type {\n",
       "        vertical-align: middle;\n",
       "    }\n",
       "\n",
       "    .dataframe tbody tr th {\n",
       "        vertical-align: top;\n",
       "    }\n",
       "\n",
       "    .dataframe thead th {\n",
       "        text-align: right;\n",
       "    }\n",
       "</style>\n",
       "<table border=\"1\" class=\"dataframe\">\n",
       "  <thead>\n",
       "    <tr style=\"text-align: right;\">\n",
       "      <th></th>\n",
       "      <th>date</th>\n",
       "      <th>final.output.concentrate_ag</th>\n",
       "      <th>final.output.concentrate_pb</th>\n",
       "      <th>final.output.concentrate_sol</th>\n",
       "      <th>final.output.concentrate_au</th>\n",
       "      <th>final.output.recovery</th>\n",
       "      <th>final.output.tail_ag</th>\n",
       "      <th>final.output.tail_pb</th>\n",
       "      <th>final.output.tail_sol</th>\n",
       "      <th>final.output.tail_au</th>\n",
       "      <th>...</th>\n",
       "      <th>secondary_cleaner.state.floatbank4_a_air</th>\n",
       "      <th>secondary_cleaner.state.floatbank4_a_level</th>\n",
       "      <th>secondary_cleaner.state.floatbank4_b_air</th>\n",
       "      <th>secondary_cleaner.state.floatbank4_b_level</th>\n",
       "      <th>secondary_cleaner.state.floatbank5_a_air</th>\n",
       "      <th>secondary_cleaner.state.floatbank5_a_level</th>\n",
       "      <th>secondary_cleaner.state.floatbank5_b_air</th>\n",
       "      <th>secondary_cleaner.state.floatbank5_b_level</th>\n",
       "      <th>secondary_cleaner.state.floatbank6_a_air</th>\n",
       "      <th>secondary_cleaner.state.floatbank6_a_level</th>\n",
       "    </tr>\n",
       "  </thead>\n",
       "  <tbody>\n",
       "    <tr>\n",
       "      <th>0</th>\n",
       "      <td>2016-01-15 00:00:00</td>\n",
       "      <td>6.055403</td>\n",
       "      <td>9.889648</td>\n",
       "      <td>5.507324</td>\n",
       "      <td>42.192020</td>\n",
       "      <td>70.541216</td>\n",
       "      <td>10.411962</td>\n",
       "      <td>0.895447</td>\n",
       "      <td>16.904297</td>\n",
       "      <td>2.143149</td>\n",
       "      <td>...</td>\n",
       "      <td>14.016835</td>\n",
       "      <td>-502.488007</td>\n",
       "      <td>12.099931</td>\n",
       "      <td>-504.715942</td>\n",
       "      <td>9.925633</td>\n",
       "      <td>-498.310211</td>\n",
       "      <td>8.079666</td>\n",
       "      <td>-500.470978</td>\n",
       "      <td>14.151341</td>\n",
       "      <td>-605.841980</td>\n",
       "    </tr>\n",
       "    <tr>\n",
       "      <th>1</th>\n",
       "      <td>2016-01-15 01:00:00</td>\n",
       "      <td>6.029369</td>\n",
       "      <td>9.968944</td>\n",
       "      <td>5.257781</td>\n",
       "      <td>42.701629</td>\n",
       "      <td>69.266198</td>\n",
       "      <td>10.462676</td>\n",
       "      <td>0.927452</td>\n",
       "      <td>16.634514</td>\n",
       "      <td>2.224930</td>\n",
       "      <td>...</td>\n",
       "      <td>13.992281</td>\n",
       "      <td>-505.503262</td>\n",
       "      <td>11.950531</td>\n",
       "      <td>-501.331529</td>\n",
       "      <td>10.039245</td>\n",
       "      <td>-500.169983</td>\n",
       "      <td>7.984757</td>\n",
       "      <td>-500.582168</td>\n",
       "      <td>13.998353</td>\n",
       "      <td>-599.787184</td>\n",
       "    </tr>\n",
       "    <tr>\n",
       "      <th>2</th>\n",
       "      <td>2016-01-15 02:00:00</td>\n",
       "      <td>6.055926</td>\n",
       "      <td>10.213995</td>\n",
       "      <td>5.383759</td>\n",
       "      <td>42.657501</td>\n",
       "      <td>68.116445</td>\n",
       "      <td>10.507046</td>\n",
       "      <td>0.953716</td>\n",
       "      <td>16.208849</td>\n",
       "      <td>2.257889</td>\n",
       "      <td>...</td>\n",
       "      <td>14.015015</td>\n",
       "      <td>-502.520901</td>\n",
       "      <td>11.912783</td>\n",
       "      <td>-501.133383</td>\n",
       "      <td>10.070913</td>\n",
       "      <td>-500.129135</td>\n",
       "      <td>8.013877</td>\n",
       "      <td>-500.517572</td>\n",
       "      <td>14.028663</td>\n",
       "      <td>-601.427363</td>\n",
       "    </tr>\n",
       "    <tr>\n",
       "      <th>3</th>\n",
       "      <td>2016-01-15 03:00:00</td>\n",
       "      <td>6.047977</td>\n",
       "      <td>9.977019</td>\n",
       "      <td>4.858634</td>\n",
       "      <td>42.689819</td>\n",
       "      <td>68.347543</td>\n",
       "      <td>10.422762</td>\n",
       "      <td>0.883763</td>\n",
       "      <td>16.532835</td>\n",
       "      <td>2.146849</td>\n",
       "      <td>...</td>\n",
       "      <td>14.036510</td>\n",
       "      <td>-500.857308</td>\n",
       "      <td>11.999550</td>\n",
       "      <td>-501.193686</td>\n",
       "      <td>9.970366</td>\n",
       "      <td>-499.201640</td>\n",
       "      <td>7.977324</td>\n",
       "      <td>-500.255908</td>\n",
       "      <td>14.005551</td>\n",
       "      <td>-599.996129</td>\n",
       "    </tr>\n",
       "    <tr>\n",
       "      <th>4</th>\n",
       "      <td>2016-01-15 04:00:00</td>\n",
       "      <td>6.148599</td>\n",
       "      <td>10.142511</td>\n",
       "      <td>4.939416</td>\n",
       "      <td>42.774141</td>\n",
       "      <td>66.927016</td>\n",
       "      <td>10.360302</td>\n",
       "      <td>0.792826</td>\n",
       "      <td>16.525686</td>\n",
       "      <td>2.055292</td>\n",
       "      <td>...</td>\n",
       "      <td>14.027298</td>\n",
       "      <td>-499.838632</td>\n",
       "      <td>11.953070</td>\n",
       "      <td>-501.053894</td>\n",
       "      <td>9.925709</td>\n",
       "      <td>-501.686727</td>\n",
       "      <td>7.894242</td>\n",
       "      <td>-500.356035</td>\n",
       "      <td>13.996647</td>\n",
       "      <td>-601.496691</td>\n",
       "    </tr>\n",
       "  </tbody>\n",
       "</table>\n",
       "<p>5 rows × 87 columns</p>\n",
       "</div>"
      ],
      "text/plain": [
       "                  date  final.output.concentrate_ag  \\\n",
       "0  2016-01-15 00:00:00                     6.055403   \n",
       "1  2016-01-15 01:00:00                     6.029369   \n",
       "2  2016-01-15 02:00:00                     6.055926   \n",
       "3  2016-01-15 03:00:00                     6.047977   \n",
       "4  2016-01-15 04:00:00                     6.148599   \n",
       "\n",
       "   final.output.concentrate_pb  final.output.concentrate_sol  \\\n",
       "0                     9.889648                      5.507324   \n",
       "1                     9.968944                      5.257781   \n",
       "2                    10.213995                      5.383759   \n",
       "3                     9.977019                      4.858634   \n",
       "4                    10.142511                      4.939416   \n",
       "\n",
       "   final.output.concentrate_au  final.output.recovery  final.output.tail_ag  \\\n",
       "0                    42.192020              70.541216             10.411962   \n",
       "1                    42.701629              69.266198             10.462676   \n",
       "2                    42.657501              68.116445             10.507046   \n",
       "3                    42.689819              68.347543             10.422762   \n",
       "4                    42.774141              66.927016             10.360302   \n",
       "\n",
       "   final.output.tail_pb  final.output.tail_sol  final.output.tail_au  ...  \\\n",
       "0              0.895447              16.904297              2.143149  ...   \n",
       "1              0.927452              16.634514              2.224930  ...   \n",
       "2              0.953716              16.208849              2.257889  ...   \n",
       "3              0.883763              16.532835              2.146849  ...   \n",
       "4              0.792826              16.525686              2.055292  ...   \n",
       "\n",
       "   secondary_cleaner.state.floatbank4_a_air  \\\n",
       "0                                 14.016835   \n",
       "1                                 13.992281   \n",
       "2                                 14.015015   \n",
       "3                                 14.036510   \n",
       "4                                 14.027298   \n",
       "\n",
       "   secondary_cleaner.state.floatbank4_a_level  \\\n",
       "0                                 -502.488007   \n",
       "1                                 -505.503262   \n",
       "2                                 -502.520901   \n",
       "3                                 -500.857308   \n",
       "4                                 -499.838632   \n",
       "\n",
       "   secondary_cleaner.state.floatbank4_b_air  \\\n",
       "0                                 12.099931   \n",
       "1                                 11.950531   \n",
       "2                                 11.912783   \n",
       "3                                 11.999550   \n",
       "4                                 11.953070   \n",
       "\n",
       "   secondary_cleaner.state.floatbank4_b_level  \\\n",
       "0                                 -504.715942   \n",
       "1                                 -501.331529   \n",
       "2                                 -501.133383   \n",
       "3                                 -501.193686   \n",
       "4                                 -501.053894   \n",
       "\n",
       "   secondary_cleaner.state.floatbank5_a_air  \\\n",
       "0                                  9.925633   \n",
       "1                                 10.039245   \n",
       "2                                 10.070913   \n",
       "3                                  9.970366   \n",
       "4                                  9.925709   \n",
       "\n",
       "   secondary_cleaner.state.floatbank5_a_level  \\\n",
       "0                                 -498.310211   \n",
       "1                                 -500.169983   \n",
       "2                                 -500.129135   \n",
       "3                                 -499.201640   \n",
       "4                                 -501.686727   \n",
       "\n",
       "   secondary_cleaner.state.floatbank5_b_air  \\\n",
       "0                                  8.079666   \n",
       "1                                  7.984757   \n",
       "2                                  8.013877   \n",
       "3                                  7.977324   \n",
       "4                                  7.894242   \n",
       "\n",
       "   secondary_cleaner.state.floatbank5_b_level  \\\n",
       "0                                 -500.470978   \n",
       "1                                 -500.582168   \n",
       "2                                 -500.517572   \n",
       "3                                 -500.255908   \n",
       "4                                 -500.356035   \n",
       "\n",
       "   secondary_cleaner.state.floatbank6_a_air  \\\n",
       "0                                 14.151341   \n",
       "1                                 13.998353   \n",
       "2                                 14.028663   \n",
       "3                                 14.005551   \n",
       "4                                 13.996647   \n",
       "\n",
       "   secondary_cleaner.state.floatbank6_a_level  \n",
       "0                                 -605.841980  \n",
       "1                                 -599.787184  \n",
       "2                                 -601.427363  \n",
       "3                                 -599.996129  \n",
       "4                                 -601.496691  \n",
       "\n",
       "[5 rows x 87 columns]"
      ]
     },
     "metadata": {},
     "output_type": "display_data"
    }
   ],
   "source": [
    "data_train = pd.read_csv('/datasets/gold_recovery_train_new.csv')\n",
    "data_test = pd.read_csv('/datasets/gold_recovery_test_new.csv')\n",
    "data_full = pd.read_csv('/datasets/gold_recovery_full_new.csv')\n",
    "display(data_train.head())\n",
    "display(data_test.head())\n",
    "display(data_full.head())"
   ]
  },
  {
   "cell_type": "code",
   "execution_count": 3,
   "id": "a71774bd",
   "metadata": {},
   "outputs": [
    {
     "name": "stdout",
     "output_type": "stream",
     "text": [
      "(14149, 87)\n",
      "(5290, 53)\n",
      "(19439, 87)\n"
     ]
    }
   ],
   "source": [
    "print(data_train.shape)\n",
    "print(data_test.shape)\n",
    "print(data_full.shape)"
   ]
  },
  {
   "cell_type": "code",
   "execution_count": 4,
   "id": "9fe63683",
   "metadata": {},
   "outputs": [
    {
     "name": "stdout",
     "output_type": "stream",
     "text": [
      "<class 'pandas.core.frame.DataFrame'>\n",
      "RangeIndex: 14149 entries, 0 to 14148\n",
      "Data columns (total 87 columns):\n",
      " #   Column                                              Non-Null Count  Dtype  \n",
      "---  ------                                              --------------  -----  \n",
      " 0   date                                                14149 non-null  object \n",
      " 1   final.output.concentrate_ag                         14148 non-null  float64\n",
      " 2   final.output.concentrate_pb                         14148 non-null  float64\n",
      " 3   final.output.concentrate_sol                        13938 non-null  float64\n",
      " 4   final.output.concentrate_au                         14149 non-null  float64\n",
      " 5   final.output.recovery                               14149 non-null  float64\n",
      " 6   final.output.tail_ag                                14149 non-null  float64\n",
      " 7   final.output.tail_pb                                14049 non-null  float64\n",
      " 8   final.output.tail_sol                               14144 non-null  float64\n",
      " 9   final.output.tail_au                                14149 non-null  float64\n",
      " 10  primary_cleaner.input.sulfate                       14129 non-null  float64\n",
      " 11  primary_cleaner.input.depressant                    14117 non-null  float64\n",
      " 12  primary_cleaner.input.feed_size                     14149 non-null  float64\n",
      " 13  primary_cleaner.input.xanthate                      14049 non-null  float64\n",
      " 14  primary_cleaner.output.concentrate_ag               14149 non-null  float64\n",
      " 15  primary_cleaner.output.concentrate_pb               14063 non-null  float64\n",
      " 16  primary_cleaner.output.concentrate_sol              13863 non-null  float64\n",
      " 17  primary_cleaner.output.concentrate_au               14149 non-null  float64\n",
      " 18  primary_cleaner.output.tail_ag                      14148 non-null  float64\n",
      " 19  primary_cleaner.output.tail_pb                      14134 non-null  float64\n",
      " 20  primary_cleaner.output.tail_sol                     14103 non-null  float64\n",
      " 21  primary_cleaner.output.tail_au                      14149 non-null  float64\n",
      " 22  primary_cleaner.state.floatbank8_a_air              14145 non-null  float64\n",
      " 23  primary_cleaner.state.floatbank8_a_level            14148 non-null  float64\n",
      " 24  primary_cleaner.state.floatbank8_b_air              14145 non-null  float64\n",
      " 25  primary_cleaner.state.floatbank8_b_level            14148 non-null  float64\n",
      " 26  primary_cleaner.state.floatbank8_c_air              14147 non-null  float64\n",
      " 27  primary_cleaner.state.floatbank8_c_level            14148 non-null  float64\n",
      " 28  primary_cleaner.state.floatbank8_d_air              14146 non-null  float64\n",
      " 29  primary_cleaner.state.floatbank8_d_level            14148 non-null  float64\n",
      " 30  rougher.calculation.sulfate_to_au_concentrate       14148 non-null  float64\n",
      " 31  rougher.calculation.floatbank10_sulfate_to_au_feed  14148 non-null  float64\n",
      " 32  rougher.calculation.floatbank11_sulfate_to_au_feed  14148 non-null  float64\n",
      " 33  rougher.calculation.au_pb_ratio                     14149 non-null  float64\n",
      " 34  rougher.input.feed_ag                               14149 non-null  float64\n",
      " 35  rougher.input.feed_pb                               14049 non-null  float64\n",
      " 36  rougher.input.feed_rate                             14141 non-null  float64\n",
      " 37  rougher.input.feed_size                             14005 non-null  float64\n",
      " 38  rougher.input.feed_sol                              14071 non-null  float64\n",
      " 39  rougher.input.feed_au                               14149 non-null  float64\n",
      " 40  rougher.input.floatbank10_sulfate                   14120 non-null  float64\n",
      " 41  rougher.input.floatbank10_xanthate                  14141 non-null  float64\n",
      " 42  rougher.input.floatbank11_sulfate                   14113 non-null  float64\n",
      " 43  rougher.input.floatbank11_xanthate                  13721 non-null  float64\n",
      " 44  rougher.output.concentrate_ag                       14149 non-null  float64\n",
      " 45  rougher.output.concentrate_pb                       14149 non-null  float64\n",
      " 46  rougher.output.concentrate_sol                      14127 non-null  float64\n",
      " 47  rougher.output.concentrate_au                       14149 non-null  float64\n",
      " 48  rougher.output.recovery                             14149 non-null  float64\n",
      " 49  rougher.output.tail_ag                              14148 non-null  float64\n",
      " 50  rougher.output.tail_pb                              14149 non-null  float64\n",
      " 51  rougher.output.tail_sol                             14149 non-null  float64\n",
      " 52  rougher.output.tail_au                              14149 non-null  float64\n",
      " 53  rougher.state.floatbank10_a_air                     14148 non-null  float64\n",
      " 54  rougher.state.floatbank10_a_level                   14148 non-null  float64\n",
      " 55  rougher.state.floatbank10_b_air                     14148 non-null  float64\n",
      " 56  rougher.state.floatbank10_b_level                   14148 non-null  float64\n",
      " 57  rougher.state.floatbank10_c_air                     14148 non-null  float64\n",
      " 58  rougher.state.floatbank10_c_level                   14148 non-null  float64\n",
      " 59  rougher.state.floatbank10_d_air                     14149 non-null  float64\n",
      " 60  rougher.state.floatbank10_d_level                   14149 non-null  float64\n",
      " 61  rougher.state.floatbank10_e_air                     13713 non-null  float64\n",
      " 62  rougher.state.floatbank10_e_level                   14149 non-null  float64\n",
      " 63  rougher.state.floatbank10_f_air                     14149 non-null  float64\n",
      " 64  rougher.state.floatbank10_f_level                   14149 non-null  float64\n",
      " 65  secondary_cleaner.output.tail_ag                    14147 non-null  float64\n",
      " 66  secondary_cleaner.output.tail_pb                    14139 non-null  float64\n",
      " 67  secondary_cleaner.output.tail_sol                   12544 non-null  float64\n",
      " 68  secondary_cleaner.output.tail_au                    14149 non-null  float64\n",
      " 69  secondary_cleaner.state.floatbank2_a_air            13932 non-null  float64\n",
      " 70  secondary_cleaner.state.floatbank2_a_level          14148 non-null  float64\n",
      " 71  secondary_cleaner.state.floatbank2_b_air            14128 non-null  float64\n",
      " 72  secondary_cleaner.state.floatbank2_b_level          14148 non-null  float64\n",
      " 73  secondary_cleaner.state.floatbank3_a_air            14145 non-null  float64\n",
      " 74  secondary_cleaner.state.floatbank3_a_level          14148 non-null  float64\n",
      " 75  secondary_cleaner.state.floatbank3_b_air            14148 non-null  float64\n",
      " 76  secondary_cleaner.state.floatbank3_b_level          14148 non-null  float64\n",
      " 77  secondary_cleaner.state.floatbank4_a_air            14143 non-null  float64\n",
      " 78  secondary_cleaner.state.floatbank4_a_level          14148 non-null  float64\n",
      " 79  secondary_cleaner.state.floatbank4_b_air            14148 non-null  float64\n",
      " 80  secondary_cleaner.state.floatbank4_b_level          14148 non-null  float64\n",
      " 81  secondary_cleaner.state.floatbank5_a_air            14148 non-null  float64\n",
      " 82  secondary_cleaner.state.floatbank5_a_level          14148 non-null  float64\n",
      " 83  secondary_cleaner.state.floatbank5_b_air            14148 non-null  float64\n",
      " 84  secondary_cleaner.state.floatbank5_b_level          14148 non-null  float64\n",
      " 85  secondary_cleaner.state.floatbank6_a_air            14147 non-null  float64\n",
      " 86  secondary_cleaner.state.floatbank6_a_level          14148 non-null  float64\n",
      "dtypes: float64(86), object(1)\n",
      "memory usage: 9.4+ MB\n",
      "None\n",
      "<class 'pandas.core.frame.DataFrame'>\n",
      "RangeIndex: 5290 entries, 0 to 5289\n",
      "Data columns (total 53 columns):\n",
      " #   Column                                      Non-Null Count  Dtype  \n",
      "---  ------                                      --------------  -----  \n",
      " 0   date                                        5290 non-null   object \n",
      " 1   primary_cleaner.input.sulfate               5286 non-null   float64\n",
      " 2   primary_cleaner.input.depressant            5285 non-null   float64\n",
      " 3   primary_cleaner.input.feed_size             5290 non-null   float64\n",
      " 4   primary_cleaner.input.xanthate              5286 non-null   float64\n",
      " 5   primary_cleaner.state.floatbank8_a_air      5290 non-null   float64\n",
      " 6   primary_cleaner.state.floatbank8_a_level    5290 non-null   float64\n",
      " 7   primary_cleaner.state.floatbank8_b_air      5290 non-null   float64\n",
      " 8   primary_cleaner.state.floatbank8_b_level    5290 non-null   float64\n",
      " 9   primary_cleaner.state.floatbank8_c_air      5290 non-null   float64\n",
      " 10  primary_cleaner.state.floatbank8_c_level    5290 non-null   float64\n",
      " 11  primary_cleaner.state.floatbank8_d_air      5290 non-null   float64\n",
      " 12  primary_cleaner.state.floatbank8_d_level    5290 non-null   float64\n",
      " 13  rougher.input.feed_ag                       5290 non-null   float64\n",
      " 14  rougher.input.feed_pb                       5290 non-null   float64\n",
      " 15  rougher.input.feed_rate                     5287 non-null   float64\n",
      " 16  rougher.input.feed_size                     5289 non-null   float64\n",
      " 17  rougher.input.feed_sol                      5269 non-null   float64\n",
      " 18  rougher.input.feed_au                       5290 non-null   float64\n",
      " 19  rougher.input.floatbank10_sulfate           5285 non-null   float64\n",
      " 20  rougher.input.floatbank10_xanthate          5290 non-null   float64\n",
      " 21  rougher.input.floatbank11_sulfate           5282 non-null   float64\n",
      " 22  rougher.input.floatbank11_xanthate          5265 non-null   float64\n",
      " 23  rougher.state.floatbank10_a_air             5290 non-null   float64\n",
      " 24  rougher.state.floatbank10_a_level           5290 non-null   float64\n",
      " 25  rougher.state.floatbank10_b_air             5290 non-null   float64\n",
      " 26  rougher.state.floatbank10_b_level           5290 non-null   float64\n",
      " 27  rougher.state.floatbank10_c_air             5290 non-null   float64\n",
      " 28  rougher.state.floatbank10_c_level           5290 non-null   float64\n",
      " 29  rougher.state.floatbank10_d_air             5290 non-null   float64\n",
      " 30  rougher.state.floatbank10_d_level           5290 non-null   float64\n",
      " 31  rougher.state.floatbank10_e_air             5290 non-null   float64\n",
      " 32  rougher.state.floatbank10_e_level           5290 non-null   float64\n",
      " 33  rougher.state.floatbank10_f_air             5290 non-null   float64\n",
      " 34  rougher.state.floatbank10_f_level           5290 non-null   float64\n",
      " 35  secondary_cleaner.state.floatbank2_a_air    5287 non-null   float64\n",
      " 36  secondary_cleaner.state.floatbank2_a_level  5290 non-null   float64\n",
      " 37  secondary_cleaner.state.floatbank2_b_air    5288 non-null   float64\n",
      " 38  secondary_cleaner.state.floatbank2_b_level  5290 non-null   float64\n",
      " 39  secondary_cleaner.state.floatbank3_a_air    5281 non-null   float64\n",
      " 40  secondary_cleaner.state.floatbank3_a_level  5290 non-null   float64\n",
      " 41  secondary_cleaner.state.floatbank3_b_air    5290 non-null   float64\n",
      " 42  secondary_cleaner.state.floatbank3_b_level  5290 non-null   float64\n",
      " 43  secondary_cleaner.state.floatbank4_a_air    5290 non-null   float64\n",
      " 44  secondary_cleaner.state.floatbank4_a_level  5290 non-null   float64\n",
      " 45  secondary_cleaner.state.floatbank4_b_air    5290 non-null   float64\n",
      " 46  secondary_cleaner.state.floatbank4_b_level  5290 non-null   float64\n",
      " 47  secondary_cleaner.state.floatbank5_a_air    5290 non-null   float64\n",
      " 48  secondary_cleaner.state.floatbank5_a_level  5290 non-null   float64\n",
      " 49  secondary_cleaner.state.floatbank5_b_air    5290 non-null   float64\n",
      " 50  secondary_cleaner.state.floatbank5_b_level  5290 non-null   float64\n",
      " 51  secondary_cleaner.state.floatbank6_a_air    5290 non-null   float64\n",
      " 52  secondary_cleaner.state.floatbank6_a_level  5290 non-null   float64\n",
      "dtypes: float64(52), object(1)\n",
      "memory usage: 2.1+ MB\n",
      "None\n",
      "<class 'pandas.core.frame.DataFrame'>\n",
      "RangeIndex: 19439 entries, 0 to 19438\n",
      "Data columns (total 87 columns):\n",
      " #   Column                                              Non-Null Count  Dtype  \n",
      "---  ------                                              --------------  -----  \n",
      " 0   date                                                19439 non-null  object \n",
      " 1   final.output.concentrate_ag                         19438 non-null  float64\n",
      " 2   final.output.concentrate_pb                         19438 non-null  float64\n",
      " 3   final.output.concentrate_sol                        19228 non-null  float64\n",
      " 4   final.output.concentrate_au                         19439 non-null  float64\n",
      " 5   final.output.recovery                               19439 non-null  float64\n",
      " 6   final.output.tail_ag                                19438 non-null  float64\n",
      " 7   final.output.tail_pb                                19338 non-null  float64\n",
      " 8   final.output.tail_sol                               19433 non-null  float64\n",
      " 9   final.output.tail_au                                19439 non-null  float64\n",
      " 10  primary_cleaner.input.sulfate                       19415 non-null  float64\n",
      " 11  primary_cleaner.input.depressant                    19402 non-null  float64\n",
      " 12  primary_cleaner.input.feed_size                     19439 non-null  float64\n",
      " 13  primary_cleaner.input.xanthate                      19335 non-null  float64\n",
      " 14  primary_cleaner.output.concentrate_ag               19439 non-null  float64\n",
      " 15  primary_cleaner.output.concentrate_pb               19323 non-null  float64\n",
      " 16  primary_cleaner.output.concentrate_sol              19069 non-null  float64\n",
      " 17  primary_cleaner.output.concentrate_au               19439 non-null  float64\n",
      " 18  primary_cleaner.output.tail_ag                      19435 non-null  float64\n",
      " 19  primary_cleaner.output.tail_pb                      19418 non-null  float64\n",
      " 20  primary_cleaner.output.tail_sol                     19377 non-null  float64\n",
      " 21  primary_cleaner.output.tail_au                      19439 non-null  float64\n",
      " 22  primary_cleaner.state.floatbank8_a_air              19435 non-null  float64\n",
      " 23  primary_cleaner.state.floatbank8_a_level            19438 non-null  float64\n",
      " 24  primary_cleaner.state.floatbank8_b_air              19435 non-null  float64\n",
      " 25  primary_cleaner.state.floatbank8_b_level            19438 non-null  float64\n",
      " 26  primary_cleaner.state.floatbank8_c_air              19437 non-null  float64\n",
      " 27  primary_cleaner.state.floatbank8_c_level            19438 non-null  float64\n",
      " 28  primary_cleaner.state.floatbank8_d_air              19436 non-null  float64\n",
      " 29  primary_cleaner.state.floatbank8_d_level            19438 non-null  float64\n",
      " 30  rougher.calculation.sulfate_to_au_concentrate       19437 non-null  float64\n",
      " 31  rougher.calculation.floatbank10_sulfate_to_au_feed  19437 non-null  float64\n",
      " 32  rougher.calculation.floatbank11_sulfate_to_au_feed  19437 non-null  float64\n",
      " 33  rougher.calculation.au_pb_ratio                     19439 non-null  float64\n",
      " 34  rougher.input.feed_ag                               19439 non-null  float64\n",
      " 35  rougher.input.feed_pb                               19339 non-null  float64\n",
      " 36  rougher.input.feed_rate                             19428 non-null  float64\n",
      " 37  rougher.input.feed_size                             19294 non-null  float64\n",
      " 38  rougher.input.feed_sol                              19340 non-null  float64\n",
      " 39  rougher.input.feed_au                               19439 non-null  float64\n",
      " 40  rougher.input.floatbank10_sulfate                   19405 non-null  float64\n",
      " 41  rougher.input.floatbank10_xanthate                  19431 non-null  float64\n",
      " 42  rougher.input.floatbank11_sulfate                   19395 non-null  float64\n",
      " 43  rougher.input.floatbank11_xanthate                  18986 non-null  float64\n",
      " 44  rougher.output.concentrate_ag                       19439 non-null  float64\n",
      " 45  rougher.output.concentrate_pb                       19439 non-null  float64\n",
      " 46  rougher.output.concentrate_sol                      19416 non-null  float64\n",
      " 47  rougher.output.concentrate_au                       19439 non-null  float64\n",
      " 48  rougher.output.recovery                             19439 non-null  float64\n",
      " 49  rougher.output.tail_ag                              19438 non-null  float64\n",
      " 50  rougher.output.tail_pb                              19439 non-null  float64\n",
      " 51  rougher.output.tail_sol                             19439 non-null  float64\n",
      " 52  rougher.output.tail_au                              19439 non-null  float64\n",
      " 53  rougher.state.floatbank10_a_air                     19438 non-null  float64\n",
      " 54  rougher.state.floatbank10_a_level                   19438 non-null  float64\n",
      " 55  rougher.state.floatbank10_b_air                     19438 non-null  float64\n",
      " 56  rougher.state.floatbank10_b_level                   19438 non-null  float64\n",
      " 57  rougher.state.floatbank10_c_air                     19438 non-null  float64\n",
      " 58  rougher.state.floatbank10_c_level                   19438 non-null  float64\n",
      " 59  rougher.state.floatbank10_d_air                     19439 non-null  float64\n",
      " 60  rougher.state.floatbank10_d_level                   19439 non-null  float64\n",
      " 61  rougher.state.floatbank10_e_air                     19003 non-null  float64\n",
      " 62  rougher.state.floatbank10_e_level                   19439 non-null  float64\n",
      " 63  rougher.state.floatbank10_f_air                     19439 non-null  float64\n",
      " 64  rougher.state.floatbank10_f_level                   19439 non-null  float64\n",
      " 65  secondary_cleaner.output.tail_ag                    19437 non-null  float64\n",
      " 66  secondary_cleaner.output.tail_pb                    19427 non-null  float64\n",
      " 67  secondary_cleaner.output.tail_sol                   17691 non-null  float64\n",
      " 68  secondary_cleaner.output.tail_au                    19439 non-null  float64\n",
      " 69  secondary_cleaner.state.floatbank2_a_air            19219 non-null  float64\n",
      " 70  secondary_cleaner.state.floatbank2_a_level          19438 non-null  float64\n",
      " 71  secondary_cleaner.state.floatbank2_b_air            19416 non-null  float64\n",
      " 72  secondary_cleaner.state.floatbank2_b_level          19438 non-null  float64\n",
      " 73  secondary_cleaner.state.floatbank3_a_air            19426 non-null  float64\n",
      " 74  secondary_cleaner.state.floatbank3_a_level          19438 non-null  float64\n",
      " 75  secondary_cleaner.state.floatbank3_b_air            19438 non-null  float64\n",
      " 76  secondary_cleaner.state.floatbank3_b_level          19438 non-null  float64\n",
      " 77  secondary_cleaner.state.floatbank4_a_air            19433 non-null  float64\n",
      " 78  secondary_cleaner.state.floatbank4_a_level          19438 non-null  float64\n",
      " 79  secondary_cleaner.state.floatbank4_b_air            19438 non-null  float64\n",
      " 80  secondary_cleaner.state.floatbank4_b_level          19438 non-null  float64\n",
      " 81  secondary_cleaner.state.floatbank5_a_air            19438 non-null  float64\n",
      " 82  secondary_cleaner.state.floatbank5_a_level          19438 non-null  float64\n",
      " 83  secondary_cleaner.state.floatbank5_b_air            19438 non-null  float64\n",
      " 84  secondary_cleaner.state.floatbank5_b_level          19438 non-null  float64\n",
      " 85  secondary_cleaner.state.floatbank6_a_air            19437 non-null  float64\n",
      " 86  secondary_cleaner.state.floatbank6_a_level          19438 non-null  float64\n",
      "dtypes: float64(86), object(1)\n",
      "memory usage: 12.9+ MB\n",
      "None\n"
     ]
    }
   ],
   "source": [
    "print(data_train.info())\n",
    "print(data_test.info())\n",
    "print(data_full.info())"
   ]
  },
  {
   "cell_type": "markdown",
   "id": "1560e828",
   "metadata": {},
   "source": [
    "Добавим в тестовую выборку данные со значениями финального выхода продукта и полученного после флотации продукта."
   ]
  },
  {
   "cell_type": "code",
   "execution_count": 5,
   "id": "4730bd22",
   "metadata": {},
   "outputs": [],
   "source": [
    "data_test = data_test.merge(data_full[['date','final.output.recovery', 'rougher.output.recovery']], on='date', how = 'left')"
   ]
  },
  {
   "cell_type": "markdown",
   "id": "2d4cc1df",
   "metadata": {},
   "source": [
    "Согласно имеющимся данным, соседние данные похожи. Заполняем недостающие данные соседними."
   ]
  },
  {
   "cell_type": "code",
   "execution_count": 6,
   "id": "9e3fccb1",
   "metadata": {},
   "outputs": [],
   "source": [
    "data_train = data_train.ffill(axis=0) \n",
    "data_test = data_test.ffill(axis=0)\n",
    "data_full = data_full.ffill(axis=0)"
   ]
  },
  {
   "cell_type": "code",
   "execution_count": 7,
   "id": "323800dd",
   "metadata": {},
   "outputs": [
    {
     "name": "stdout",
     "output_type": "stream",
     "text": [
      "(14149, 87)\n",
      "(5290, 55)\n",
      "(19439, 87)\n"
     ]
    }
   ],
   "source": [
    "print(data_train.shape)\n",
    "print(data_test.shape)\n",
    "print(data_full.shape)"
   ]
  },
  {
   "cell_type": "markdown",
   "id": "7bc5fe41",
   "metadata": {},
   "source": [
    "Проверяем,правильно ли рассчитана эффективность обогащения на обучающей выборке для признака rougher.output.recovery."
   ]
  },
  {
   "cell_type": "code",
   "execution_count": 8,
   "id": "5fbd4d24",
   "metadata": {},
   "outputs": [],
   "source": [
    "c_value = data_train['rougher.output.concentrate_au'] \n",
    "t_value = data_train['rougher.output.tail_au']\n",
    "f_value = data_train['rougher.input.feed_au']    "
   ]
  },
  {
   "cell_type": "code",
   "execution_count": 9,
   "id": "dea1cd7e",
   "metadata": {},
   "outputs": [
    {
     "name": "stdout",
     "output_type": "stream",
     "text": [
      "MAE: 0.00\n",
      "82.70450164550293\n",
      "82.70450164550293\n"
     ]
    }
   ],
   "source": [
    "recovery = ((c_value*(f_value - t_value))/(f_value * (c_value-t_value)))*100\n",
    "recovery_table = data_train['rougher.output.recovery']\n",
    "print(f'MAE: {mean_absolute_error(recovery, recovery_table):.2f}')\n",
    "print(recovery.mean())\n",
    "print(recovery_table.mean())"
   ]
  },
  {
   "cell_type": "markdown",
   "id": "f6ecc443",
   "metadata": {},
   "source": [
    "Проверили расчеты эффективности обогащения руды, согласно формуле, и имеющимися значениями в столбце data_train['rougher.output.recovery']. Метрика MAE подтверждает, что расчет произведен верно."
   ]
  },
  {
   "cell_type": "markdown",
   "id": "48f58e1a",
   "metadata": {},
   "source": [
    "Не все данные обучающей выборки есть в тестовых данных. Проверим, колонки с какими данными отсутствуют."
   ]
  },
  {
   "cell_type": "code",
   "execution_count": 10,
   "id": "9eb9a261",
   "metadata": {},
   "outputs": [],
   "source": [
    "columns_3 = []\n",
    "for column in data_train.columns:\n",
    "    if column not in data_test.columns:\n",
    "        columns_3.append(column)"
   ]
  },
  {
   "cell_type": "code",
   "execution_count": 11,
   "id": "1016537c",
   "metadata": {},
   "outputs": [
    {
     "name": "stdout",
     "output_type": "stream",
     "text": [
      "{'primary_cleaner.output.tail_pb', 'rougher.output.tail_ag', 'final.output.concentrate_au', 'final.output.concentrate_ag', 'primary_cleaner.output.concentrate_au', 'rougher.output.concentrate_sol', 'rougher.output.concentrate_pb', 'final.output.tail_au', 'rougher.output.tail_au', 'primary_cleaner.output.tail_ag', 'primary_cleaner.output.concentrate_sol', 'primary_cleaner.output.concentrate_ag', 'primary_cleaner.output.concentrate_pb', 'rougher.output.concentrate_ag', 'rougher.output.tail_pb', 'secondary_cleaner.output.tail_sol', 'final.output.concentrate_sol', 'secondary_cleaner.output.tail_pb', 'final.output.tail_ag', 'rougher.output.tail_sol', 'final.output.tail_pb', 'rougher.calculation.au_pb_ratio', 'primary_cleaner.output.tail_sol', 'final.output.concentrate_pb', 'primary_cleaner.output.tail_au', 'secondary_cleaner.output.tail_au', 'rougher.output.concentrate_au', 'rougher.calculation.floatbank10_sulfate_to_au_feed', 'secondary_cleaner.output.tail_ag', 'rougher.calculation.sulfate_to_au_concentrate', 'rougher.calculation.floatbank11_sulfate_to_au_feed', 'final.output.tail_sol'}\n"
     ]
    }
   ],
   "source": [
    "columns_not_in_test = set(data_train.columns) - set(data_test.columns)\n",
    "print(columns_not_in_test)"
   ]
  },
  {
   "cell_type": "markdown",
   "id": "a592d46f",
   "metadata": {},
   "source": [
    "Получается, что в тестовой выборке нет данных по параметрам продукта на выходе после проведения флоатации или очистки. Данные, получаемые на финальном этапе - целевые признаки процесса очистки руды. Данные, получаемые после провдеения промежуточных этапов возможно недоступны, потому что замеряются и/или рассчитываются значительно позже."
   ]
  },
  {
   "cell_type": "markdown",
   "id": "1e07936e",
   "metadata": {},
   "source": [
    "**2  Анализ данных**"
   ]
  },
  {
   "cell_type": "markdown",
   "id": "23f6dce3",
   "metadata": {},
   "source": [
    "Рассмотрим концентрацию металлов на разных уровнях очистки руды. Рассмотрим отношение концентрата руды следующего этапа к концентрату руды предыдущего этапа."
   ]
  },
  {
   "cell_type": "code",
   "execution_count": 12,
   "id": "23342ffc",
   "metadata": {},
   "outputs": [
    {
     "name": "stdout",
     "output_type": "stream",
     "text": [
      "0        3.051704\n",
      "1        3.094963\n",
      "2        3.102245\n",
      "3        3.157930\n",
      "4        3.392849\n",
      "           ...   \n",
      "14144    3.486512\n",
      "14145    3.811301\n",
      "14146    3.339453\n",
      "14147    4.087936\n",
      "14148    4.078380\n",
      "Length: 14149, dtype: float64\n",
      "0        1.726521\n",
      "1        1.701589\n",
      "2        1.721091\n",
      "3        1.462710\n",
      "4        1.719648\n",
      "           ...   \n",
      "14144    1.770641\n",
      "14145    1.785399\n",
      "14146    2.108150\n",
      "14147    1.725331\n",
      "14148    1.705032\n",
      "Length: 14149, dtype: float64\n",
      "0        1.234608\n",
      "1        1.251567\n",
      "2        1.255760\n",
      "3        1.510570\n",
      "4        1.294424\n",
      "           ...   \n",
      "14144    1.418144\n",
      "14145    1.423427\n",
      "14146    1.468942\n",
      "14147    1.508185\n",
      "14148    1.525184\n",
      "Length: 14149, dtype: float64\n"
     ]
    }
   ],
   "source": [
    "first_diff_au = data_train['rougher.output.concentrate_au']/data_train['rougher.input.feed_au']\n",
    "second_diff_au = data_train['primary_cleaner.output.concentrate_au']/data_train['rougher.output.concentrate_au']\n",
    "third_diff_au = data_train['final.output.concentrate_au']/data_train['primary_cleaner.output.concentrate_au']\n",
    "print(first_diff_au)\n",
    "print(second_diff_au)\n",
    "print(third_diff_au)"
   ]
  },
  {
   "cell_type": "code",
   "execution_count": 13,
   "id": "b1f6fce0",
   "metadata": {},
   "outputs": [
    {
     "data": {
      "image/png": "[encoded data removed]",
      "text/plain": [
       "<Figure size 720x720 with 1 Axes>"
      ]
     },
     "metadata": {
      "needs_background": "light"
     },
     "output_type": "display_data"
    }
   ],
   "source": [
    "fig, ax = plt.subplots()\n",
    "data_train['rougher.input.feed_au'].hist(bins=20, figsize = (10, 10), legend = True)\n",
    "data_train['rougher.output.concentrate_au'].hist(bins=20, figsize = (10, 10), legend = True)\n",
    "data_train['primary_cleaner.output.concentrate_au'].hist(bins=20, figsize = (10, 10), legend = True)\n",
    "data_train['final.output.concentrate_au'].hist(bins=20, figsize = (10, 10), legend = True)\n",
    "plt.title('Насыщенность руды золотом')\n",
    "ax.set_xlabel('концентрация золота')\n",
    "ax.set_ylabel('количество значений, шт');"
   ]
  },
  {
   "cell_type": "markdown",
   "id": "4606998b",
   "metadata": {},
   "source": [
    "Видим, что на каждом этапе происходит увеличение насыщенности руды золотом. Значение концентрата в долевом соотношении превышает содержание золота в предыдущем этапе. После флотации содержание золота в руде в 3,5 раза превышает содержание золота перед этапом флотации. После этапа первичной очистки содержание золота в руде в 1,7 раза превышает содержание золота после этапа флотации. После этапа вторичной очистки содержание золота в руде в 1,5 раза превышает содержание золота после этапа первичной очистки."
   ]
  },
  {
   "cell_type": "code",
   "execution_count": 14,
   "id": "7589f5e8",
   "metadata": {},
   "outputs": [
    {
     "name": "stdout",
     "output_type": "stream",
     "text": [
      "0        3.107811\n",
      "1        3.212137\n",
      "2        3.341712\n",
      "3        3.521244\n",
      "4        4.051881\n",
      "           ...   \n",
      "14144    2.378747\n",
      "14145    2.626838\n",
      "14146    2.227644\n",
      "14147    2.730372\n",
      "14148    2.761327\n",
      "Length: 14149, dtype: float64\n",
      "0        1.463109\n",
      "1        1.442141\n",
      "2        1.434770\n",
      "3        1.184088\n",
      "4        1.379351\n",
      "           ...   \n",
      "14144    1.133099\n",
      "14145    1.159414\n",
      "14146    1.410761\n",
      "14147    1.127354\n",
      "14148    1.088593\n",
      "Length: 14149, dtype: float64\n",
      "0        0.951875\n",
      "1        0.949688\n",
      "2        0.986431\n",
      "3        1.174242\n",
      "4        1.015593\n",
      "           ...   \n",
      "14144    0.912443\n",
      "14145    0.899034\n",
      "14146    0.905079\n",
      "14147    0.967801\n",
      "14148    1.007515\n",
      "Length: 14149, dtype: float64\n"
     ]
    }
   ],
   "source": [
    "first_diff_pb = data_train['rougher.output.concentrate_pb']/data_train['rougher.input.feed_pb']\n",
    "second_diff_pb = data_train['primary_cleaner.output.concentrate_pb']/data_train['rougher.output.concentrate_pb']\n",
    "third_diff_pb = data_train['final.output.concentrate_pb']/data_train['primary_cleaner.output.concentrate_pb']\n",
    "print(first_diff_pb)\n",
    "print(second_diff_pb)\n",
    "print(third_diff_pb)"
   ]
  },
  {
   "cell_type": "code",
   "execution_count": 15,
   "id": "60cfaaa8",
   "metadata": {},
   "outputs": [
    {
     "data": {
      "image/png": "[encoded data removed]",
      "text/plain": [
       "<Figure size 720x720 with 1 Axes>"
      ]
     },
     "metadata": {
      "needs_background": "light"
     },
     "output_type": "display_data"
    }
   ],
   "source": [
    "fig, ax = plt.subplots()\n",
    "data_train['rougher.input.feed_pb'].hist(bins=10, figsize = (10, 10), alpha = 0.7, legend = True)\n",
    "data_train['rougher.output.concentrate_pb'].hist(bins=10, figsize = (10, 10), alpha = 0.7, legend = True)\n",
    "data_train['primary_cleaner.output.concentrate_pb'].hist(bins=10, figsize = (10, 10), alpha = 0.7, legend = True)\n",
    "data_train['final.output.concentrate_pb'].hist(bins=10, figsize = (10, 10), alpha = 0.7, legend = True)\n",
    "plt.title('Насыщенность руды свинцом')\n",
    "ax.set_xlabel('концентрация свинца')\n",
    "ax.set_ylabel('количество значений, шт');"
   ]
  },
  {
   "cell_type": "markdown",
   "id": "bc25befd",
   "metadata": {},
   "source": [
    "На основании полученных данных получаем, что в процессе флотации концентрация свинца возрастает в 3 раза. После первичной очистки руды происходит увеличение насыщенности руды свинцом, приблизительно в 1,4 раза. Однако, после этапа вторичной очистки содержание свинца в руде не изменилось по сравнению с концентратом свинца после этапа первичной очистки."
   ]
  },
  {
   "cell_type": "code",
   "execution_count": 16,
   "id": "04010d8b",
   "metadata": {},
   "outputs": [
    {
     "name": "stdout",
     "output_type": "stream",
     "text": [
      "0        1.885255\n",
      "1        1.885352\n",
      "2        1.912178\n",
      "3        1.971610\n",
      "4        2.047719\n",
      "           ...   \n",
      "14144    1.826192\n",
      "14145    1.866587\n",
      "14146    1.427598\n",
      "14147    1.927670\n",
      "14148    1.941879\n",
      "Length: 14149, dtype: float64\n",
      "0        0.743216\n",
      "1        0.736815\n",
      "2        0.735609\n",
      "3        0.606114\n",
      "4        0.732366\n",
      "           ...   \n",
      "14144    0.589594\n",
      "14145    0.578714\n",
      "14146    0.836382\n",
      "14147    0.642471\n",
      "14148    0.630260\n",
      "Length: 14149, dtype: float64\n",
      "0        0.708437\n",
      "1        0.704469\n",
      "2        0.703891\n",
      "3        0.837452\n",
      "4        0.676456\n",
      "           ...   \n",
      "14144    0.491666\n",
      "14145    0.483333\n",
      "14146    0.436252\n",
      "14147    0.449538\n",
      "14148    0.477391\n",
      "Length: 14149, dtype: float64\n"
     ]
    }
   ],
   "source": [
    "first_diff_ag = data_train['rougher.output.concentrate_ag']/data_train['rougher.input.feed_ag']\n",
    "second_diff_ag = data_train['primary_cleaner.output.concentrate_ag']/data_train['rougher.output.concentrate_ag']\n",
    "third_diff_ag = data_train['final.output.concentrate_ag']/data_train['primary_cleaner.output.concentrate_ag']\n",
    "print(first_diff_ag)\n",
    "print(second_diff_ag)\n",
    "print(third_diff_ag)"
   ]
  },
  {
   "cell_type": "code",
   "execution_count": 17,
   "id": "52f6ff36",
   "metadata": {},
   "outputs": [
    {
     "data": {
      "image/png": "[encoded data removed]",
      "text/plain": [
       "<Figure size 720x720 with 1 Axes>"
      ]
     },
     "metadata": {
      "needs_background": "light"
     },
     "output_type": "display_data"
    }
   ],
   "source": [
    "fig, ax = plt.subplots()\n",
    "data_train['rougher.input.feed_ag'].hist(bins=10, figsize = (10, 10), alpha = 0.7, legend = True)\n",
    "data_train['rougher.output.concentrate_ag'].hist(bins=10, figsize = (10, 10), alpha = 0.7, legend = True)\n",
    "data_train['primary_cleaner.output.concentrate_ag'].hist(bins=10, figsize = (10, 10), alpha = 0.7, legend = True)\n",
    "data_train['final.output.concentrate_ag'].hist(bins=10, figsize = (10, 10), alpha = 0.7, legend = True)\n",
    "plt.title('Насыщенность руды серебром')\n",
    "ax.set_xlabel('концентрация серебра')\n",
    "ax.set_ylabel('количество значений, шт');"
   ]
  },
  {
   "cell_type": "markdown",
   "id": "349a793a",
   "metadata": {},
   "source": [
    "Данные по наличию серебра в руде говорят о том, что практически на каждом этапе происходит уменьшение насыщенности руды серебром. Только на этапе флотации концентрация серебра в руде увеличилась по сравнению с загруженным сырьем (примерно в 2 раза). После этапа первичной очистки содержание серебра в руде составляет 0,7 от содержания серебра после этапа флотации. После этапа вторичной очистки содержание серебра в руде составляет всего 0,5 от концентрации серебра после этапа первичной очистки."
   ]
  },
  {
   "cell_type": "markdown",
   "id": "253bf216",
   "metadata": {},
   "source": [
    "Сравним распределение размеров гранул сырья на обучающей и тестовой выборках."
   ]
  },
  {
   "cell_type": "code",
   "execution_count": 18,
   "id": "de78ae01",
   "metadata": {},
   "outputs": [
    {
     "data": {
      "image/png": "[encoded data removed]",
      "text/plain": [
       "<Figure size 720x720 with 1 Axes>"
      ]
     },
     "metadata": {
      "needs_background": "light"
     },
     "output_type": "display_data"
    }
   ],
   "source": [
    "fig, ax = plt.subplots()\n",
    "data_train['primary_cleaner.input.feed_size'].hist(bins=20, figsize = (10, 10))\n",
    "data_test['primary_cleaner.input.feed_size'].hist(bins=20, figsize = (10, 10))\n",
    "plt.title('Размер гранул сырья перед первичной очисткой')\n",
    "ax.set_xlabel('размер гранул сырья')\n",
    "ax.set_ylabel('количество значений, шт');"
   ]
  },
  {
   "cell_type": "markdown",
   "id": "ba96e237",
   "metadata": {},
   "source": [
    "На гистограммах видно, что распредение значений гранул сырья перед первичной очисткой для обеих выборок одинаковый."
   ]
  },
  {
   "cell_type": "code",
   "execution_count": 19,
   "id": "2374248b",
   "metadata": {},
   "outputs": [
    {
     "data": {
      "image/png": "[encoded data removed]",
      "text/plain": [
       "<Figure size 720x720 with 1 Axes>"
      ]
     },
     "metadata": {
      "needs_background": "light"
     },
     "output_type": "display_data"
    }
   ],
   "source": [
    "fig, ax = plt.subplots()\n",
    "data_train['rougher.input.feed_size'].hist(bins=20, figsize = (10, 10))\n",
    "data_test['rougher.input.feed_size'].hist(bins=20, figsize = (10, 10))\n",
    "plt.title('Размер гранул сырья перед флотацией')\n",
    "ax.set_xlabel('размер гранул сырья')\n",
    "ax.set_ylabel('количество значений, шт');"
   ]
  },
  {
   "cell_type": "markdown",
   "id": "920005de",
   "metadata": {},
   "source": [
    "Распределение данных в выборках отличается, однако уже перед первичной очисткой размеры гранулы будут выровнены, так что расчета модели будет произведен верно."
   ]
  },
  {
   "cell_type": "code",
   "execution_count": 20,
   "id": "72b832cb",
   "metadata": {},
   "outputs": [
    {
     "data": {
      "image/png": "[encoded data removed]",
      "text/plain": [
       "<Figure size 1280x800 with 1 Axes>"
      ]
     },
     "metadata": {
      "needs_background": "light"
     },
     "output_type": "display_data"
    }
   ],
   "source": [
    "plt.figure(figsize=(16,10), dpi= 80)\n",
    "sns.kdeplot(data_train['primary_cleaner.input.feed_size'], shade=True, color=\"g\", alpha=.7)\n",
    "sns.kdeplot(data_test['primary_cleaner.input.feed_size'], shade=True, color=\"deeppink\", alpha=.7)\n",
    "plt.title('Размер гранул сырья перед первичной очисткой', fontsize=15)\n",
    "plt.xlabel('размер гранул сырья')\n",
    "plt.ylabel('плотность значений');"
   ]
  },
  {
   "cell_type": "code",
   "execution_count": 21,
   "id": "56ff929a",
   "metadata": {},
   "outputs": [
    {
     "data": {
      "image/png": "[encoded data removed]",
      "text/plain": [
       "<Figure size 1280x800 with 1 Axes>"
      ]
     },
     "metadata": {
      "needs_background": "light"
     },
     "output_type": "display_data"
    }
   ],
   "source": [
    "plt.figure(figsize=(16,10), dpi= 80)\n",
    "sns.kdeplot(data_train['rougher.input.feed_size'], shade=True, color=\"g\", alpha=.7)\n",
    "sns.kdeplot(data_test['rougher.input.feed_size'], shade=True, color=\"deeppink\", alpha=.7)\n",
    "plt.title('Размер гранул сырья перед флотацией', fontsize=15)\n",
    "plt.xlabel('размер гранул сырья')\n",
    "plt.ylabel('плотность значений');"
   ]
  },
  {
   "cell_type": "markdown",
   "id": "4b40ef76",
   "metadata": {},
   "source": [
    "Исследуем суммарную концентрацию всех веществ на разных стадиях: в сырье, в черновом и финальном концентратах."
   ]
  },
  {
   "cell_type": "code",
   "execution_count": 22,
   "id": "0f8abc39",
   "metadata": {},
   "outputs": [
    {
     "name": "stdout",
     "output_type": "stream",
     "text": [
      "838732.3497421335\n",
      "709661.4292788382\n",
      "550117.7172545104\n",
      "282290.04829645605\n"
     ]
    }
   ],
   "source": [
    "sum_concentrate_final = data_train['final.output.concentrate_ag'] + data_train['final.output.concentrate_au'] + data_train['final.output.concentrate_pb']\n",
    "sum_concentrate_primary = data_train['primary_cleaner.output.concentrate_ag'] + data_train['primary_cleaner.output.concentrate_au'] + data_train['primary_cleaner.output.concentrate_pb']\n",
    "sum_concentrate_rougher = data_train['rougher.output.concentrate_ag'] + data_train['rougher.output.concentrate_au'] + data_train['rougher.output.concentrate_pb']\n",
    "sum_concentrate_input = data_train['rougher.input.feed_ag'] + data_train['rougher.input.feed_au'] + data_train['rougher.input.feed_pb']\n",
    "print(sum_concentrate_final.sum())\n",
    "print(sum_concentrate_primary.sum())\n",
    "print(sum_concentrate_rougher.sum())\n",
    "print(sum_concentrate_input.sum())"
   ]
  },
  {
   "cell_type": "markdown",
   "id": "179b0189",
   "metadata": {},
   "source": [
    "Суммарная концентрацию металлов показывает, что с каждым этапом очистки (от флотации до финальных концентратов) концентрация металлов увеличивается."
   ]
  },
  {
   "cell_type": "code",
   "execution_count": 23,
   "id": "77cf527b",
   "metadata": {},
   "outputs": [
    {
     "data": {
      "image/png": "[encoded data removed]",
      "text/plain": [
       "<Figure size 720x720 with 1 Axes>"
      ]
     },
     "metadata": {
      "needs_background": "light"
     },
     "output_type": "display_data"
    }
   ],
   "source": [
    "fig, ax = plt.subplots()\n",
    "data_train['final.output.concentrate_ag'].hist(bins=30, figsize = (10, 10), legend = True)\n",
    "data_train['final.output.concentrate_au'].hist(bins=30, figsize = (10, 10), legend = True)\n",
    "data_train['final.output.concentrate_pb'].hist(bins=30, figsize = (10, 10), legend = True)\n",
    "plt.title('Финальный концентрат')\n",
    "ax.set_xlabel('концентрация металлов')\n",
    "ax.set_ylabel('количество значений, шт');"
   ]
  },
  {
   "cell_type": "markdown",
   "id": "d3b361dc",
   "metadata": {},
   "source": [
    "На данном этапе на гистограмме можно увидеть выбросы в данных концентрации золота и свинца. Значения концентрации для золота <20 и для свинца <3 отбросим, т.к. они являются аномальными данными"
   ]
  },
  {
   "cell_type": "code",
   "execution_count": 24,
   "id": "10bfa78a",
   "metadata": {},
   "outputs": [],
   "source": [
    "data_train = data_train.loc[(data_train['final.output.concentrate_au']>20) & (data_train['final.output.concentrate_pb']>3)]"
   ]
  },
  {
   "cell_type": "code",
   "execution_count": 25,
   "id": "933f6d09",
   "metadata": {},
   "outputs": [
    {
     "data": {
      "image/png": "[encoded data removed]",
      "text/plain": [
       "<Figure size 720x720 with 1 Axes>"
      ]
     },
     "metadata": {
      "needs_background": "light"
     },
     "output_type": "display_data"
    }
   ],
   "source": [
    "fig, ax = plt.subplots()\n",
    "data_train['primary_cleaner.output.concentrate_ag'].hist(bins=30, figsize = (10, 10), legend = True)\n",
    "data_train['primary_cleaner.output.concentrate_au'].hist(bins=30, figsize = (10, 10), legend = True)\n",
    "data_train['primary_cleaner.output.concentrate_pb'].hist(bins=30, figsize = (10, 10), legend = True)\n",
    "plt.title('Концентрация металлов после первичной очистки')\n",
    "ax.set_xlabel('концентрация металлов')\n",
    "ax.set_ylabel('количество значений, шт');"
   ]
  },
  {
   "cell_type": "markdown",
   "id": "09a8327b",
   "metadata": {},
   "source": [
    "На данном этапе на гистограмме можно увидеть выбросы в данных концентрации золота и свинца. Значения концентрации для золота и для свинца <3 отбросим, т.к. они являются аномальными данными"
   ]
  },
  {
   "cell_type": "code",
   "execution_count": 26,
   "id": "c0c101da",
   "metadata": {},
   "outputs": [],
   "source": [
    "data_train = data_train.loc[(data_train['primary_cleaner.output.concentrate_au']>3) & (data_train['primary_cleaner.output.concentrate_pb']>3)]"
   ]
  },
  {
   "cell_type": "code",
   "execution_count": 27,
   "id": "6a282623",
   "metadata": {},
   "outputs": [
    {
     "data": {
      "image/png": "[encoded data removed]",
      "text/plain": [
       "<Figure size 720x720 with 1 Axes>"
      ]
     },
     "metadata": {
      "needs_background": "light"
     },
     "output_type": "display_data"
    }
   ],
   "source": [
    "fig, ax = plt.subplots()\n",
    "data_train['rougher.output.concentrate_ag'].hist(bins=30, figsize = (10, 10), legend = True)\n",
    "data_train['rougher.output.concentrate_au'].hist(bins=30, figsize = (10, 10), legend = True)\n",
    "data_train['rougher.output.concentrate_pb'].hist(bins=30, figsize = (10, 10), legend = True)\n",
    "plt.title('Концентрация металлов после флотации')\n",
    "ax.set_xlabel('концентрация металлов')\n",
    "ax.set_ylabel('количество значений, шт');"
   ]
  },
  {
   "cell_type": "markdown",
   "id": "9806d900",
   "metadata": {},
   "source": [
    "На данном этапе на гистограмме можно увидеть выбросы в данных концентрации золота и свинца. Снова отбросим значения концентрации для золота и для свинца <3, т.к. они являются аномальными для текущих значений"
   ]
  },
  {
   "cell_type": "code",
   "execution_count": 28,
   "id": "83db9f51",
   "metadata": {},
   "outputs": [],
   "source": [
    "data_train = data_train.loc[(data_train['rougher.output.concentrate_au']>3) & (data_train['rougher.output.concentrate_pb']>3)]"
   ]
  },
  {
   "cell_type": "code",
   "execution_count": 29,
   "id": "83290e0e",
   "metadata": {},
   "outputs": [
    {
     "data": {
      "image/png": "[encoded data removed]",
      "text/plain": [
       "<Figure size 720x720 with 1 Axes>"
      ]
     },
     "metadata": {
      "needs_background": "light"
     },
     "output_type": "display_data"
    }
   ],
   "source": [
    "fig, ax = plt.subplots()\n",
    "data_train['rougher.input.feed_ag'].hist(bins=30, figsize = (10, 10), legend = True)\n",
    "data_train['rougher.input.feed_au'].hist(bins=30, figsize = (10, 10), legend = True)\n",
    "data_train['rougher.input.feed_pb'].hist(bins=30, figsize = (10, 10), legend = True)\n",
    "plt.title('Концентрация металлов до флотации')\n",
    "ax.set_xlabel('концентрация металлов')\n",
    "ax.set_ylabel('количество значений, шт');"
   ]
  },
  {
   "cell_type": "markdown",
   "id": "3c70142f",
   "metadata": {},
   "source": [
    "На этапе поступления сырья на флотацию гистограмма показывает нормальное распределение концентрации металлов."
   ]
  },
  {
   "cell_type": "markdown",
   "id": "9fe3c9e3",
   "metadata": {},
   "source": [
    "**3  Модель**"
   ]
  },
  {
   "cell_type": "markdown",
   "id": "2c62bbe4",
   "metadata": {},
   "source": [
    "Необходимо рассчитать итоговую величину sMAPE. Итоговая величина метрики будет равна сумме 25% от расчетной величины эффективности обогащения чернового концентрата и 75% от эффективности обогащения итогового концентрата."
   ]
  },
  {
   "cell_type": "code",
   "execution_count": 30,
   "id": "f1256c33",
   "metadata": {},
   "outputs": [],
   "source": [
    "def smape(target, predict):\n",
    "    smape = (1/len(target)) * np.sum(2*np.abs(target-predict)/(np.abs(predict) + np.abs(target))) * 100\n",
    "    return smape"
   ]
  },
  {
   "cell_type": "markdown",
   "id": "d028c44f",
   "metadata": {},
   "source": [
    "total = 0.25 * smape(rougher) + 0.75 * smape(final)"
   ]
  },
  {
   "cell_type": "markdown",
   "id": "30abfc96",
   "metadata": {},
   "source": [
    "Обучим разные модели на имеющихся данных в обучающей выборке.\n",
    "\n",
    "Необходимо удалить столбцы, которых нет в тестовой выборке, поскольку в них могут содержаться данные, которые могут быть получены только после прохождения полного цикла. Такие признаки могут повредить правильному обучению модели."
   ]
  },
  {
   "cell_type": "code",
   "execution_count": 32,
   "id": "2b398476",
   "metadata": {},
   "outputs": [
    {
     "data": {
      "text/plain": [
       "(13363, 55)"
      ]
     },
     "metadata": {},
     "output_type": "display_data"
    },
    {
     "data": {
      "text/plain": [
       "(5290, 55)"
      ]
     },
     "metadata": {},
     "output_type": "display_data"
    }
   ],
   "source": [
    "list = ['final.output.recovery', 'rougher.output.recovery']\n",
    "data_train = data_train.drop(columns = columns_not_in_test, axis='columns')\n",
    "display(data_train.shape)\n",
    "display(data_test.shape)"
   ]
  },
  {
   "cell_type": "code",
   "execution_count": 33,
   "id": "cc694876",
   "metadata": {},
   "outputs": [],
   "source": [
    "features_train = data_train.drop(list + ['date'], axis = 1)\n",
    "target_fin_train = data_train['final.output.recovery']\n",
    "target_rough_train = data_train['rougher.output.recovery']\n",
    "scores = make_scorer(smape, greater_is_better=False)"
   ]
  },
  {
   "cell_type": "code",
   "execution_count": 34,
   "id": "46f4e7ee",
   "metadata": {},
   "outputs": [
    {
     "name": "stdout",
     "output_type": "stream",
     "text": [
      "-9.70173173968809\n"
     ]
    }
   ],
   "source": [
    "model_fin = LinearRegression()\n",
    "result_fin = cross_val_score(model_fin, features_train, target_fin_train, scoring=scores, cv=3)\n",
    "print(result_fin.max())"
   ]
  },
  {
   "cell_type": "code",
   "execution_count": 35,
   "id": "b3a8bca7",
   "metadata": {},
   "outputs": [
    {
     "name": "stdout",
     "output_type": "stream",
     "text": [
      "-7.530680100973113\n"
     ]
    }
   ],
   "source": [
    "model_rough = LinearRegression()\n",
    "result_rough = cross_val_score(model_rough, features_train, target_rough_train, scoring=scores, cv=3)\n",
    "print(result_rough.max())"
   ]
  },
  {
   "cell_type": "code",
   "execution_count": 36,
   "id": "26663ef8",
   "metadata": {},
   "outputs": [
    {
     "name": "stdout",
     "output_type": "stream",
     "text": [
      "-9.158968830009346\n"
     ]
    }
   ],
   "source": [
    "total = 0.75 * result_fin.max() + 0.25 * result_rough.max()\n",
    "print(total)"
   ]
  },
  {
   "cell_type": "code",
   "execution_count": 37,
   "id": "febbe053",
   "metadata": {},
   "outputs": [
    {
     "name": "stdout",
     "output_type": "stream",
     "text": [
      "-9.095259447989244\n",
      "{'max_depth': 2}\n"
     ]
    }
   ],
   "source": [
    "model_2_fin = DecisionTreeRegressor()\n",
    "parameter = {'max_depth': range(1, 5)}\n",
    "search_fin = GridSearchCV(model_2_fin, parameter, scoring=scores)\n",
    "search_fin.fit(features_train, target_fin_train)\n",
    "print(search_fin.best_score_)\n",
    "print(search_fin.best_params_)"
   ]
  },
  {
   "cell_type": "code",
   "execution_count": 38,
   "id": "9db5f0b3",
   "metadata": {},
   "outputs": [
    {
     "name": "stdout",
     "output_type": "stream",
     "text": [
      "-7.408964293112129\n",
      "{'max_depth': 4}\n"
     ]
    }
   ],
   "source": [
    "model_2_rough = DecisionTreeRegressor()\n",
    "parameter = {'max_depth': range(1, 5)}\n",
    "search_rough = GridSearchCV(model_2_rough, parameter, scoring=scores)\n",
    "search_rough.fit(features_train, target_rough_train)\n",
    "print(search_rough.best_score_)\n",
    "print(search_rough.best_params_)"
   ]
  },
  {
   "cell_type": "code",
   "execution_count": 39,
   "id": "6aac57a9",
   "metadata": {},
   "outputs": [
    {
     "name": "stdout",
     "output_type": "stream",
     "text": [
      "-8.673685659269966\n"
     ]
    }
   ],
   "source": [
    "total = 0.75 * search_fin.best_score_ + 0.25 * search_rough.best_score_\n",
    "print(total)"
   ]
  },
  {
   "cell_type": "code",
   "execution_count": 40,
   "id": "af6637d8",
   "metadata": {},
   "outputs": [
    {
     "name": "stdout",
     "output_type": "stream",
     "text": [
      "-8.886441630250243\n"
     ]
    },
    {
     "data": {
      "text/plain": [
       "{'max_depth': 6, 'n_estimators': 20}"
      ]
     },
     "metadata": {},
     "output_type": "display_data"
    }
   ],
   "source": [
    "model_3_fin = RandomForestRegressor()\n",
    "parameters = {'n_estimators': [10, 20], \n",
    "              'max_depth': range(5, 7)\n",
    "             }\n",
    "search_3_fin = GridSearchCV(model_3_fin, parameters, scoring=scores)\n",
    "search_3_fin.fit(features_train, target_fin_train)\n",
    "print(search_3_fin.best_score_)\n",
    "display(search_3_fin.best_params_)"
   ]
  },
  {
   "cell_type": "code",
   "execution_count": 41,
   "id": "0c29c6b4",
   "metadata": {},
   "outputs": [
    {
     "name": "stdout",
     "output_type": "stream",
     "text": [
      "-6.246529900271474\n"
     ]
    },
    {
     "data": {
      "text/plain": [
       "{'max_depth': 6, 'n_estimators': 40}"
      ]
     },
     "metadata": {},
     "output_type": "display_data"
    }
   ],
   "source": [
    "model_3_rough = RandomForestRegressor()\n",
    "parameters = {'n_estimators': [40, 50], \n",
    "              'max_depth': range(5, 7)\n",
    "             }\n",
    "search_3_rough = GridSearchCV(model_3_rough, parameters, scoring=scores)\n",
    "search_3_rough.fit(features_train, target_rough_train)\n",
    "print(search_3_rough.best_score_)\n",
    "display(search_3_rough.best_params_)"
   ]
  },
  {
   "cell_type": "code",
   "execution_count": 42,
   "id": "05335f91",
   "metadata": {},
   "outputs": [
    {
     "name": "stdout",
     "output_type": "stream",
     "text": [
      "-8.22646369775555\n"
     ]
    }
   ],
   "source": [
    "total = 0.75 * search_3_fin.best_score_ + 0.25 * search_3_rough.best_score_\n",
    "print(total)"
   ]
  },
  {
   "cell_type": "markdown",
   "id": "819c7939",
   "metadata": {},
   "source": [
    "Модель RandomForest показала наилучший результат среди всех. Получили также параметры для достижения модели наилучшего результата. Применим данную модель на тестовой выборке."
   ]
  },
  {
   "cell_type": "code",
   "execution_count": 43,
   "id": "dda0b624",
   "metadata": {},
   "outputs": [],
   "source": [
    "features_test = data_test.drop(list + ['date'], axis = 1)\n",
    "target_fin_test = data_test['final.output.recovery']\n",
    "target_rough_test = data_test['rougher.output.recovery']\n",
    "model_4 = RandomForestRegressor(n_estimators=50, max_depth=5)\n",
    "model_4.fit(features_train, target_fin_train)\n",
    "predicted_fin = model_4.predict(features_test)"
   ]
  },
  {
   "cell_type": "code",
   "execution_count": 44,
   "id": "8609e6a4",
   "metadata": {},
   "outputs": [],
   "source": [
    "model_5 = RandomForestRegressor(n_estimators=50, max_depth=5)\n",
    "model_5.fit(features_train, target_rough_train)\n",
    "predicted_rough = model_5.predict(features_test)"
   ]
  },
  {
   "cell_type": "code",
   "execution_count": 45,
   "id": "b6f925ae",
   "metadata": {},
   "outputs": [
    {
     "name": "stdout",
     "output_type": "stream",
     "text": [
      "SMAPE: 9.3 %\n"
     ]
    }
   ],
   "source": [
    "result = 0.25 * smape(target_rough_test, predicted_rough) + 0.75 * smape(target_fin_test, predicted_fin)\n",
    "print(f'SMAPE: {result:.2}','%')"
   ]
  },
  {
   "cell_type": "markdown",
   "id": "f11cfc3a",
   "metadata": {},
   "source": [
    "Итоговый результат Smape = 9.3%\n",
    "\n",
    "Для сравнения проверим работу самой простой модели на имеющейся тестовой выборке. Сравним результаты sMAPE максимально упрощенной модели и модели, обученной нами для работы."
   ]
  },
  {
   "cell_type": "code",
   "execution_count": 46,
   "id": "4101a645",
   "metadata": {},
   "outputs": [
    {
     "name": "stdout",
     "output_type": "stream",
     "text": [
      "SMAPE: 9.8 %\n"
     ]
    }
   ],
   "source": [
    "model_dummy = DummyRegressor(strategy='mean')\n",
    "model_dummy.fit(features_train, target_fin_train)\n",
    "predictions_dummy_fin = model_dummy.predict(features_test)\n",
    "model_dummy_2 = DummyRegressor(strategy='mean')\n",
    "model_dummy_2.fit(features_train, target_rough_train)\n",
    "predictions_dummy_rough = model_dummy_2.predict(features_test)\n",
    "result_2 = 0.25 * smape(target_rough_test, predictions_dummy_rough) + 0.75 * smape(target_fin_test, predictions_dummy_fin)\n",
    "print(f'SMAPE: {result_2:.2}','%')"
   ]
  },
  {
   "cell_type": "markdown",
   "id": "3ab6b5b6",
   "metadata": {},
   "source": [
    "Получаем итоговую метрику работы нашей модели - 9,3%. По сравнению с метрикой выполения работы простой модели - 9,8%, очевидно, что обученная модель работает лучше."
   ]
  },
  {
   "cell_type": "markdown",
   "id": "66682b11",
   "metadata": {},
   "source": [
    "**Заключение.**\n",
    "\n",
    "Компания разрабатывает решения для эффективной работы промышленных предприятий. Необходимо обучить модель для предсказания коэффициента восстановления золота из золотосодержащей руды. Имеются данные с параметрами добычи и очистки. Полученная модель поможет оптимизировать производство, чтобы не запускать предприятие с убыточными характеристиками.\n",
    "\n",
    "1. Подготовка данных\n",
    "\n",
    "Предоставлены 3 таблицы: общая таблица, таблица с выделенными данными для обучения модели и таблица с данными для тестирования модели. Обучающая и тестовая выборки разделены в соотношении 75:25 от общей таблицы. В тестовую таблицы добавляем строки с данными итогового финального продукта и финального продукта после флотации – понадобятся для итогового расчета метрики Smape. Заменяем из имеющихся таблиц строки со значениями Nan соседними значениями, т.к. согласно имеющимся данным, они аналогичны. Проверяем расчет столбца data_train['rougher.output.recovery'] метрикой MAE. Правильность расчетов подтвердилась.\n",
    "\n",
    "2. Анализ данных\n",
    "\n",
    "Рассмотрим концентрацию металлов на разных уровнях очистки руды. Отношение концентрата руды следующего этапа к концентрату руды предыдущего этапа показывает, что золото с каждым этапом очистки увеличивает свою концентрацию, концентрация свинца, однако после этапа вторичной очистки уменьшается. Концентрация серебра в руде с каждым этапом очистки становится все меньше. Распределение значений гранул сырья перед флотацией в обучающей и тестовой выборках выборках отличается, однако уже перед первичной очисткой размеры гранулы выравниваются, так что расчет модели будет произведен верно. Суммарная концентрацию металлов показывает, что с каждым этапом очистки (от флотации до финальных концентратов) концентрация металлов в целом увеличивается.\n",
    "\n",
    "3. Модель\n",
    "\n",
    "На обучающей выборке методом обучаем разные модели. Наилучший результат у модели RandomForest - -8.010691614204728. Проверяем её действие на тестовой выборке. Также на основании предсказаний данной модели, рассчитаем метрику Smape. Формулу для расчета завели в отдельную функцию, используем данную функцию для получения 0,75 от метрики при предсказании модели итогового концентрата, и 0,25 от метрики предсказании чернового концентрата. Итоговый результат – 9,2%. Сравниваем работу нашей модели с работой простой модели, выдающей средние значения, в качестве предсказани. Итоговый результат работы такой модели - 9,8%. Очевидно, что специально обученная модель предсказывает лучше."
   ]
  },
  {
   "cell_type": "code",
   "execution_count": null,
   "id": "94d62f67",
   "metadata": {},
   "outputs": [],
   "source": []
  }
 ],
 "metadata": {
  "ExecuteTimeLog": [
   {
    "duration": 1385,
    "start_time": "2023-01-27T13:20:57.770Z"
   },
   {
    "duration": 3038,
    "start_time": "2023-01-27T13:21:09.184Z"
   },
   {
    "duration": 3,
    "start_time": "2023-01-27T13:21:17.465Z"
   },
   {
    "duration": 39,
    "start_time": "2023-01-27T13:21:18.362Z"
   },
   {
    "duration": 14,
    "start_time": "2023-01-27T13:21:21.329Z"
   },
   {
    "duration": 29,
    "start_time": "2023-01-27T13:21:22.440Z"
   },
   {
    "duration": 3,
    "start_time": "2023-01-27T13:21:22.922Z"
   },
   {
    "duration": 4,
    "start_time": "2023-01-27T13:21:50.696Z"
   },
   {
    "duration": 8,
    "start_time": "2023-01-27T13:21:52.000Z"
   },
   {
    "duration": 3,
    "start_time": "2023-01-27T13:22:05.589Z"
   },
   {
    "duration": 4,
    "start_time": "2023-01-27T13:22:06.473Z"
   },
   {
    "duration": 14,
    "start_time": "2023-01-27T13:23:01.617Z"
   },
   {
    "duration": 353,
    "start_time": "2023-01-27T13:23:17.186Z"
   },
   {
    "duration": 11,
    "start_time": "2023-01-27T13:23:25.765Z"
   },
   {
    "duration": 368,
    "start_time": "2023-01-27T13:23:28.946Z"
   },
   {
    "duration": 9,
    "start_time": "2023-01-27T13:23:32.884Z"
   },
   {
    "duration": 271,
    "start_time": "2023-01-27T13:23:35.492Z"
   },
   {
    "duration": 205,
    "start_time": "2023-01-27T13:23:39.428Z"
   },
   {
    "duration": 207,
    "start_time": "2023-01-27T13:23:53.228Z"
   },
   {
    "duration": 471,
    "start_time": "2023-01-27T13:24:01.190Z"
   },
   {
    "duration": 425,
    "start_time": "2023-01-27T13:24:09.586Z"
   },
   {
    "duration": 8,
    "start_time": "2023-01-27T13:24:20.730Z"
   },
   {
    "duration": 344,
    "start_time": "2023-01-27T13:24:31.240Z"
   },
   {
    "duration": 9,
    "start_time": "2023-01-27T13:24:49.834Z"
   },
   {
    "duration": 342,
    "start_time": "2023-01-27T13:24:52.686Z"
   },
   {
    "duration": 9,
    "start_time": "2023-01-27T13:25:01.717Z"
   },
   {
    "duration": 401,
    "start_time": "2023-01-27T13:25:05.841Z"
   },
   {
    "duration": 7,
    "start_time": "2023-01-27T13:25:22.963Z"
   },
   {
    "duration": 337,
    "start_time": "2023-01-27T13:25:24.088Z"
   },
   {
    "duration": 4,
    "start_time": "2023-01-27T13:33:31.601Z"
   },
   {
    "duration": 135,
    "start_time": "2023-01-27T13:33:32.077Z"
   },
   {
    "duration": 9,
    "start_time": "2023-01-27T13:34:36.847Z"
   },
   {
    "duration": 6,
    "start_time": "2023-01-27T13:34:39.129Z"
   },
   {
    "duration": 1080,
    "start_time": "2023-01-27T13:34:41.620Z"
   },
   {
    "duration": 1098,
    "start_time": "2023-01-27T13:34:43.505Z"
   },
   {
    "duration": 3,
    "start_time": "2023-01-27T13:34:45.333Z"
   },
   {
    "duration": 2979,
    "start_time": "2023-01-27T13:34:48.275Z"
   },
   {
    "duration": 3120,
    "start_time": "2023-01-27T13:34:52.597Z"
   },
   {
    "duration": 3,
    "start_time": "2023-01-27T13:34:56.927Z"
   },
   {
    "duration": 56266,
    "start_time": "2023-01-27T13:34:57.926Z"
   },
   {
    "duration": 159263,
    "start_time": "2023-01-27T13:36:16.389Z"
   },
   {
    "duration": 3,
    "start_time": "2023-01-27T13:38:59.007Z"
   },
   {
    "duration": 9880,
    "start_time": "2023-01-27T13:39:03.855Z"
   },
   {
    "duration": 9950,
    "start_time": "2023-01-27T13:39:15.508Z"
   },
   {
    "duration": 7,
    "start_time": "2023-01-27T13:39:27.693Z"
   },
   {
    "duration": 16,
    "start_time": "2023-01-27T13:39:41.475Z"
   }
  ],
  "kernelspec": {
   "display_name": "Python 3 (ipykernel)",
   "language": "python",
   "name": "python3"
  },
  "language_info": {
   "codemirror_mode": {
    "name": "ipython",
    "version": 3
   },
   "file_extension": ".py",
   "mimetype": "text/x-python",
   "name": "python",
   "nbconvert_exporter": "python",
   "pygments_lexer": "ipython3",
   "version": "3.9.5"
  },
  "toc": {
   "base_numbering": 1,
   "nav_menu": {},
   "number_sections": true,
   "sideBar": true,
   "skip_h1_title": true,
   "title_cell": "Table of Contents",
   "title_sidebar": "Contents",
   "toc_cell": false,
   "toc_position": {},
   "toc_section_display": true,
   "toc_window_display": false
  }
 },
 "nbformat": 4,
 "nbformat_minor": 5
}
