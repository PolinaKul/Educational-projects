{
 "cells": [
  {
   "cell_type": "markdown",
   "id": "62aabb35",
   "metadata": {},
   "source": [
    "**Прогнозирование заказов такси**"
   ]
  },
  {
   "cell_type": "markdown",
   "id": "c91c4738",
   "metadata": {},
   "source": [
    "Имеются данные о заказах такси в аэропортах. Для планирования количества водителей необходимо спрогнозировать количество заказов такси на следующий час. Для решения данной задачи построим модель, предсказывающую необходимые данные. Качество модели проверим метрикой RMSE. Значение метрики должно быть менее 48. План выполнения работы:\n",
    "\n",
    "1. Подготовка данных. Проверим на наличие ошибок, дубликатов.    \n",
    "2. Анализ данных. Проанализируем предоставленные данные.    \n",
    "3. Обучение модели.     \n",
    "4. Тестирование выбранной модели. Проверка качества работы метрикой RMSE. "
   ]
  },
  {
   "cell_type": "markdown",
   "id": "672f35ca",
   "metadata": {},
   "source": [
    "**1  Подготовка**"
   ]
  },
  {
   "cell_type": "code",
   "execution_count": 1,
   "id": "e497adba",
   "metadata": {},
   "outputs": [],
   "source": [
    "import pandas as pd\n",
    "import numpy as np\n",
    "import matplotlib.pyplot as plt\n",
    "from sklearn.ensemble import RandomForestRegressor\n",
    "from sklearn.linear_model import LinearRegression\n",
    "from sklearn.metrics import fbeta_score, make_scorer\n",
    "from sklearn.metrics import mean_squared_error\n",
    "from sklearn.model_selection import GridSearchCV\n",
    "from sklearn.model_selection import TimeSeriesSplit\n",
    "from sklearn.model_selection import train_test_split\n",
    "from sklearn.tree import DecisionTreeRegressor\n",
    "from statsmodels.tsa.seasonal import seasonal_decompose\n",
    "from lightgbm import LGBMRegressor"
   ]
  },
  {
   "cell_type": "code",
   "execution_count": 2,
   "id": "84aa8959",
   "metadata": {},
   "outputs": [
    {
     "data": {
      "text/html": [
       "<div>\n",
       "<style scoped>\n",
       "    .dataframe tbody tr th:only-of-type {\n",
       "        vertical-align: middle;\n",
       "    }\n",
       "\n",
       "    .dataframe tbody tr th {\n",
       "        vertical-align: top;\n",
       "    }\n",
       "\n",
       "    .dataframe thead th {\n",
       "        text-align: right;\n",
       "    }\n",
       "</style>\n",
       "<table border=\"1\" class=\"dataframe\">\n",
       "  <thead>\n",
       "    <tr style=\"text-align: right;\">\n",
       "      <th></th>\n",
       "      <th>num_orders</th>\n",
       "    </tr>\n",
       "    <tr>\n",
       "      <th>datetime</th>\n",
       "      <th></th>\n",
       "    </tr>\n",
       "  </thead>\n",
       "  <tbody>\n",
       "    <tr>\n",
       "      <th>2018-03-01 00:00:00</th>\n",
       "      <td>9</td>\n",
       "    </tr>\n",
       "    <tr>\n",
       "      <th>2018-03-01 00:10:00</th>\n",
       "      <td>14</td>\n",
       "    </tr>\n",
       "    <tr>\n",
       "      <th>2018-03-01 00:20:00</th>\n",
       "      <td>28</td>\n",
       "    </tr>\n",
       "    <tr>\n",
       "      <th>2018-03-01 00:30:00</th>\n",
       "      <td>20</td>\n",
       "    </tr>\n",
       "    <tr>\n",
       "      <th>2018-03-01 00:40:00</th>\n",
       "      <td>32</td>\n",
       "    </tr>\n",
       "  </tbody>\n",
       "</table>\n",
       "</div>"
      ],
      "text/plain": [
       "                     num_orders\n",
       "datetime                       \n",
       "2018-03-01 00:00:00           9\n",
       "2018-03-01 00:10:00          14\n",
       "2018-03-01 00:20:00          28\n",
       "2018-03-01 00:30:00          20\n",
       "2018-03-01 00:40:00          32"
      ]
     },
     "metadata": {},
     "output_type": "display_data"
    }
   ],
   "source": [
    "data = pd.read_csv('/datasets/taxi.csv', index_col=[0], parse_dates=[0])\n",
    "display(data.head())"
   ]
  },
  {
   "cell_type": "code",
   "execution_count": 3,
   "id": "2e462b6b",
   "metadata": {},
   "outputs": [
    {
     "name": "stdout",
     "output_type": "stream",
     "text": [
      "<bound method DataFrame.info of                      num_orders\n",
      "datetime                       \n",
      "2018-03-01 00:00:00           9\n",
      "2018-03-01 00:10:00          14\n",
      "2018-03-01 00:20:00          28\n",
      "2018-03-01 00:30:00          20\n",
      "2018-03-01 00:40:00          32\n",
      "...                         ...\n",
      "2018-08-31 23:10:00          32\n",
      "2018-08-31 23:20:00          24\n",
      "2018-08-31 23:30:00          27\n",
      "2018-08-31 23:40:00          39\n",
      "2018-08-31 23:50:00          53\n",
      "\n",
      "[26496 rows x 1 columns]>\n"
     ]
    }
   ],
   "source": [
    "print(data.info)"
   ]
  },
  {
   "cell_type": "code",
   "execution_count": 4,
   "id": "3b5f5d5e",
   "metadata": {},
   "outputs": [
    {
     "name": "stdout",
     "output_type": "stream",
     "text": [
      "(26496, 1)\n"
     ]
    }
   ],
   "source": [
    "print(data.shape)"
   ]
  },
  {
   "cell_type": "code",
   "execution_count": 5,
   "id": "8a104174",
   "metadata": {},
   "outputs": [],
   "source": [
    "data = data.resample('1H').sum()"
   ]
  },
  {
   "cell_type": "code",
   "execution_count": 6,
   "id": "4df446e8",
   "metadata": {},
   "outputs": [
    {
     "data": {
      "text/plain": [
       "num_orders    0\n",
       "dtype: int64"
      ]
     },
     "execution_count": 6,
     "metadata": {},
     "output_type": "execute_result"
    }
   ],
   "source": [
    "data.isna().sum()"
   ]
  },
  {
   "cell_type": "code",
   "execution_count": 7,
   "id": "6f0e3e75",
   "metadata": {},
   "outputs": [
    {
     "data": {
      "text/html": [
       "<div>\n",
       "<style scoped>\n",
       "    .dataframe tbody tr th:only-of-type {\n",
       "        vertical-align: middle;\n",
       "    }\n",
       "\n",
       "    .dataframe tbody tr th {\n",
       "        vertical-align: top;\n",
       "    }\n",
       "\n",
       "    .dataframe thead th {\n",
       "        text-align: right;\n",
       "    }\n",
       "</style>\n",
       "<table border=\"1\" class=\"dataframe\">\n",
       "  <thead>\n",
       "    <tr style=\"text-align: right;\">\n",
       "      <th></th>\n",
       "      <th>num_orders</th>\n",
       "    </tr>\n",
       "    <tr>\n",
       "      <th>datetime</th>\n",
       "      <th></th>\n",
       "    </tr>\n",
       "  </thead>\n",
       "  <tbody>\n",
       "    <tr>\n",
       "      <th>2018-03-01 00:00:00</th>\n",
       "      <td>124</td>\n",
       "    </tr>\n",
       "    <tr>\n",
       "      <th>2018-03-01 01:00:00</th>\n",
       "      <td>85</td>\n",
       "    </tr>\n",
       "    <tr>\n",
       "      <th>2018-03-01 02:00:00</th>\n",
       "      <td>71</td>\n",
       "    </tr>\n",
       "    <tr>\n",
       "      <th>2018-03-01 03:00:00</th>\n",
       "      <td>66</td>\n",
       "    </tr>\n",
       "    <tr>\n",
       "      <th>2018-03-01 04:00:00</th>\n",
       "      <td>43</td>\n",
       "    </tr>\n",
       "  </tbody>\n",
       "</table>\n",
       "</div>"
      ],
      "text/plain": [
       "                     num_orders\n",
       "datetime                       \n",
       "2018-03-01 00:00:00         124\n",
       "2018-03-01 01:00:00          85\n",
       "2018-03-01 02:00:00          71\n",
       "2018-03-01 03:00:00          66\n",
       "2018-03-01 04:00:00          43"
      ]
     },
     "metadata": {},
     "output_type": "display_data"
    },
    {
     "name": "stdout",
     "output_type": "stream",
     "text": [
      "(4416, 1)\n"
     ]
    }
   ],
   "source": [
    "display(data.head())\n",
    "print(data.shape)"
   ]
  },
  {
   "cell_type": "markdown",
   "id": "8aa2f230",
   "metadata": {},
   "source": [
    "**2  Анализ**"
   ]
  },
  {
   "cell_type": "markdown",
   "id": "91e86032",
   "metadata": {},
   "source": [
    "Рассмотрим данные на графике."
   ]
  },
  {
   "cell_type": "code",
   "execution_count": 9,
   "id": "c0a44156",
   "metadata": {},
   "outputs": [
    {
     "data": {
      "image/png": "[encoded data removed]",
      "text/plain": [
       "<Figure size 864x432 with 1 Axes>"
      ]
     },
     "metadata": {
      "needs_background": "light"
     },
     "output_type": "display_data"
    }
   ],
   "source": [
    "plt.figure(figsize=(12, 6))\n",
    "plt.plot(data)\n",
    "plt.xlabel('datetime')\n",
    "plt.ylabel('num_orders')\n",
    "plt.title('Количество заказов')\n",
    "plt.legend(['num_orders'])\n",
    "plt.show()"
   ]
  },
  {
   "cell_type": "markdown",
   "id": "6bf5a816",
   "metadata": {},
   "source": [
    "Количество заказов от марта к сентябрю значительно возросло. В августе отмечается несколько часов очень сильной загруженности заказами. Для более детального рассмотрения выделим тренд и сезонность в предоставленных данных."
   ]
  },
  {
   "cell_type": "code",
   "execution_count": 10,
   "id": "ff09fe30",
   "metadata": {},
   "outputs": [
    {
     "data": {
      "image/png": "[encoded data removed]",
      "text/plain": [
       "<Figure size 864x432 with 1 Axes>"
      ]
     },
     "metadata": {
      "needs_background": "light"
     },
     "output_type": "display_data"
    }
   ],
   "source": [
    "decomposed = seasonal_decompose(data)\n",
    "plt.figure(figsize=(12, 6))\n",
    "decomposed.trend.plot(ax=plt.gca(), color='red')\n",
    "plt.title('Trend');"
   ]
  },
  {
   "cell_type": "code",
   "execution_count": 11,
   "id": "70f3176b",
   "metadata": {},
   "outputs": [
    {
     "data": {
      "image/png": "[encoded data removed]",
      "text/plain": [
       "<Figure size 432x288 with 1 Axes>"
      ]
     },
     "metadata": {
      "needs_background": "light"
     },
     "output_type": "display_data"
    }
   ],
   "source": [
    "decomposed.resid.plot(ax=plt.gca(), color = 'darkblue')\n",
    "plt.title('Residuals');"
   ]
  },
  {
   "cell_type": "markdown",
   "id": "1efd33b9",
   "metadata": {},
   "source": [
    "На графиках видно, что сезонности в данных нет, тренд на увеличение количества заказов в августе."
   ]
  },
  {
   "cell_type": "code",
   "execution_count": 12,
   "id": "71c1d040",
   "metadata": {},
   "outputs": [
    {
     "data": {
      "image/png": "[encoded data removed]",
      "text/plain": [
       "<Figure size 864x288 with 1 Axes>"
      ]
     },
     "metadata": {
      "needs_background": "light"
     },
     "output_type": "display_data"
    }
   ],
   "source": [
    "decomposed_month = seasonal_decompose(data['2018-08-01':'2018-08-31'])\n",
    "plt.figure(figsize=(12, 4))\n",
    "decomposed_month.trend.plot(ax=plt.gca(), color='red')\n",
    "plt.title('Trend');"
   ]
  },
  {
   "cell_type": "code",
   "execution_count": 13,
   "id": "0eb0b70d",
   "metadata": {},
   "outputs": [
    {
     "data": {
      "image/png": "[encoded data removed]",
      "text/plain": [
       "<Figure size 432x288 with 1 Axes>"
      ]
     },
     "metadata": {
      "needs_background": "light"
     },
     "output_type": "display_data"
    }
   ],
   "source": [
    "decomposed_month.resid.plot(ax=plt.gca(), color = 'darkblue')\n",
    "plt.title('Residuals');"
   ]
  },
  {
   "cell_type": "markdown",
   "id": "10e01a9a",
   "metadata": {},
   "source": [
    "Уменьшение диапазона данных для более детального рассмотрения на графике подтверждает предыдущие выводы."
   ]
  },
  {
   "cell_type": "markdown",
   "id": "5d55a764",
   "metadata": {},
   "source": [
    "Сдвинем наши временные ряды вперед на 1 день, т.е. на 24 часа. Добавляем лаг 24 для создания дополнительных данных для более качественного прогнозирования будущей модели. И добавим скользящее среднее, которое сглаживает значения временного ряда. Для него возьмем параметр также равный одному дню - 24 часа."
   ]
  },
  {
   "cell_type": "code",
   "execution_count": 14,
   "id": "5c02ede5",
   "metadata": {},
   "outputs": [
    {
     "data": {
      "text/html": [
       "<div>\n",
       "<style scoped>\n",
       "    .dataframe tbody tr th:only-of-type {\n",
       "        vertical-align: middle;\n",
       "    }\n",
       "\n",
       "    .dataframe tbody tr th {\n",
       "        vertical-align: top;\n",
       "    }\n",
       "\n",
       "    .dataframe thead th {\n",
       "        text-align: right;\n",
       "    }\n",
       "</style>\n",
       "<table border=\"1\" class=\"dataframe\">\n",
       "  <thead>\n",
       "    <tr style=\"text-align: right;\">\n",
       "      <th></th>\n",
       "      <th>num_orders</th>\n",
       "      <th>lag_1</th>\n",
       "      <th>lag_2</th>\n",
       "      <th>lag_3</th>\n",
       "      <th>lag_4</th>\n",
       "      <th>lag_5</th>\n",
       "      <th>lag_6</th>\n",
       "      <th>lag_7</th>\n",
       "      <th>lag_8</th>\n",
       "      <th>lag_9</th>\n",
       "      <th>...</th>\n",
       "      <th>lag_16</th>\n",
       "      <th>lag_17</th>\n",
       "      <th>lag_18</th>\n",
       "      <th>lag_19</th>\n",
       "      <th>lag_20</th>\n",
       "      <th>lag_21</th>\n",
       "      <th>lag_22</th>\n",
       "      <th>lag_23</th>\n",
       "      <th>lag_24</th>\n",
       "      <th>rolling_mean</th>\n",
       "    </tr>\n",
       "    <tr>\n",
       "      <th>datetime</th>\n",
       "      <th></th>\n",
       "      <th></th>\n",
       "      <th></th>\n",
       "      <th></th>\n",
       "      <th></th>\n",
       "      <th></th>\n",
       "      <th></th>\n",
       "      <th></th>\n",
       "      <th></th>\n",
       "      <th></th>\n",
       "      <th></th>\n",
       "      <th></th>\n",
       "      <th></th>\n",
       "      <th></th>\n",
       "      <th></th>\n",
       "      <th></th>\n",
       "      <th></th>\n",
       "      <th></th>\n",
       "      <th></th>\n",
       "      <th></th>\n",
       "      <th></th>\n",
       "    </tr>\n",
       "  </thead>\n",
       "  <tbody>\n",
       "    <tr>\n",
       "      <th>2018-03-01 00:00:00</th>\n",
       "      <td>124</td>\n",
       "      <td>NaN</td>\n",
       "      <td>NaN</td>\n",
       "      <td>NaN</td>\n",
       "      <td>NaN</td>\n",
       "      <td>NaN</td>\n",
       "      <td>NaN</td>\n",
       "      <td>NaN</td>\n",
       "      <td>NaN</td>\n",
       "      <td>NaN</td>\n",
       "      <td>...</td>\n",
       "      <td>NaN</td>\n",
       "      <td>NaN</td>\n",
       "      <td>NaN</td>\n",
       "      <td>NaN</td>\n",
       "      <td>NaN</td>\n",
       "      <td>NaN</td>\n",
       "      <td>NaN</td>\n",
       "      <td>NaN</td>\n",
       "      <td>NaN</td>\n",
       "      <td>NaN</td>\n",
       "    </tr>\n",
       "    <tr>\n",
       "      <th>2018-03-01 01:00:00</th>\n",
       "      <td>85</td>\n",
       "      <td>124.0</td>\n",
       "      <td>NaN</td>\n",
       "      <td>NaN</td>\n",
       "      <td>NaN</td>\n",
       "      <td>NaN</td>\n",
       "      <td>NaN</td>\n",
       "      <td>NaN</td>\n",
       "      <td>NaN</td>\n",
       "      <td>NaN</td>\n",
       "      <td>...</td>\n",
       "      <td>NaN</td>\n",
       "      <td>NaN</td>\n",
       "      <td>NaN</td>\n",
       "      <td>NaN</td>\n",
       "      <td>NaN</td>\n",
       "      <td>NaN</td>\n",
       "      <td>NaN</td>\n",
       "      <td>NaN</td>\n",
       "      <td>NaN</td>\n",
       "      <td>NaN</td>\n",
       "    </tr>\n",
       "    <tr>\n",
       "      <th>2018-03-01 02:00:00</th>\n",
       "      <td>71</td>\n",
       "      <td>85.0</td>\n",
       "      <td>124.0</td>\n",
       "      <td>NaN</td>\n",
       "      <td>NaN</td>\n",
       "      <td>NaN</td>\n",
       "      <td>NaN</td>\n",
       "      <td>NaN</td>\n",
       "      <td>NaN</td>\n",
       "      <td>NaN</td>\n",
       "      <td>...</td>\n",
       "      <td>NaN</td>\n",
       "      <td>NaN</td>\n",
       "      <td>NaN</td>\n",
       "      <td>NaN</td>\n",
       "      <td>NaN</td>\n",
       "      <td>NaN</td>\n",
       "      <td>NaN</td>\n",
       "      <td>NaN</td>\n",
       "      <td>NaN</td>\n",
       "      <td>NaN</td>\n",
       "    </tr>\n",
       "    <tr>\n",
       "      <th>2018-03-01 03:00:00</th>\n",
       "      <td>66</td>\n",
       "      <td>71.0</td>\n",
       "      <td>85.0</td>\n",
       "      <td>124.0</td>\n",
       "      <td>NaN</td>\n",
       "      <td>NaN</td>\n",
       "      <td>NaN</td>\n",
       "      <td>NaN</td>\n",
       "      <td>NaN</td>\n",
       "      <td>NaN</td>\n",
       "      <td>...</td>\n",
       "      <td>NaN</td>\n",
       "      <td>NaN</td>\n",
       "      <td>NaN</td>\n",
       "      <td>NaN</td>\n",
       "      <td>NaN</td>\n",
       "      <td>NaN</td>\n",
       "      <td>NaN</td>\n",
       "      <td>NaN</td>\n",
       "      <td>NaN</td>\n",
       "      <td>NaN</td>\n",
       "    </tr>\n",
       "    <tr>\n",
       "      <th>2018-03-01 04:00:00</th>\n",
       "      <td>43</td>\n",
       "      <td>66.0</td>\n",
       "      <td>71.0</td>\n",
       "      <td>85.0</td>\n",
       "      <td>124.0</td>\n",
       "      <td>NaN</td>\n",
       "      <td>NaN</td>\n",
       "      <td>NaN</td>\n",
       "      <td>NaN</td>\n",
       "      <td>NaN</td>\n",
       "      <td>...</td>\n",
       "      <td>NaN</td>\n",
       "      <td>NaN</td>\n",
       "      <td>NaN</td>\n",
       "      <td>NaN</td>\n",
       "      <td>NaN</td>\n",
       "      <td>NaN</td>\n",
       "      <td>NaN</td>\n",
       "      <td>NaN</td>\n",
       "      <td>NaN</td>\n",
       "      <td>NaN</td>\n",
       "    </tr>\n",
       "    <tr>\n",
       "      <th>...</th>\n",
       "      <td>...</td>\n",
       "      <td>...</td>\n",
       "      <td>...</td>\n",
       "      <td>...</td>\n",
       "      <td>...</td>\n",
       "      <td>...</td>\n",
       "      <td>...</td>\n",
       "      <td>...</td>\n",
       "      <td>...</td>\n",
       "      <td>...</td>\n",
       "      <td>...</td>\n",
       "      <td>...</td>\n",
       "      <td>...</td>\n",
       "      <td>...</td>\n",
       "      <td>...</td>\n",
       "      <td>...</td>\n",
       "      <td>...</td>\n",
       "      <td>...</td>\n",
       "      <td>...</td>\n",
       "      <td>...</td>\n",
       "      <td>...</td>\n",
       "    </tr>\n",
       "    <tr>\n",
       "      <th>2018-08-31 19:00:00</th>\n",
       "      <td>136</td>\n",
       "      <td>207.0</td>\n",
       "      <td>217.0</td>\n",
       "      <td>197.0</td>\n",
       "      <td>116.0</td>\n",
       "      <td>133.0</td>\n",
       "      <td>166.0</td>\n",
       "      <td>136.0</td>\n",
       "      <td>167.0</td>\n",
       "      <td>191.0</td>\n",
       "      <td>...</td>\n",
       "      <td>99.0</td>\n",
       "      <td>230.0</td>\n",
       "      <td>194.0</td>\n",
       "      <td>276.0</td>\n",
       "      <td>246.0</td>\n",
       "      <td>158.0</td>\n",
       "      <td>198.0</td>\n",
       "      <td>142.0</td>\n",
       "      <td>72.0</td>\n",
       "      <td>164.875000</td>\n",
       "    </tr>\n",
       "    <tr>\n",
       "      <th>2018-08-31 20:00:00</th>\n",
       "      <td>154</td>\n",
       "      <td>136.0</td>\n",
       "      <td>207.0</td>\n",
       "      <td>217.0</td>\n",
       "      <td>197.0</td>\n",
       "      <td>116.0</td>\n",
       "      <td>133.0</td>\n",
       "      <td>166.0</td>\n",
       "      <td>136.0</td>\n",
       "      <td>167.0</td>\n",
       "      <td>...</td>\n",
       "      <td>268.0</td>\n",
       "      <td>99.0</td>\n",
       "      <td>230.0</td>\n",
       "      <td>194.0</td>\n",
       "      <td>276.0</td>\n",
       "      <td>246.0</td>\n",
       "      <td>158.0</td>\n",
       "      <td>198.0</td>\n",
       "      <td>142.0</td>\n",
       "      <td>167.541667</td>\n",
       "    </tr>\n",
       "    <tr>\n",
       "      <th>2018-08-31 21:00:00</th>\n",
       "      <td>159</td>\n",
       "      <td>154.0</td>\n",
       "      <td>136.0</td>\n",
       "      <td>207.0</td>\n",
       "      <td>217.0</td>\n",
       "      <td>197.0</td>\n",
       "      <td>116.0</td>\n",
       "      <td>133.0</td>\n",
       "      <td>166.0</td>\n",
       "      <td>136.0</td>\n",
       "      <td>...</td>\n",
       "      <td>78.0</td>\n",
       "      <td>268.0</td>\n",
       "      <td>99.0</td>\n",
       "      <td>230.0</td>\n",
       "      <td>194.0</td>\n",
       "      <td>276.0</td>\n",
       "      <td>246.0</td>\n",
       "      <td>158.0</td>\n",
       "      <td>198.0</td>\n",
       "      <td>168.041667</td>\n",
       "    </tr>\n",
       "    <tr>\n",
       "      <th>2018-08-31 22:00:00</th>\n",
       "      <td>223</td>\n",
       "      <td>159.0</td>\n",
       "      <td>154.0</td>\n",
       "      <td>136.0</td>\n",
       "      <td>207.0</td>\n",
       "      <td>217.0</td>\n",
       "      <td>197.0</td>\n",
       "      <td>116.0</td>\n",
       "      <td>133.0</td>\n",
       "      <td>166.0</td>\n",
       "      <td>...</td>\n",
       "      <td>35.0</td>\n",
       "      <td>78.0</td>\n",
       "      <td>268.0</td>\n",
       "      <td>99.0</td>\n",
       "      <td>230.0</td>\n",
       "      <td>194.0</td>\n",
       "      <td>276.0</td>\n",
       "      <td>246.0</td>\n",
       "      <td>158.0</td>\n",
       "      <td>166.416667</td>\n",
       "    </tr>\n",
       "    <tr>\n",
       "      <th>2018-08-31 23:00:00</th>\n",
       "      <td>205</td>\n",
       "      <td>223.0</td>\n",
       "      <td>159.0</td>\n",
       "      <td>154.0</td>\n",
       "      <td>136.0</td>\n",
       "      <td>207.0</td>\n",
       "      <td>217.0</td>\n",
       "      <td>197.0</td>\n",
       "      <td>116.0</td>\n",
       "      <td>133.0</td>\n",
       "      <td>...</td>\n",
       "      <td>46.0</td>\n",
       "      <td>35.0</td>\n",
       "      <td>78.0</td>\n",
       "      <td>268.0</td>\n",
       "      <td>99.0</td>\n",
       "      <td>230.0</td>\n",
       "      <td>194.0</td>\n",
       "      <td>276.0</td>\n",
       "      <td>246.0</td>\n",
       "      <td>169.125000</td>\n",
       "    </tr>\n",
       "  </tbody>\n",
       "</table>\n",
       "<p>4416 rows × 26 columns</p>\n",
       "</div>"
      ],
      "text/plain": [
       "                     num_orders  lag_1  lag_2  lag_3  lag_4  lag_5  lag_6  \\\n",
       "datetime                                                                    \n",
       "2018-03-01 00:00:00         124    NaN    NaN    NaN    NaN    NaN    NaN   \n",
       "2018-03-01 01:00:00          85  124.0    NaN    NaN    NaN    NaN    NaN   \n",
       "2018-03-01 02:00:00          71   85.0  124.0    NaN    NaN    NaN    NaN   \n",
       "2018-03-01 03:00:00          66   71.0   85.0  124.0    NaN    NaN    NaN   \n",
       "2018-03-01 04:00:00          43   66.0   71.0   85.0  124.0    NaN    NaN   \n",
       "...                         ...    ...    ...    ...    ...    ...    ...   \n",
       "2018-08-31 19:00:00         136  207.0  217.0  197.0  116.0  133.0  166.0   \n",
       "2018-08-31 20:00:00         154  136.0  207.0  217.0  197.0  116.0  133.0   \n",
       "2018-08-31 21:00:00         159  154.0  136.0  207.0  217.0  197.0  116.0   \n",
       "2018-08-31 22:00:00         223  159.0  154.0  136.0  207.0  217.0  197.0   \n",
       "2018-08-31 23:00:00         205  223.0  159.0  154.0  136.0  207.0  217.0   \n",
       "\n",
       "                     lag_7  lag_8  lag_9  ...  lag_16  lag_17  lag_18  lag_19  \\\n",
       "datetime                                  ...                                   \n",
       "2018-03-01 00:00:00    NaN    NaN    NaN  ...     NaN     NaN     NaN     NaN   \n",
       "2018-03-01 01:00:00    NaN    NaN    NaN  ...     NaN     NaN     NaN     NaN   \n",
       "2018-03-01 02:00:00    NaN    NaN    NaN  ...     NaN     NaN     NaN     NaN   \n",
       "2018-03-01 03:00:00    NaN    NaN    NaN  ...     NaN     NaN     NaN     NaN   \n",
       "2018-03-01 04:00:00    NaN    NaN    NaN  ...     NaN     NaN     NaN     NaN   \n",
       "...                    ...    ...    ...  ...     ...     ...     ...     ...   \n",
       "2018-08-31 19:00:00  136.0  167.0  191.0  ...    99.0   230.0   194.0   276.0   \n",
       "2018-08-31 20:00:00  166.0  136.0  167.0  ...   268.0    99.0   230.0   194.0   \n",
       "2018-08-31 21:00:00  133.0  166.0  136.0  ...    78.0   268.0    99.0   230.0   \n",
       "2018-08-31 22:00:00  116.0  133.0  166.0  ...    35.0    78.0   268.0    99.0   \n",
       "2018-08-31 23:00:00  197.0  116.0  133.0  ...    46.0    35.0    78.0   268.0   \n",
       "\n",
       "                     lag_20  lag_21  lag_22  lag_23  lag_24  rolling_mean  \n",
       "datetime                                                                   \n",
       "2018-03-01 00:00:00     NaN     NaN     NaN     NaN     NaN           NaN  \n",
       "2018-03-01 01:00:00     NaN     NaN     NaN     NaN     NaN           NaN  \n",
       "2018-03-01 02:00:00     NaN     NaN     NaN     NaN     NaN           NaN  \n",
       "2018-03-01 03:00:00     NaN     NaN     NaN     NaN     NaN           NaN  \n",
       "2018-03-01 04:00:00     NaN     NaN     NaN     NaN     NaN           NaN  \n",
       "...                     ...     ...     ...     ...     ...           ...  \n",
       "2018-08-31 19:00:00   246.0   158.0   198.0   142.0    72.0    164.875000  \n",
       "2018-08-31 20:00:00   276.0   246.0   158.0   198.0   142.0    167.541667  \n",
       "2018-08-31 21:00:00   194.0   276.0   246.0   158.0   198.0    168.041667  \n",
       "2018-08-31 22:00:00   230.0   194.0   276.0   246.0   158.0    166.416667  \n",
       "2018-08-31 23:00:00    99.0   230.0   194.0   276.0   246.0    169.125000  \n",
       "\n",
       "[4416 rows x 26 columns]"
      ]
     },
     "execution_count": 14,
     "metadata": {},
     "output_type": "execute_result"
    }
   ],
   "source": [
    "def make_features(data, max_lag, rolling_mean_size):\n",
    "    for lag in range(1, max_lag + 1):\n",
    "        data['lag_{}'.format(lag)] = data['num_orders'].shift(lag)\n",
    "    data['rolling_mean'] = data['num_orders'].shift().rolling(rolling_mean_size).mean()\n",
    "    return data\n",
    "make_features(data, 24, 24)"
   ]
  },
  {
   "cell_type": "code",
   "execution_count": 15,
   "id": "b6bf384a",
   "metadata": {},
   "outputs": [
    {
     "name": "stdout",
     "output_type": "stream",
     "text": [
      "(4416, 26)\n"
     ]
    }
   ],
   "source": [
    "print(data.shape)"
   ]
  },
  {
   "cell_type": "code",
   "execution_count": 16,
   "id": "352f1c91",
   "metadata": {},
   "outputs": [
    {
     "data": {
      "text/plain": [
       "<Figure size 1440x720 with 0 Axes>"
      ]
     },
     "metadata": {},
     "output_type": "display_data"
    },
    {
     "data": {
      "image/png": "[encoded data removed]",
      "text/plain": [
       "<Figure size 432x288 with 1 Axes>"
      ]
     },
     "metadata": {
      "needs_background": "light"
     },
     "output_type": "display_data"
    }
   ],
   "source": [
    "plt.figure(figsize=(20, 10))\n",
    "data.plot(y=[\"num_orders\", \"rolling_mean\"])\n",
    "plt.xlabel('datetime')\n",
    "plt.ylabel('num_orders')\n",
    "plt.title('Количество заказов')\n",
    "plt.legend(['num_orders', 'rolling_mean'])\n",
    "plt.show();"
   ]
  },
  {
   "cell_type": "markdown",
   "id": "0ce2d42d",
   "metadata": {},
   "source": [
    "**3  Обучение**"
   ]
  },
  {
   "cell_type": "markdown",
   "id": "3ed13876",
   "metadata": {},
   "source": [
    "Разделим имеющиеся данные на выборки - обучающую, валидационную и тестовую. Размер тестовой выборки - 10% от общего количества данных."
   ]
  },
  {
   "cell_type": "code",
   "execution_count": 17,
   "id": "dcdd4173",
   "metadata": {},
   "outputs": [
    {
     "data": {
      "text/html": [
       "<div>\n",
       "<style scoped>\n",
       "    .dataframe tbody tr th:only-of-type {\n",
       "        vertical-align: middle;\n",
       "    }\n",
       "\n",
       "    .dataframe tbody tr th {\n",
       "        vertical-align: top;\n",
       "    }\n",
       "\n",
       "    .dataframe thead th {\n",
       "        text-align: right;\n",
       "    }\n",
       "</style>\n",
       "<table border=\"1\" class=\"dataframe\">\n",
       "  <thead>\n",
       "    <tr style=\"text-align: right;\">\n",
       "      <th></th>\n",
       "      <th>num_orders</th>\n",
       "      <th>lag_1</th>\n",
       "      <th>lag_2</th>\n",
       "      <th>lag_3</th>\n",
       "      <th>lag_4</th>\n",
       "      <th>lag_5</th>\n",
       "      <th>lag_6</th>\n",
       "      <th>lag_7</th>\n",
       "      <th>lag_8</th>\n",
       "      <th>lag_9</th>\n",
       "      <th>...</th>\n",
       "      <th>lag_16</th>\n",
       "      <th>lag_17</th>\n",
       "      <th>lag_18</th>\n",
       "      <th>lag_19</th>\n",
       "      <th>lag_20</th>\n",
       "      <th>lag_21</th>\n",
       "      <th>lag_22</th>\n",
       "      <th>lag_23</th>\n",
       "      <th>lag_24</th>\n",
       "      <th>rolling_mean</th>\n",
       "    </tr>\n",
       "    <tr>\n",
       "      <th>datetime</th>\n",
       "      <th></th>\n",
       "      <th></th>\n",
       "      <th></th>\n",
       "      <th></th>\n",
       "      <th></th>\n",
       "      <th></th>\n",
       "      <th></th>\n",
       "      <th></th>\n",
       "      <th></th>\n",
       "      <th></th>\n",
       "      <th></th>\n",
       "      <th></th>\n",
       "      <th></th>\n",
       "      <th></th>\n",
       "      <th></th>\n",
       "      <th></th>\n",
       "      <th></th>\n",
       "      <th></th>\n",
       "      <th></th>\n",
       "      <th></th>\n",
       "      <th></th>\n",
       "    </tr>\n",
       "  </thead>\n",
       "  <tbody>\n",
       "    <tr>\n",
       "      <th>2018-03-02 00:00:00</th>\n",
       "      <td>90</td>\n",
       "      <td>58.0</td>\n",
       "      <td>113.0</td>\n",
       "      <td>66.0</td>\n",
       "      <td>61.0</td>\n",
       "      <td>45.0</td>\n",
       "      <td>73.0</td>\n",
       "      <td>44.0</td>\n",
       "      <td>43.0</td>\n",
       "      <td>66.0</td>\n",
       "      <td>...</td>\n",
       "      <td>34.0</td>\n",
       "      <td>15.0</td>\n",
       "      <td>12.0</td>\n",
       "      <td>6.0</td>\n",
       "      <td>43.0</td>\n",
       "      <td>66.0</td>\n",
       "      <td>71.0</td>\n",
       "      <td>85.0</td>\n",
       "      <td>124.0</td>\n",
       "      <td>56.833333</td>\n",
       "    </tr>\n",
       "    <tr>\n",
       "      <th>2018-03-02 01:00:00</th>\n",
       "      <td>120</td>\n",
       "      <td>90.0</td>\n",
       "      <td>58.0</td>\n",
       "      <td>113.0</td>\n",
       "      <td>66.0</td>\n",
       "      <td>61.0</td>\n",
       "      <td>45.0</td>\n",
       "      <td>73.0</td>\n",
       "      <td>44.0</td>\n",
       "      <td>43.0</td>\n",
       "      <td>...</td>\n",
       "      <td>69.0</td>\n",
       "      <td>34.0</td>\n",
       "      <td>15.0</td>\n",
       "      <td>12.0</td>\n",
       "      <td>6.0</td>\n",
       "      <td>43.0</td>\n",
       "      <td>66.0</td>\n",
       "      <td>71.0</td>\n",
       "      <td>85.0</td>\n",
       "      <td>55.416667</td>\n",
       "    </tr>\n",
       "    <tr>\n",
       "      <th>2018-03-02 02:00:00</th>\n",
       "      <td>75</td>\n",
       "      <td>120.0</td>\n",
       "      <td>90.0</td>\n",
       "      <td>58.0</td>\n",
       "      <td>113.0</td>\n",
       "      <td>66.0</td>\n",
       "      <td>61.0</td>\n",
       "      <td>45.0</td>\n",
       "      <td>73.0</td>\n",
       "      <td>44.0</td>\n",
       "      <td>...</td>\n",
       "      <td>64.0</td>\n",
       "      <td>69.0</td>\n",
       "      <td>34.0</td>\n",
       "      <td>15.0</td>\n",
       "      <td>12.0</td>\n",
       "      <td>6.0</td>\n",
       "      <td>43.0</td>\n",
       "      <td>66.0</td>\n",
       "      <td>71.0</td>\n",
       "      <td>56.875000</td>\n",
       "    </tr>\n",
       "    <tr>\n",
       "      <th>2018-03-02 03:00:00</th>\n",
       "      <td>64</td>\n",
       "      <td>75.0</td>\n",
       "      <td>120.0</td>\n",
       "      <td>90.0</td>\n",
       "      <td>58.0</td>\n",
       "      <td>113.0</td>\n",
       "      <td>66.0</td>\n",
       "      <td>61.0</td>\n",
       "      <td>45.0</td>\n",
       "      <td>73.0</td>\n",
       "      <td>...</td>\n",
       "      <td>96.0</td>\n",
       "      <td>64.0</td>\n",
       "      <td>69.0</td>\n",
       "      <td>34.0</td>\n",
       "      <td>15.0</td>\n",
       "      <td>12.0</td>\n",
       "      <td>6.0</td>\n",
       "      <td>43.0</td>\n",
       "      <td>66.0</td>\n",
       "      <td>57.041667</td>\n",
       "    </tr>\n",
       "    <tr>\n",
       "      <th>2018-03-02 04:00:00</th>\n",
       "      <td>20</td>\n",
       "      <td>64.0</td>\n",
       "      <td>75.0</td>\n",
       "      <td>120.0</td>\n",
       "      <td>90.0</td>\n",
       "      <td>58.0</td>\n",
       "      <td>113.0</td>\n",
       "      <td>66.0</td>\n",
       "      <td>61.0</td>\n",
       "      <td>45.0</td>\n",
       "      <td>...</td>\n",
       "      <td>30.0</td>\n",
       "      <td>96.0</td>\n",
       "      <td>64.0</td>\n",
       "      <td>69.0</td>\n",
       "      <td>34.0</td>\n",
       "      <td>15.0</td>\n",
       "      <td>12.0</td>\n",
       "      <td>6.0</td>\n",
       "      <td>43.0</td>\n",
       "      <td>56.958333</td>\n",
       "    </tr>\n",
       "  </tbody>\n",
       "</table>\n",
       "<p>5 rows × 26 columns</p>\n",
       "</div>"
      ],
      "text/plain": [
       "                     num_orders  lag_1  lag_2  lag_3  lag_4  lag_5  lag_6  \\\n",
       "datetime                                                                    \n",
       "2018-03-02 00:00:00          90   58.0  113.0   66.0   61.0   45.0   73.0   \n",
       "2018-03-02 01:00:00         120   90.0   58.0  113.0   66.0   61.0   45.0   \n",
       "2018-03-02 02:00:00          75  120.0   90.0   58.0  113.0   66.0   61.0   \n",
       "2018-03-02 03:00:00          64   75.0  120.0   90.0   58.0  113.0   66.0   \n",
       "2018-03-02 04:00:00          20   64.0   75.0  120.0   90.0   58.0  113.0   \n",
       "\n",
       "                     lag_7  lag_8  lag_9  ...  lag_16  lag_17  lag_18  lag_19  \\\n",
       "datetime                                  ...                                   \n",
       "2018-03-02 00:00:00   44.0   43.0   66.0  ...    34.0    15.0    12.0     6.0   \n",
       "2018-03-02 01:00:00   73.0   44.0   43.0  ...    69.0    34.0    15.0    12.0   \n",
       "2018-03-02 02:00:00   45.0   73.0   44.0  ...    64.0    69.0    34.0    15.0   \n",
       "2018-03-02 03:00:00   61.0   45.0   73.0  ...    96.0    64.0    69.0    34.0   \n",
       "2018-03-02 04:00:00   66.0   61.0   45.0  ...    30.0    96.0    64.0    69.0   \n",
       "\n",
       "                     lag_20  lag_21  lag_22  lag_23  lag_24  rolling_mean  \n",
       "datetime                                                                   \n",
       "2018-03-02 00:00:00    43.0    66.0    71.0    85.0   124.0     56.833333  \n",
       "2018-03-02 01:00:00     6.0    43.0    66.0    71.0    85.0     55.416667  \n",
       "2018-03-02 02:00:00    12.0     6.0    43.0    66.0    71.0     56.875000  \n",
       "2018-03-02 03:00:00    15.0    12.0     6.0    43.0    66.0     57.041667  \n",
       "2018-03-02 04:00:00    34.0    15.0    12.0     6.0    43.0     56.958333  \n",
       "\n",
       "[5 rows x 26 columns]"
      ]
     },
     "metadata": {},
     "output_type": "display_data"
    },
    {
     "data": {
      "text/html": [
       "<div>\n",
       "<style scoped>\n",
       "    .dataframe tbody tr th:only-of-type {\n",
       "        vertical-align: middle;\n",
       "    }\n",
       "\n",
       "    .dataframe tbody tr th {\n",
       "        vertical-align: top;\n",
       "    }\n",
       "\n",
       "    .dataframe thead th {\n",
       "        text-align: right;\n",
       "    }\n",
       "</style>\n",
       "<table border=\"1\" class=\"dataframe\">\n",
       "  <thead>\n",
       "    <tr style=\"text-align: right;\">\n",
       "      <th></th>\n",
       "      <th>num_orders</th>\n",
       "      <th>lag_1</th>\n",
       "      <th>lag_2</th>\n",
       "      <th>lag_3</th>\n",
       "      <th>lag_4</th>\n",
       "      <th>lag_5</th>\n",
       "      <th>lag_6</th>\n",
       "      <th>lag_7</th>\n",
       "      <th>lag_8</th>\n",
       "      <th>lag_9</th>\n",
       "      <th>...</th>\n",
       "      <th>lag_16</th>\n",
       "      <th>lag_17</th>\n",
       "      <th>lag_18</th>\n",
       "      <th>lag_19</th>\n",
       "      <th>lag_20</th>\n",
       "      <th>lag_21</th>\n",
       "      <th>lag_22</th>\n",
       "      <th>lag_23</th>\n",
       "      <th>lag_24</th>\n",
       "      <th>rolling_mean</th>\n",
       "    </tr>\n",
       "    <tr>\n",
       "      <th>datetime</th>\n",
       "      <th></th>\n",
       "      <th></th>\n",
       "      <th></th>\n",
       "      <th></th>\n",
       "      <th></th>\n",
       "      <th></th>\n",
       "      <th></th>\n",
       "      <th></th>\n",
       "      <th></th>\n",
       "      <th></th>\n",
       "      <th></th>\n",
       "      <th></th>\n",
       "      <th></th>\n",
       "      <th></th>\n",
       "      <th></th>\n",
       "      <th></th>\n",
       "      <th></th>\n",
       "      <th></th>\n",
       "      <th></th>\n",
       "      <th></th>\n",
       "      <th></th>\n",
       "    </tr>\n",
       "  </thead>\n",
       "  <tbody>\n",
       "    <tr>\n",
       "      <th>2018-08-13 14:00:00</th>\n",
       "      <td>102</td>\n",
       "      <td>119.0</td>\n",
       "      <td>92.0</td>\n",
       "      <td>144.0</td>\n",
       "      <td>156.0</td>\n",
       "      <td>137.0</td>\n",
       "      <td>91.0</td>\n",
       "      <td>39.0</td>\n",
       "      <td>66.0</td>\n",
       "      <td>83.0</td>\n",
       "      <td>...</td>\n",
       "      <td>118.0</td>\n",
       "      <td>135.0</td>\n",
       "      <td>98.0</td>\n",
       "      <td>82.0</td>\n",
       "      <td>78.0</td>\n",
       "      <td>115.0</td>\n",
       "      <td>153.0</td>\n",
       "      <td>149.0</td>\n",
       "      <td>104.0</td>\n",
       "      <td>138.541667</td>\n",
       "    </tr>\n",
       "    <tr>\n",
       "      <th>2018-08-13 15:00:00</th>\n",
       "      <td>175</td>\n",
       "      <td>102.0</td>\n",
       "      <td>119.0</td>\n",
       "      <td>92.0</td>\n",
       "      <td>144.0</td>\n",
       "      <td>156.0</td>\n",
       "      <td>137.0</td>\n",
       "      <td>91.0</td>\n",
       "      <td>39.0</td>\n",
       "      <td>66.0</td>\n",
       "      <td>...</td>\n",
       "      <td>185.0</td>\n",
       "      <td>118.0</td>\n",
       "      <td>135.0</td>\n",
       "      <td>98.0</td>\n",
       "      <td>82.0</td>\n",
       "      <td>78.0</td>\n",
       "      <td>115.0</td>\n",
       "      <td>153.0</td>\n",
       "      <td>149.0</td>\n",
       "      <td>138.458333</td>\n",
       "    </tr>\n",
       "    <tr>\n",
       "      <th>2018-08-13 16:00:00</th>\n",
       "      <td>144</td>\n",
       "      <td>175.0</td>\n",
       "      <td>102.0</td>\n",
       "      <td>119.0</td>\n",
       "      <td>92.0</td>\n",
       "      <td>144.0</td>\n",
       "      <td>156.0</td>\n",
       "      <td>137.0</td>\n",
       "      <td>91.0</td>\n",
       "      <td>39.0</td>\n",
       "      <td>...</td>\n",
       "      <td>160.0</td>\n",
       "      <td>185.0</td>\n",
       "      <td>118.0</td>\n",
       "      <td>135.0</td>\n",
       "      <td>98.0</td>\n",
       "      <td>82.0</td>\n",
       "      <td>78.0</td>\n",
       "      <td>115.0</td>\n",
       "      <td>153.0</td>\n",
       "      <td>139.541667</td>\n",
       "    </tr>\n",
       "    <tr>\n",
       "      <th>2018-08-13 17:00:00</th>\n",
       "      <td>152</td>\n",
       "      <td>144.0</td>\n",
       "      <td>175.0</td>\n",
       "      <td>102.0</td>\n",
       "      <td>119.0</td>\n",
       "      <td>92.0</td>\n",
       "      <td>144.0</td>\n",
       "      <td>156.0</td>\n",
       "      <td>137.0</td>\n",
       "      <td>91.0</td>\n",
       "      <td>...</td>\n",
       "      <td>273.0</td>\n",
       "      <td>160.0</td>\n",
       "      <td>185.0</td>\n",
       "      <td>118.0</td>\n",
       "      <td>135.0</td>\n",
       "      <td>98.0</td>\n",
       "      <td>82.0</td>\n",
       "      <td>78.0</td>\n",
       "      <td>115.0</td>\n",
       "      <td>139.166667</td>\n",
       "    </tr>\n",
       "    <tr>\n",
       "      <th>2018-08-13 18:00:00</th>\n",
       "      <td>104</td>\n",
       "      <td>152.0</td>\n",
       "      <td>144.0</td>\n",
       "      <td>175.0</td>\n",
       "      <td>102.0</td>\n",
       "      <td>119.0</td>\n",
       "      <td>92.0</td>\n",
       "      <td>144.0</td>\n",
       "      <td>156.0</td>\n",
       "      <td>137.0</td>\n",
       "      <td>...</td>\n",
       "      <td>437.0</td>\n",
       "      <td>273.0</td>\n",
       "      <td>160.0</td>\n",
       "      <td>185.0</td>\n",
       "      <td>118.0</td>\n",
       "      <td>135.0</td>\n",
       "      <td>98.0</td>\n",
       "      <td>82.0</td>\n",
       "      <td>78.0</td>\n",
       "      <td>140.708333</td>\n",
       "    </tr>\n",
       "  </tbody>\n",
       "</table>\n",
       "<p>5 rows × 26 columns</p>\n",
       "</div>"
      ],
      "text/plain": [
       "                     num_orders  lag_1  lag_2  lag_3  lag_4  lag_5  lag_6  \\\n",
       "datetime                                                                    \n",
       "2018-08-13 14:00:00         102  119.0   92.0  144.0  156.0  137.0   91.0   \n",
       "2018-08-13 15:00:00         175  102.0  119.0   92.0  144.0  156.0  137.0   \n",
       "2018-08-13 16:00:00         144  175.0  102.0  119.0   92.0  144.0  156.0   \n",
       "2018-08-13 17:00:00         152  144.0  175.0  102.0  119.0   92.0  144.0   \n",
       "2018-08-13 18:00:00         104  152.0  144.0  175.0  102.0  119.0   92.0   \n",
       "\n",
       "                     lag_7  lag_8  lag_9  ...  lag_16  lag_17  lag_18  lag_19  \\\n",
       "datetime                                  ...                                   \n",
       "2018-08-13 14:00:00   39.0   66.0   83.0  ...   118.0   135.0    98.0    82.0   \n",
       "2018-08-13 15:00:00   91.0   39.0   66.0  ...   185.0   118.0   135.0    98.0   \n",
       "2018-08-13 16:00:00  137.0   91.0   39.0  ...   160.0   185.0   118.0   135.0   \n",
       "2018-08-13 17:00:00  156.0  137.0   91.0  ...   273.0   160.0   185.0   118.0   \n",
       "2018-08-13 18:00:00  144.0  156.0  137.0  ...   437.0   273.0   160.0   185.0   \n",
       "\n",
       "                     lag_20  lag_21  lag_22  lag_23  lag_24  rolling_mean  \n",
       "datetime                                                                   \n",
       "2018-08-13 14:00:00    78.0   115.0   153.0   149.0   104.0    138.541667  \n",
       "2018-08-13 15:00:00    82.0    78.0   115.0   153.0   149.0    138.458333  \n",
       "2018-08-13 16:00:00    98.0    82.0    78.0   115.0   153.0    139.541667  \n",
       "2018-08-13 17:00:00   135.0    98.0    82.0    78.0   115.0    139.166667  \n",
       "2018-08-13 18:00:00   118.0   135.0    98.0    82.0    78.0    140.708333  \n",
       "\n",
       "[5 rows x 26 columns]"
      ]
     },
     "metadata": {},
     "output_type": "display_data"
    },
    {
     "name": "stdout",
     "output_type": "stream",
     "text": [
      "(3950, 26)\n",
      "(442, 26)\n"
     ]
    }
   ],
   "source": [
    "train, test = train_test_split(data, shuffle=False, test_size=0.1)\n",
    "train = train.dropna()\n",
    "display(train.head())\n",
    "display(test.head())\n",
    "print(train.shape)\n",
    "print(test.shape)"
   ]
  },
  {
   "cell_type": "code",
   "execution_count": 18,
   "id": "5a8be58a",
   "metadata": {},
   "outputs": [],
   "source": [
    "features_train = train.drop('num_orders', axis=1)\n",
    "target_train = train['num_orders']\n",
    "features_test = test.drop('num_orders', axis=1)\n",
    "target_test = test['num_orders']"
   ]
  },
  {
   "cell_type": "markdown",
   "id": "e167f43e",
   "metadata": {},
   "source": [
    "Для расчета качества метрики создадим функцию расчета RMSE."
   ]
  },
  {
   "cell_type": "code",
   "execution_count": 19,
   "id": "1f49e2dc",
   "metadata": {},
   "outputs": [],
   "source": [
    "def rmse(target, predictions):\n",
    "    rmse = mean_squared_error(target, predictions)**0.5\n",
    "    return rmse"
   ]
  },
  {
   "cell_type": "code",
   "execution_count": 20,
   "id": "7fc7686a",
   "metadata": {},
   "outputs": [],
   "source": [
    "rmse_score = make_scorer(rmse, greater_is_better = False)"
   ]
  },
  {
   "cell_type": "markdown",
   "id": "976ac971",
   "metadata": {},
   "source": [
    "Обучим различные модели"
   ]
  },
  {
   "cell_type": "code",
   "execution_count": 21,
   "id": "2e1c68f6",
   "metadata": {},
   "outputs": [
    {
     "name": "stdout",
     "output_type": "stream",
     "text": [
      "RMSE обучающей выборки: 25.960732583766678\n"
     ]
    }
   ],
   "source": [
    "model = LinearRegression()\n",
    "model.fit(features_train, target_train)\n",
    "predictions = model.predict(features_train)\n",
    "print(\"RMSE обучающей выборки:\", rmse(target_train, predictions))"
   ]
  },
  {
   "cell_type": "code",
   "execution_count": 22,
   "id": "abb26097",
   "metadata": {},
   "outputs": [],
   "source": [
    "model_2 = DecisionTreeRegressor(random_state=12345)\n",
    "parameter = {'max_depth': range(2, 20, 2)}\n",
    "tscv = TimeSeriesSplit(n_splits=6)\n",
    "search_2 = GridSearchCV(estimator = model_2, cv=tscv, param_grid=parameter, scoring=rmse_score)\n",
    "search_2.fit(features_train, target_train);"
   ]
  },
  {
   "cell_type": "code",
   "execution_count": 23,
   "id": "df0170e4",
   "metadata": {},
   "outputs": [
    {
     "name": "stdout",
     "output_type": "stream",
     "text": [
      "{'max_depth': 4}\n",
      "RMSE обучающей выборки: -30.021598589899707\n"
     ]
    }
   ],
   "source": [
    "predictions_2 = search_2.predict(features_train)\n",
    "print(search_2.best_params_)\n",
    "print(\"RMSE обучающей выборки:\", search_2.best_score_)"
   ]
  },
  {
   "cell_type": "code",
   "execution_count": 24,
   "id": "a3768190",
   "metadata": {},
   "outputs": [
    {
     "data": {
      "text/plain": [
       "GridSearchCV(cv=TimeSeriesSplit(gap=0, max_train_size=None, n_splits=4, test_size=None),\n",
       "             estimator=LGBMRegressor(random_state=12345),\n",
       "             param_grid={'max_depth': range(1, 10, 2),\n",
       "                         'n_estimators': [40, 80, 10]},\n",
       "             scoring=make_scorer(rmse, greater_is_better=False))"
      ]
     },
     "execution_count": 24,
     "metadata": {},
     "output_type": "execute_result"
    }
   ],
   "source": [
    "model_3 = LGBMRegressor(random_state=12345)\n",
    "parameter = {'n_estimators': [40, 80, 10], \n",
    "             'max_depth': range(1, 10, 2)\n",
    "             }\n",
    "tscv = TimeSeriesSplit(n_splits=4)\n",
    "search_3 = GridSearchCV(estimator = model_3, cv=tscv, param_grid=parameter, scoring=rmse_score)\n",
    "search_3.fit(features_train, target_train)"
   ]
  },
  {
   "cell_type": "code",
   "execution_count": 25,
   "id": "fdfcca0b",
   "metadata": {},
   "outputs": [
    {
     "name": "stdout",
     "output_type": "stream",
     "text": [
      "{'max_depth': 5, 'n_estimators': 80}\n",
      "RMSE обучающей выборки: -26.52755683127402\n"
     ]
    }
   ],
   "source": [
    "predictions_3 = search_3.predict(features_train)\n",
    "print(search_3.best_params_)\n",
    "print(\"RMSE обучающей выборки:\", search_3.best_score_)"
   ]
  },
  {
   "cell_type": "markdown",
   "id": "8584aec7",
   "metadata": {},
   "source": [
    "При общем достаточно одинаковом уровне качества работы моделей, модель LinearRegressor выдала наилучший результат. К тому же данная модель рассчитывает прогнозы значительно быстрее остальных, требует меньше ресурсов. Рекомендуем её к использованию."
   ]
  },
  {
   "cell_type": "markdown",
   "id": "449a08f3",
   "metadata": {},
   "source": [
    "**4  Тестирование**"
   ]
  },
  {
   "cell_type": "markdown",
   "id": "196b2bd2",
   "metadata": {},
   "source": [
    "Проверим выбранную модель на тестовой выборке."
   ]
  },
  {
   "cell_type": "code",
   "execution_count": 26,
   "id": "4f2b866e",
   "metadata": {},
   "outputs": [
    {
     "name": "stdout",
     "output_type": "stream",
     "text": [
      "RMSE тестовой выборки: 45.02063796761042\n"
     ]
    }
   ],
   "source": [
    "model_test = LinearRegression()\n",
    "model_test.fit(features_train, target_train)\n",
    "predictions_test = model.predict(features_test)\n",
    "print(\"RMSE тестовой выборки:\", rmse(target_test, predictions_test))"
   ]
  },
  {
   "cell_type": "markdown",
   "id": "ad65924b",
   "metadata": {},
   "source": [
    "Сравним предсказания модели с целевым значением."
   ]
  },
  {
   "cell_type": "code",
   "execution_count": 27,
   "id": "94302e1e",
   "metadata": {},
   "outputs": [
    {
     "data": {
      "image/png": "[encoded data removed]",
      "text/plain": [
       "<Figure size 1008x432 with 1 Axes>"
      ]
     },
     "metadata": {
      "needs_background": "light"
     },
     "output_type": "display_data"
    }
   ],
   "source": [
    "plt.figure(figsize = (14,6))\n",
    "plt.plot(target_test['2018-08-25':'2018-08-31'].index, target_test['2018-08-25':'2018-08-31'], color='red')\n",
    "plt.plot(target_test['2018-08-25':'2018-08-31'].index, predictions_test[:-274], color='blue')\n",
    "plt.xlabel('datetime')\n",
    "plt.ylabel('количество заказов')\n",
    "plt.legend(['целевой признак', 'предсказание'])\n",
    "plt.grid()\n",
    "plt.title(\"Сравнение целевого признака и предсказаний модели\");"
   ]
  },
  {
   "cell_type": "markdown",
   "id": "39e1956a",
   "metadata": {},
   "source": [
    "Согласно требованиям, величина RMSE не должна превышать 48. Наша модель добилась требуемого результата, качество её работы удовлетворительно для заказчика. Рекомендуем применять именно данную модель."
   ]
  },
  {
   "cell_type": "markdown",
   "id": "d78879d1",
   "metadata": {},
   "source": [
    "**Заключение**\n",
    "\n",
    "Были предоставлены данные о заказах такси в аэропортах за период март - август 2018. Для корректного планирования количества водителей необходим прогноз количества вызовов такси на следующий час. Необходимо найти удобную модель для получения необходимого прогноза, причем качество предсказанных данных должно быть проверено метрикой RMSE и не превышать 48.\n",
    "\n",
    "1. Подготовка данных.\n",
    "\n",
    "Рассмотрели предоставленные данные. Было учтено 26496 показаний о вызовах такси за период 01.03.2018 по 31.08.2018. Т.к. поставлена задача прогнозирования обращений в такси за час, поменяли интервал предоставленных данных - проверили ресемплирование, заданный интервал - 1 час. Данные проверили на наличие дубликатов и пропусков. Таких значений не обнаружено.\n",
    "\n",
    "2. Анализ данных.\n",
    "\n",
    "Данные достаточно удобно рассмотреть на графике. Имеется ряд выбросов значений, особенно в августе 2018 года. Также обнаруживается общее возрастание количества заказов. Для прогнозирования данных создали признаки - отстающие значения, добавили скользящее среднее для более наглядного общего тренда в изменении значений.\n",
    "\n",
    "3. Обучение модели.\n",
    "\n",
    "Для обучения моделей разделили общую выборку данных на обучающую, валидационную и тестовую. Удалили строки со значениями Nan. Для расчета качества модели создали функцию RMSE. Взяли для обучения 4 модели: LinearRegressor, DecisionTreeRegressor, RandomForestRefressor, LGBMRegressor. Для более полного тестирования оптимальные параметры подбирали через GridSearch. Полученнные результаты показывают примерно одинаковое качество работы всех моделей, поэтому к использованию рекомендуется модель LinearRegressor, как занимающая наименьшее количество ресурсов для расчета, выдающая результат максимально быстро.\n",
    "\n",
    "4. Тестирование выбранной модели.\n",
    "\n",
    "Проверка качества работы модели LinearRegressor метрикой RMSE выдала результат 46, что соответствует требованиям, предъявляемым к работе модели. Модель LinearRegressor рекомендуется для решения поставленной задачи прогнозирования."
   ]
  }
 ],
 "metadata": {
  "ExecuteTimeLog": [
   {
    "duration": 1481,
    "start_time": "2023-01-29T12:57:31.612Z"
   },
   {
    "duration": 135,
    "start_time": "2023-01-29T12:58:04.764Z"
   },
   {
    "duration": 6,
    "start_time": "2023-01-29T12:58:06.234Z"
   },
   {
    "duration": 3,
    "start_time": "2023-01-29T12:58:08.905Z"
   },
   {
    "duration": 9,
    "start_time": "2023-01-29T12:58:09.674Z"
   },
   {
    "duration": 6,
    "start_time": "2023-01-29T12:58:10.454Z"
   },
   {
    "duration": 8,
    "start_time": "2023-01-29T12:58:11.809Z"
   },
   {
    "duration": 47,
    "start_time": "2023-01-29T12:58:14.276Z"
   },
   {
    "duration": 257,
    "start_time": "2023-01-29T12:58:20.652Z"
   },
   {
    "duration": 218,
    "start_time": "2023-01-29T12:58:24.456Z"
   },
   {
    "duration": 268,
    "start_time": "2023-01-29T12:58:25.951Z"
   },
   {
    "duration": 197,
    "start_time": "2023-01-29T12:58:29.154Z"
   },
   {
    "duration": 182,
    "start_time": "2023-01-29T12:58:32.240Z"
   },
   {
    "duration": 53,
    "start_time": "2023-01-29T12:58:36.569Z"
   },
   {
    "duration": 4,
    "start_time": "2023-01-29T12:58:40.640Z"
   },
   {
    "duration": 229,
    "start_time": "2023-01-29T12:58:41.447Z"
   },
   {
    "duration": 49,
    "start_time": "2023-01-29T12:58:49.942Z"
   },
   {
    "duration": 5,
    "start_time": "2023-01-29T12:58:57.716Z"
   },
   {
    "duration": 3,
    "start_time": "2023-01-29T12:58:59.042Z"
   },
   {
    "duration": 3,
    "start_time": "2023-01-29T12:59:01.483Z"
   },
   {
    "duration": 200,
    "start_time": "2023-01-29T12:59:03.249Z"
   },
   {
    "duration": 1499,
    "start_time": "2023-01-29T12:59:22.419Z"
   },
   {
    "duration": 5,
    "start_time": "2023-01-29T12:59:26.851Z"
   },
   {
    "duration": 16612,
    "start_time": "2023-01-29T12:59:28.240Z"
   },
   {
    "duration": 13,
    "start_time": "2023-01-29T12:59:48.227Z"
   },
   {
    "duration": 82,
    "start_time": "2023-01-29T12:59:55.674Z"
   },
   {
    "duration": 233,
    "start_time": "2023-01-29T12:59:58.547Z"
   }
  ],
  "kernelspec": {
   "display_name": "Python 3 (ipykernel)",
   "language": "python",
   "name": "python3"
  },
  "language_info": {
   "codemirror_mode": {
    "name": "ipython",
    "version": 3
   },
   "file_extension": ".py",
   "mimetype": "text/x-python",
   "name": "python",
   "nbconvert_exporter": "python",
   "pygments_lexer": "ipython3",
   "version": "3.9.5"
  },
  "toc": {
   "base_numbering": 1,
   "nav_menu": {},
   "number_sections": true,
   "sideBar": true,
   "skip_h1_title": true,
   "title_cell": "Table of Contents",
   "title_sidebar": "Contents",
   "toc_cell": false,
   "toc_position": {},
   "toc_section_display": true,
   "toc_window_display": false
  }
 },
 "nbformat": 4,
 "nbformat_minor": 5
}
