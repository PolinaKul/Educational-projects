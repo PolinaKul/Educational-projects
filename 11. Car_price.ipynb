{
 "cells": [
  {
   "cell_type": "markdown",
   "id": "df807116",
   "metadata": {},
   "source": [
    "**Определение стоимости автомобилей**"
   ]
  },
  {
   "cell_type": "markdown",
   "id": "88a38aac",
   "metadata": {},
   "source": [
    "Введение\n",
    "\n",
    "Имеются данные из истории продаж автомобилей: технические характеристики, комплектации и цены продажи. Нам необходимо создать модель, которая будет предсказывать рыночную стоимость автомобиля для продажи. Важно, чтобы модель выдавала предсказания качественно, быстро и была быстро обучаема.\n",
    "\n",
    "Предоставлена таблица, содержащая данные об автомобилях и пользователях: • DateCrawled — дата скачивания анкеты из базы • VehicleType — тип автомобильного кузова • RegistrationYear — год регистрации автомобиля • Gearbox — тип коробки передач • Power — мощность (л. с.) • Model — модель автомобиля • Kilometer — пробег (км) • RegistrationMonth — месяц регистрации автомобиля • FuelType — тип топлива • Brand — марка автомобиля • Repaired — была машина в ремонте или нет • DateCreated — дата создания анкеты • NumberOfPictures — количество фотографий автомобиля • PostalCode — почтовый индекс владельца анкеты (пользователя) • LastSeen — дата последней активности пользователя\n",
    "\n",
    "План работы:\n",
    "\n",
    "1. Подготовка данных. Проверяем заполненность таблицы, корректность имеющихся значений. Удалим неинформативные столбцы, заполним отсутствующие данные.\n",
    "2. Обучение моделей. Подготовим необходимые выборки данные. Создадим и обучим несколько моделей для сравнения скорости работы и качества полученных результатов. Метрика для анализа качества работы - RMSE. Значение не должно превысить 2500.\n",
    "3. Анализ моделей. Проанализируем работу моделей. Сделаем выводы об оптимальном выборе модели для выполнения поставленных задач. 4. Итоговую модель протестируем для подтверждения качества работы модели\n",
    "5. Заключение"
   ]
  },
  {
   "cell_type": "markdown",
   "id": "7fa8a16d",
   "metadata": {},
   "source": [
    "**1 Подготовка данных**"
   ]
  },
  {
   "cell_type": "code",
   "execution_count": 2,
   "id": "d017b8c7",
   "metadata": {},
   "outputs": [],
   "source": [
    "import pandas as pd\n",
    "import numpy as np\n",
    "from sklearn.preprocessing import OrdinalEncoder \n",
    "from sklearn.model_selection import train_test_split\n",
    "from sklearn.tree import DecisionTreeRegressor\n",
    "from sklearn.ensemble import RandomForestRegressor\n",
    "from sklearn.model_selection import GridSearchCV\n",
    "from sklearn.metrics import mean_squared_error\n",
    "from sklearn.metrics import fbeta_score, make_scorer\n",
    "import lightgbm as lgb\n",
    "from lightgbm import LGBMRegressor"
   ]
  },
  {
   "cell_type": "code",
   "execution_count": 3,
   "id": "c78f9cee",
   "metadata": {},
   "outputs": [
    {
     "data": {
      "text/html": [
       "<div>\n",
       "<style scoped>\n",
       "    .dataframe tbody tr th:only-of-type {\n",
       "        vertical-align: middle;\n",
       "    }\n",
       "\n",
       "    .dataframe tbody tr th {\n",
       "        vertical-align: top;\n",
       "    }\n",
       "\n",
       "    .dataframe thead th {\n",
       "        text-align: right;\n",
       "    }\n",
       "</style>\n",
       "<table border=\"1\" class=\"dataframe\">\n",
       "  <thead>\n",
       "    <tr style=\"text-align: right;\">\n",
       "      <th></th>\n",
       "      <th>DateCrawled</th>\n",
       "      <th>Price</th>\n",
       "      <th>VehicleType</th>\n",
       "      <th>RegistrationYear</th>\n",
       "      <th>Gearbox</th>\n",
       "      <th>Power</th>\n",
       "      <th>Model</th>\n",
       "      <th>Kilometer</th>\n",
       "      <th>RegistrationMonth</th>\n",
       "      <th>FuelType</th>\n",
       "      <th>Brand</th>\n",
       "      <th>Repaired</th>\n",
       "      <th>DateCreated</th>\n",
       "      <th>NumberOfPictures</th>\n",
       "      <th>PostalCode</th>\n",
       "      <th>LastSeen</th>\n",
       "    </tr>\n",
       "  </thead>\n",
       "  <tbody>\n",
       "    <tr>\n",
       "      <th>0</th>\n",
       "      <td>2016-03-24 11:52:17</td>\n",
       "      <td>480</td>\n",
       "      <td>NaN</td>\n",
       "      <td>1993</td>\n",
       "      <td>manual</td>\n",
       "      <td>0</td>\n",
       "      <td>golf</td>\n",
       "      <td>150000</td>\n",
       "      <td>0</td>\n",
       "      <td>petrol</td>\n",
       "      <td>volkswagen</td>\n",
       "      <td>NaN</td>\n",
       "      <td>2016-03-24 00:00:00</td>\n",
       "      <td>0</td>\n",
       "      <td>70435</td>\n",
       "      <td>2016-04-07 03:16:57</td>\n",
       "    </tr>\n",
       "    <tr>\n",
       "      <th>1</th>\n",
       "      <td>2016-03-24 10:58:45</td>\n",
       "      <td>18300</td>\n",
       "      <td>coupe</td>\n",
       "      <td>2011</td>\n",
       "      <td>manual</td>\n",
       "      <td>190</td>\n",
       "      <td>NaN</td>\n",
       "      <td>125000</td>\n",
       "      <td>5</td>\n",
       "      <td>gasoline</td>\n",
       "      <td>audi</td>\n",
       "      <td>yes</td>\n",
       "      <td>2016-03-24 00:00:00</td>\n",
       "      <td>0</td>\n",
       "      <td>66954</td>\n",
       "      <td>2016-04-07 01:46:50</td>\n",
       "    </tr>\n",
       "    <tr>\n",
       "      <th>2</th>\n",
       "      <td>2016-03-14 12:52:21</td>\n",
       "      <td>9800</td>\n",
       "      <td>suv</td>\n",
       "      <td>2004</td>\n",
       "      <td>auto</td>\n",
       "      <td>163</td>\n",
       "      <td>grand</td>\n",
       "      <td>125000</td>\n",
       "      <td>8</td>\n",
       "      <td>gasoline</td>\n",
       "      <td>jeep</td>\n",
       "      <td>NaN</td>\n",
       "      <td>2016-03-14 00:00:00</td>\n",
       "      <td>0</td>\n",
       "      <td>90480</td>\n",
       "      <td>2016-04-05 12:47:46</td>\n",
       "    </tr>\n",
       "    <tr>\n",
       "      <th>3</th>\n",
       "      <td>2016-03-17 16:54:04</td>\n",
       "      <td>1500</td>\n",
       "      <td>small</td>\n",
       "      <td>2001</td>\n",
       "      <td>manual</td>\n",
       "      <td>75</td>\n",
       "      <td>golf</td>\n",
       "      <td>150000</td>\n",
       "      <td>6</td>\n",
       "      <td>petrol</td>\n",
       "      <td>volkswagen</td>\n",
       "      <td>no</td>\n",
       "      <td>2016-03-17 00:00:00</td>\n",
       "      <td>0</td>\n",
       "      <td>91074</td>\n",
       "      <td>2016-03-17 17:40:17</td>\n",
       "    </tr>\n",
       "    <tr>\n",
       "      <th>4</th>\n",
       "      <td>2016-03-31 17:25:20</td>\n",
       "      <td>3600</td>\n",
       "      <td>small</td>\n",
       "      <td>2008</td>\n",
       "      <td>manual</td>\n",
       "      <td>69</td>\n",
       "      <td>fabia</td>\n",
       "      <td>90000</td>\n",
       "      <td>7</td>\n",
       "      <td>gasoline</td>\n",
       "      <td>skoda</td>\n",
       "      <td>no</td>\n",
       "      <td>2016-03-31 00:00:00</td>\n",
       "      <td>0</td>\n",
       "      <td>60437</td>\n",
       "      <td>2016-04-06 10:17:21</td>\n",
       "    </tr>\n",
       "  </tbody>\n",
       "</table>\n",
       "</div>"
      ],
      "text/plain": [
       "           DateCrawled  Price VehicleType  RegistrationYear Gearbox  Power  \\\n",
       "0  2016-03-24 11:52:17    480         NaN              1993  manual      0   \n",
       "1  2016-03-24 10:58:45  18300       coupe              2011  manual    190   \n",
       "2  2016-03-14 12:52:21   9800         suv              2004    auto    163   \n",
       "3  2016-03-17 16:54:04   1500       small              2001  manual     75   \n",
       "4  2016-03-31 17:25:20   3600       small              2008  manual     69   \n",
       "\n",
       "   Model  Kilometer  RegistrationMonth  FuelType       Brand Repaired  \\\n",
       "0   golf     150000                  0    petrol  volkswagen      NaN   \n",
       "1    NaN     125000                  5  gasoline        audi      yes   \n",
       "2  grand     125000                  8  gasoline        jeep      NaN   \n",
       "3   golf     150000                  6    petrol  volkswagen       no   \n",
       "4  fabia      90000                  7  gasoline       skoda       no   \n",
       "\n",
       "           DateCreated  NumberOfPictures  PostalCode             LastSeen  \n",
       "0  2016-03-24 00:00:00                 0       70435  2016-04-07 03:16:57  \n",
       "1  2016-03-24 00:00:00                 0       66954  2016-04-07 01:46:50  \n",
       "2  2016-03-14 00:00:00                 0       90480  2016-04-05 12:47:46  \n",
       "3  2016-03-17 00:00:00                 0       91074  2016-03-17 17:40:17  \n",
       "4  2016-03-31 00:00:00                 0       60437  2016-04-06 10:17:21  "
      ]
     },
     "metadata": {},
     "output_type": "display_data"
    }
   ],
   "source": [
    "data = pd.read_csv('/datasets/autos.csv')\n",
    "display(data.head())"
   ]
  },
  {
   "cell_type": "code",
   "execution_count": 4,
   "id": "2e81a84a",
   "metadata": {},
   "outputs": [
    {
     "data": {
      "text/html": [
       "<div>\n",
       "<style scoped>\n",
       "    .dataframe tbody tr th:only-of-type {\n",
       "        vertical-align: middle;\n",
       "    }\n",
       "\n",
       "    .dataframe tbody tr th {\n",
       "        vertical-align: top;\n",
       "    }\n",
       "\n",
       "    .dataframe thead th {\n",
       "        text-align: right;\n",
       "    }\n",
       "</style>\n",
       "<table border=\"1\" class=\"dataframe\">\n",
       "  <thead>\n",
       "    <tr style=\"text-align: right;\">\n",
       "      <th></th>\n",
       "      <th>datecrawled</th>\n",
       "      <th>price</th>\n",
       "      <th>vehicletype</th>\n",
       "      <th>registrationyear</th>\n",
       "      <th>gearbox</th>\n",
       "      <th>power</th>\n",
       "      <th>model</th>\n",
       "      <th>kilometer</th>\n",
       "      <th>registrationmonth</th>\n",
       "      <th>fueltype</th>\n",
       "      <th>brand</th>\n",
       "      <th>repaired</th>\n",
       "      <th>datecreated</th>\n",
       "      <th>numberofpictures</th>\n",
       "      <th>postalcode</th>\n",
       "      <th>lastseen</th>\n",
       "    </tr>\n",
       "  </thead>\n",
       "  <tbody>\n",
       "    <tr>\n",
       "      <th>0</th>\n",
       "      <td>2016-03-24 11:52:17</td>\n",
       "      <td>480</td>\n",
       "      <td>NaN</td>\n",
       "      <td>1993</td>\n",
       "      <td>manual</td>\n",
       "      <td>0</td>\n",
       "      <td>golf</td>\n",
       "      <td>150000</td>\n",
       "      <td>0</td>\n",
       "      <td>petrol</td>\n",
       "      <td>volkswagen</td>\n",
       "      <td>NaN</td>\n",
       "      <td>2016-03-24 00:00:00</td>\n",
       "      <td>0</td>\n",
       "      <td>70435</td>\n",
       "      <td>2016-04-07 03:16:57</td>\n",
       "    </tr>\n",
       "    <tr>\n",
       "      <th>1</th>\n",
       "      <td>2016-03-24 10:58:45</td>\n",
       "      <td>18300</td>\n",
       "      <td>coupe</td>\n",
       "      <td>2011</td>\n",
       "      <td>manual</td>\n",
       "      <td>190</td>\n",
       "      <td>NaN</td>\n",
       "      <td>125000</td>\n",
       "      <td>5</td>\n",
       "      <td>gasoline</td>\n",
       "      <td>audi</td>\n",
       "      <td>yes</td>\n",
       "      <td>2016-03-24 00:00:00</td>\n",
       "      <td>0</td>\n",
       "      <td>66954</td>\n",
       "      <td>2016-04-07 01:46:50</td>\n",
       "    </tr>\n",
       "    <tr>\n",
       "      <th>2</th>\n",
       "      <td>2016-03-14 12:52:21</td>\n",
       "      <td>9800</td>\n",
       "      <td>suv</td>\n",
       "      <td>2004</td>\n",
       "      <td>auto</td>\n",
       "      <td>163</td>\n",
       "      <td>grand</td>\n",
       "      <td>125000</td>\n",
       "      <td>8</td>\n",
       "      <td>gasoline</td>\n",
       "      <td>jeep</td>\n",
       "      <td>NaN</td>\n",
       "      <td>2016-03-14 00:00:00</td>\n",
       "      <td>0</td>\n",
       "      <td>90480</td>\n",
       "      <td>2016-04-05 12:47:46</td>\n",
       "    </tr>\n",
       "    <tr>\n",
       "      <th>3</th>\n",
       "      <td>2016-03-17 16:54:04</td>\n",
       "      <td>1500</td>\n",
       "      <td>small</td>\n",
       "      <td>2001</td>\n",
       "      <td>manual</td>\n",
       "      <td>75</td>\n",
       "      <td>golf</td>\n",
       "      <td>150000</td>\n",
       "      <td>6</td>\n",
       "      <td>petrol</td>\n",
       "      <td>volkswagen</td>\n",
       "      <td>no</td>\n",
       "      <td>2016-03-17 00:00:00</td>\n",
       "      <td>0</td>\n",
       "      <td>91074</td>\n",
       "      <td>2016-03-17 17:40:17</td>\n",
       "    </tr>\n",
       "    <tr>\n",
       "      <th>4</th>\n",
       "      <td>2016-03-31 17:25:20</td>\n",
       "      <td>3600</td>\n",
       "      <td>small</td>\n",
       "      <td>2008</td>\n",
       "      <td>manual</td>\n",
       "      <td>69</td>\n",
       "      <td>fabia</td>\n",
       "      <td>90000</td>\n",
       "      <td>7</td>\n",
       "      <td>gasoline</td>\n",
       "      <td>skoda</td>\n",
       "      <td>no</td>\n",
       "      <td>2016-03-31 00:00:00</td>\n",
       "      <td>0</td>\n",
       "      <td>60437</td>\n",
       "      <td>2016-04-06 10:17:21</td>\n",
       "    </tr>\n",
       "  </tbody>\n",
       "</table>\n",
       "</div>"
      ],
      "text/plain": [
       "           datecrawled  price vehicletype  registrationyear gearbox  power  \\\n",
       "0  2016-03-24 11:52:17    480         NaN              1993  manual      0   \n",
       "1  2016-03-24 10:58:45  18300       coupe              2011  manual    190   \n",
       "2  2016-03-14 12:52:21   9800         suv              2004    auto    163   \n",
       "3  2016-03-17 16:54:04   1500       small              2001  manual     75   \n",
       "4  2016-03-31 17:25:20   3600       small              2008  manual     69   \n",
       "\n",
       "   model  kilometer  registrationmonth  fueltype       brand repaired  \\\n",
       "0   golf     150000                  0    petrol  volkswagen      NaN   \n",
       "1    NaN     125000                  5  gasoline        audi      yes   \n",
       "2  grand     125000                  8  gasoline        jeep      NaN   \n",
       "3   golf     150000                  6    petrol  volkswagen       no   \n",
       "4  fabia      90000                  7  gasoline       skoda       no   \n",
       "\n",
       "           datecreated  numberofpictures  postalcode             lastseen  \n",
       "0  2016-03-24 00:00:00                 0       70435  2016-04-07 03:16:57  \n",
       "1  2016-03-24 00:00:00                 0       66954  2016-04-07 01:46:50  \n",
       "2  2016-03-14 00:00:00                 0       90480  2016-04-05 12:47:46  \n",
       "3  2016-03-17 00:00:00                 0       91074  2016-03-17 17:40:17  \n",
       "4  2016-03-31 00:00:00                 0       60437  2016-04-06 10:17:21  "
      ]
     },
     "metadata": {},
     "output_type": "display_data"
    }
   ],
   "source": [
    "data.columns=data.columns.str.lower()\n",
    "display(data.head())"
   ]
  },
  {
   "cell_type": "code",
   "execution_count": 5,
   "id": "2983f0ef",
   "metadata": {},
   "outputs": [],
   "source": [
    "data = data.rename(columns = {\n",
    "    'vehicletype': 'vehicle_type',\n",
    "    'registrationyear': 'registration_year',\n",
    "    'registrationmonth': 'registration_month',\n",
    "    'fueltype': 'fuel_type'\n",
    "})"
   ]
  },
  {
   "cell_type": "code",
   "execution_count": 6,
   "id": "2b7f78c7",
   "metadata": {},
   "outputs": [
    {
     "name": "stdout",
     "output_type": "stream",
     "text": [
      "<class 'pandas.core.frame.DataFrame'>\n",
      "RangeIndex: 354369 entries, 0 to 354368\n",
      "Data columns (total 16 columns):\n",
      " #   Column              Non-Null Count   Dtype \n",
      "---  ------              --------------   ----- \n",
      " 0   datecrawled         354369 non-null  object\n",
      " 1   price               354369 non-null  int64 \n",
      " 2   vehicle_type        316879 non-null  object\n",
      " 3   registration_year   354369 non-null  int64 \n",
      " 4   gearbox             334536 non-null  object\n",
      " 5   power               354369 non-null  int64 \n",
      " 6   model               334664 non-null  object\n",
      " 7   kilometer           354369 non-null  int64 \n",
      " 8   registration_month  354369 non-null  int64 \n",
      " 9   fuel_type           321474 non-null  object\n",
      " 10  brand               354369 non-null  object\n",
      " 11  repaired            283215 non-null  object\n",
      " 12  datecreated         354369 non-null  object\n",
      " 13  numberofpictures    354369 non-null  int64 \n",
      " 14  postalcode          354369 non-null  int64 \n",
      " 15  lastseen            354369 non-null  object\n",
      "dtypes: int64(7), object(9)\n",
      "memory usage: 43.3+ MB\n",
      "None\n"
     ]
    }
   ],
   "source": [
    "print(data.info())"
   ]
  },
  {
   "cell_type": "code",
   "execution_count": 7,
   "id": "34faa867",
   "metadata": {},
   "outputs": [
    {
     "data": {
      "text/plain": [
       "4"
      ]
     },
     "execution_count": 7,
     "metadata": {},
     "output_type": "execute_result"
    }
   ],
   "source": [
    "data.duplicated().sum()"
   ]
  },
  {
   "cell_type": "code",
   "execution_count": 8,
   "id": "787896b9",
   "metadata": {},
   "outputs": [],
   "source": [
    "data = data.drop_duplicates()"
   ]
  },
  {
   "cell_type": "code",
   "execution_count": 9,
   "id": "bf38edd9",
   "metadata": {},
   "outputs": [],
   "source": [
    "data = data.drop(['numberofpictures', 'datecrawled', 'registration_month', 'datecreated', 'lastseen', 'postalcode'], axis=1)"
   ]
  },
  {
   "cell_type": "code",
   "execution_count": 10,
   "id": "c097f586",
   "metadata": {},
   "outputs": [
    {
     "name": "stdout",
     "output_type": "stream",
     "text": [
      "price                    0\n",
      "vehicle_type         37490\n",
      "registration_year        0\n",
      "gearbox              19833\n",
      "power                    0\n",
      "model                19705\n",
      "kilometer                0\n",
      "fuel_type            32895\n",
      "brand                    0\n",
      "repaired             71154\n",
      "dtype: int64\n"
     ]
    }
   ],
   "source": [
    "print(data.isna().sum())"
   ]
  },
  {
   "cell_type": "markdown",
   "id": "2628a1e2",
   "metadata": {},
   "source": [
    "Каждый из пропущенных критериев очень важен при оценке стоимости автомобиля, поэтому их необходимо заполнить."
   ]
  },
  {
   "cell_type": "code",
   "execution_count": 11,
   "id": "206d7323",
   "metadata": {},
   "outputs": [
    {
     "name": "stdout",
     "output_type": "stream",
     "text": [
      "[nan 'coupe' 'suv' 'small' 'sedan' 'convertible' 'bus' 'wagon' 'other']\n",
      "['manual' 'auto' nan]\n",
      "['golf' nan 'grand' 'fabia' '3er' '2_reihe' 'other' 'c_max' '3_reihe'\n",
      " 'passat' 'navara' 'ka' 'polo' 'twingo' 'a_klasse' 'scirocco' '5er'\n",
      " 'meriva' 'arosa' 'c4' 'civic' 'transporter' 'punto' 'e_klasse' 'clio'\n",
      " 'kadett' 'kangoo' 'corsa' 'one' 'fortwo' '1er' 'b_klasse' 'signum'\n",
      " 'astra' 'a8' 'jetta' 'fiesta' 'c_klasse' 'micra' 'vito' 'sprinter' '156'\n",
      " 'escort' 'forester' 'xc_reihe' 'scenic' 'a4' 'a1' 'insignia' 'combo'\n",
      " 'focus' 'tt' 'a6' 'jazz' 'omega' 'slk' '7er' '80' '147' '100' 'z_reihe'\n",
      " 'sportage' 'sorento' 'v40' 'ibiza' 'mustang' 'eos' 'touran' 'getz' 'a3'\n",
      " 'almera' 'megane' 'lupo' 'r19' 'zafira' 'caddy' 'mondeo' 'cordoba' 'colt'\n",
      " 'impreza' 'vectra' 'berlingo' 'tiguan' 'i_reihe' 'espace' 'sharan'\n",
      " '6_reihe' 'panda' 'up' 'seicento' 'ceed' '5_reihe' 'yeti' 'octavia' 'mii'\n",
      " 'rx_reihe' '6er' 'modus' 'fox' 'matiz' 'beetle' 'c1' 'rio' 'touareg'\n",
      " 'logan' 'spider' 'cuore' 's_max' 'a2' 'galaxy' 'c3' 'viano' 's_klasse'\n",
      " '1_reihe' 'avensis' 'roomster' 'sl' 'kaefer' 'santa' 'cooper' 'leon'\n",
      " '4_reihe' 'a5' '500' 'laguna' 'ptcruiser' 'clk' 'primera' 'x_reihe'\n",
      " 'exeo' '159' 'transit' 'juke' 'qashqai' 'carisma' 'accord' 'corolla'\n",
      " 'lanos' 'phaeton' 'verso' 'swift' 'rav' 'picanto' 'boxster' 'kalos'\n",
      " 'superb' 'stilo' 'alhambra' 'mx_reihe' 'roadster' 'ypsilon' 'cayenne'\n",
      " 'galant' 'justy' '90' 'sirion' 'crossfire' 'agila' 'duster' 'cr_reihe'\n",
      " 'v50' 'c_reihe' 'v_klasse' 'm_klasse' 'yaris' 'c5' 'aygo' 'cc' 'carnival'\n",
      " 'fusion' '911' 'bora' 'forfour' 'm_reihe' 'cl' 'tigra' '300c' 'spark'\n",
      " 'v70' 'kuga' 'x_type' 'ducato' 's_type' 'x_trail' 'toledo' 'altea'\n",
      " 'voyager' 'calibra' 'bravo' 'antara' 'tucson' 'citigo' 'jimny' 'wrangler'\n",
      " 'lybra' 'q7' 'lancer' 'captiva' 'c2' 'discovery' 'freelander' 'sandero'\n",
      " 'note' '900' 'cherokee' 'clubman' 'samara' 'defender' '601' 'cx_reihe'\n",
      " 'legacy' 'pajero' 'auris' 'niva' 's60' 'nubira' 'vivaro' 'g_klasse'\n",
      " 'lodgy' '850' 'range_rover' 'q3' 'serie_2' 'glk' 'charade' 'croma'\n",
      " 'outlander' 'doblo' 'musa' 'move' '9000' 'v60' '145' 'aveo' '200' 'b_max'\n",
      " 'range_rover_sport' 'terios' 'rangerover' 'q5' 'range_rover_evoque'\n",
      " 'materia' 'delta' 'gl' 'kalina' 'amarok' 'elefantino' 'i3' 'kappa'\n",
      " 'serie_3' 'serie_1']\n",
      "['petrol' 'gasoline' nan 'lpg' 'other' 'hybrid' 'cng' 'electric']\n",
      "[nan 'yes' 'no']\n",
      "[1993 2011 2004 2001 2008 1995 1980 2014 1998 2005 1910 2016 2007 2009\n",
      " 2002 2018 1997 1990 2017 1981 2003 1994 1991 1984 2006 1999 2012 2010\n",
      " 2000 1992 2013 1996 1985 1989 2015 1982 1976 1983 1973 1111 1969 1971\n",
      " 1987 1986 1988 1970 1965 1945 1925 1974 1979 1955 1978 1972 1968 1977\n",
      " 1961 1960 1966 1975 1963 1964 5000 1954 1958 1967 1959 9999 1956 3200\n",
      " 1000 1941 8888 1500 2200 4100 1962 1929 1957 1940 3000 2066 1949 2019\n",
      " 1937 1951 1800 1953 1234 8000 5300 9000 2900 6000 5900 5911 1933 1400\n",
      " 1950 4000 1948 1952 1200 8500 1932 1255 3700 3800 4800 1942 7000 1935\n",
      " 1936 6500 1923 2290 2500 1930 1001 9450 1944 1943 1934 1938 1688 2800\n",
      " 1253 1928 1919 5555 5600 1600 2222 1039 9996 1300 8455 1931 1915 4500\n",
      " 1920 1602 7800 9229 1947 1927 7100 8200 1946 7500 3500]\n"
     ]
    }
   ],
   "source": [
    "for column in ['vehicle_type', 'gearbox', 'model', 'fuel_type', 'repaired', 'registration_year']:\n",
    "    print(data[column].unique())"
   ]
  },
  {
   "cell_type": "markdown",
   "id": "01cadfaa",
   "metadata": {},
   "source": [
    "Столбец vehicletype, model, fueltype заполним значениями - unknown, т.к. данные в этих столбцах уникальны, заполнить их другим способом не представляется возможным."
   ]
  },
  {
   "cell_type": "code",
   "execution_count": 12,
   "id": "70c06f51",
   "metadata": {},
   "outputs": [],
   "source": [
    "data['repaired'] = data['repaired'].fillna('no')"
   ]
  },
  {
   "cell_type": "code",
   "execution_count": 13,
   "id": "e900dbd9",
   "metadata": {},
   "outputs": [
    {
     "name": "stdout",
     "output_type": "stream",
     "text": [
      "price                    0\n",
      "vehicle_type             0\n",
      "registration_year        0\n",
      "gearbox              19833\n",
      "power                    0\n",
      "model                    0\n",
      "kilometer                0\n",
      "fuel_type                0\n",
      "brand                    0\n",
      "repaired                 0\n",
      "dtype: int64\n"
     ]
    }
   ],
   "source": [
    "data['vehicle_type'] = data['vehicle_type'].fillna('sedan')\n",
    "data['model'] = data['model'].fillna('other')\n",
    "data['fuel_type'] = data['fuel_type'].fillna('petrol')\n",
    "print(data.isna().sum())"
   ]
  },
  {
   "cell_type": "code",
   "execution_count": 14,
   "id": "3c3f88e0",
   "metadata": {},
   "outputs": [],
   "source": [
    "data['gearbox'] = data['gearbox'].fillna('manual')"
   ]
  },
  {
   "cell_type": "code",
   "execution_count": 15,
   "id": "0ce4847e",
   "metadata": {},
   "outputs": [
    {
     "name": "stdout",
     "output_type": "stream",
     "text": [
      "price                0\n",
      "vehicle_type         0\n",
      "registration_year    0\n",
      "gearbox              0\n",
      "power                0\n",
      "model                0\n",
      "kilometer            0\n",
      "fuel_type            0\n",
      "brand                0\n",
      "repaired             0\n",
      "dtype: int64\n"
     ]
    }
   ],
   "source": [
    "print(data.isna().sum())"
   ]
  },
  {
   "cell_type": "code",
   "execution_count": 16,
   "id": "41e2ff35",
   "metadata": {},
   "outputs": [
    {
     "name": "stdout",
     "output_type": "stream",
     "text": [
      "price 10772\n",
      "registration_year 0\n",
      "power 40225\n",
      "kilometer 0\n"
     ]
    }
   ],
   "source": [
    "for column in data.select_dtypes(include=np.number):\n",
    "    print(column, data[data[column] == 0][column].count())"
   ]
  },
  {
   "cell_type": "markdown",
   "id": "9c032325",
   "metadata": {},
   "source": [
    "В столбце с ценами 10772 значения цены = 0. При сравнении данных, спрогнозированных моделью, с данными имеющимися в таблице эти пропущенные значения существенно повлияют на метрику. Заменим нулевые значения на средние значения по столбцу. Аналогично заполним столбец с данными по мощности автомобиля, поскольку эта величина также является весомой при формировании цены автомобиля."
   ]
  },
  {
   "cell_type": "code",
   "execution_count": 18,
   "id": "a15d68f7",
   "metadata": {},
   "outputs": [],
   "source": [
    "mean_value = data.loc[data['price'] != 0]['price'].median()\n",
    "mean_value_2 = data.loc[data['power'] != 0]['power'].median()\n",
    "data.loc[data['price'] == 0, 'price'] = mean_value\n",
    "data.loc[data['power'] == 0, 'power'] = mean_value_2"
   ]
  },
  {
   "cell_type": "code",
   "execution_count": 17,
   "id": "de258a30",
   "metadata": {},
   "outputs": [
    {
     "name": "stdout",
     "output_type": "stream",
     "text": [
      "10772\n",
      "40225\n"
     ]
    }
   ],
   "source": [
    "print(data[data['price'] == 0]['price'].count())\n",
    "print(data[data['power'] == 0]['power'].count())"
   ]
  },
  {
   "cell_type": "code",
   "execution_count": 19,
   "id": "0280201a",
   "metadata": {},
   "outputs": [],
   "source": [
    "data = data.query('registration_year >= 1927 and registration_year <= 2016')"
   ]
  },
  {
   "cell_type": "code",
   "execution_count": 20,
   "id": "3c0f5e15",
   "metadata": {},
   "outputs": [
    {
     "name": "stdout",
     "output_type": "stream",
     "text": [
      "(339662, 10)\n"
     ]
    }
   ],
   "source": [
    "print(data.shape)"
   ]
  },
  {
   "cell_type": "markdown",
   "id": "6851006f",
   "metadata": {},
   "source": [
    "**2  Обучение моделей**"
   ]
  },
  {
   "cell_type": "code",
   "execution_count": 22,
   "id": "af817050",
   "metadata": {},
   "outputs": [],
   "source": [
    "data_train, data_valid = train_test_split(data, test_size=0.4, random_state=12345)"
   ]
  },
  {
   "cell_type": "code",
   "execution_count": 23,
   "id": "f2b432bb",
   "metadata": {},
   "outputs": [],
   "source": [
    "data_valid, data_test = train_test_split(data_valid, test_size=0.5, random_state=12345)"
   ]
  },
  {
   "cell_type": "code",
   "execution_count": 24,
   "id": "45b6a338",
   "metadata": {},
   "outputs": [],
   "source": [
    "features_train = data_train.drop(['price'], axis = 1)\n",
    "target_train = data_train['price']\n",
    "features_valid = data_valid.drop(['price'], axis = 1)\n",
    "target_valid = data_valid['price']\n",
    "features_test = data_test.drop(['price'], axis = 1)\n",
    "target_test = data_test['price']"
   ]
  },
  {
   "cell_type": "code",
   "execution_count": 25,
   "id": "5d174aef",
   "metadata": {},
   "outputs": [
    {
     "name": "stdout",
     "output_type": "stream",
     "text": [
      "(203797, 9)\n",
      "(67932, 9)\n",
      "(67933, 9)\n"
     ]
    }
   ],
   "source": [
    "print(features_train.shape)\n",
    "print(features_valid.shape)\n",
    "print(features_test.shape)"
   ]
  },
  {
   "cell_type": "markdown",
   "id": "3a05e604",
   "metadata": {},
   "source": [
    "Для создания и обучения моделей необходимо сделать все данные численными. Используем порядковое кодирование."
   ]
  },
  {
   "cell_type": "code",
   "execution_count": 26,
   "id": "2dcd9d2a",
   "metadata": {},
   "outputs": [],
   "source": [
    "columns=['vehicle_type', 'gearbox','kilometer', 'power', 'model', 'fuel_type', 'repaired', 'brand']\n",
    "encoder = OrdinalEncoder() \n",
    "encoder.fit(features_train[columns])\n",
    "features_train = pd.DataFrame(encoder.fit_transform(features_train[columns]))"
   ]
  },
  {
   "cell_type": "code",
   "execution_count": 27,
   "id": "f597e930",
   "metadata": {},
   "outputs": [],
   "source": [
    "encoder.fit(features_valid[columns])\n",
    "features_valid = pd.DataFrame(encoder.fit_transform(features_valid[columns]))"
   ]
  },
  {
   "cell_type": "code",
   "execution_count": 28,
   "id": "569a6267",
   "metadata": {},
   "outputs": [],
   "source": [
    "encoder.fit(features_test[columns])\n",
    "features_test = pd.DataFrame(encoder.fit_transform(features_test[columns]))"
   ]
  },
  {
   "cell_type": "markdown",
   "id": "b8002eb7",
   "metadata": {},
   "source": [
    "Расчет необходимой нам метрики добавим в переменную."
   ]
  },
  {
   "cell_type": "code",
   "execution_count": 29,
   "id": "d6c067ee",
   "metadata": {},
   "outputs": [],
   "source": [
    "def rmse(target, predict):\n",
    "    rmse = mean_squared_error(target, predict) **0.5\n",
    "    return rmse\n",
    "rmse_score = make_scorer(rmse, greater_is_better = False)"
   ]
  },
  {
   "cell_type": "code",
   "execution_count": 30,
   "id": "76efaa03",
   "metadata": {},
   "outputs": [
    {
     "name": "stdout",
     "output_type": "stream",
     "text": [
      "CPU times: user 8.3 s, sys: 0 ns, total: 8.3 s\n",
      "Wall time: 8.32 s\n"
     ]
    },
    {
     "data": {
      "text/plain": [
       "GridSearchCV(estimator=DecisionTreeRegressor(random_state=12345),\n",
       "             param_grid={'max_depth': range(12, 22, 2)},\n",
       "             scoring=make_scorer(rmse, greater_is_better=False))"
      ]
     },
     "execution_count": 30,
     "metadata": {},
     "output_type": "execute_result"
    }
   ],
   "source": [
    "%%time\n",
    "model_2 = DecisionTreeRegressor(random_state=12345)\n",
    "parameter = {'max_depth': range(12, 22, 2)}\n",
    "search_2 = GridSearchCV(model_2, parameter, scoring = rmse_score)\n",
    "search_2.fit(features_train, target_train);"
   ]
  },
  {
   "cell_type": "code",
   "execution_count": 31,
   "id": "2ac7ef5b",
   "metadata": {},
   "outputs": [
    {
     "name": "stdout",
     "output_type": "stream",
     "text": [
      "{'max_depth': 16}\n",
      "-2484.726066856593\n",
      "CPU times: user 15.7 ms, sys: 0 ns, total: 15.7 ms\n",
      "Wall time: 14.1 ms\n"
     ]
    }
   ],
   "source": [
    "%%time\n",
    "predictions_2 = search_2.predict(features_valid)\n",
    "print(search_2.best_params_)\n",
    "print(search_2.best_score_)"
   ]
  },
  {
   "cell_type": "code",
   "execution_count": 32,
   "id": "b4757571",
   "metadata": {},
   "outputs": [
    {
     "name": "stdout",
     "output_type": "stream",
     "text": [
      "CPU times: user 1h 1min 54s, sys: 18.5 s, total: 1h 2min 13s\n",
      "Wall time: 1h 2min 26s\n"
     ]
    },
    {
     "data": {
      "text/plain": [
       "GridSearchCV(estimator=RandomForestRegressor(random_state=12345),\n",
       "             param_grid={'max_depth': range(18, 28, 2),\n",
       "                         'n_estimators': [200, 351, 50]},\n",
       "             scoring=make_scorer(rmse, greater_is_better=False))"
      ]
     },
     "execution_count": 32,
     "metadata": {},
     "output_type": "execute_result"
    }
   ],
   "source": [
    "%%time\n",
    "model_3 = RandomForestRegressor(random_state=12345)\n",
    "parameter = {'n_estimators': [200, 351, 50], \n",
    "              'max_depth': range(18, 28, 2)\n",
    "             }\n",
    "search_3 = GridSearchCV(model_3, parameter, scoring = rmse_score)\n",
    "search_3.fit(features_train, target_train)"
   ]
  },
  {
   "cell_type": "code",
   "execution_count": 33,
   "id": "454abdd0",
   "metadata": {},
   "outputs": [
    {
     "name": "stdout",
     "output_type": "stream",
     "text": [
      "{'max_depth': 20, 'n_estimators': 351}\n",
      "-2205.3025104400595\n",
      "CPU times: user 5.3 s, sys: 7.98 ms, total: 5.31 s\n",
      "Wall time: 5.33 s\n"
     ]
    }
   ],
   "source": [
    "%%time\n",
    "predictions_3 = search_3.predict(features_valid)\n",
    "print(search_3.best_params_)\n",
    "print(search_3.best_score_)"
   ]
  },
  {
   "cell_type": "code",
   "execution_count": 34,
   "id": "14eb049d",
   "metadata": {},
   "outputs": [
    {
     "name": "stdout",
     "output_type": "stream",
     "text": [
      "CPU times: user 18min 42s, sys: 6.65 s, total: 18min 49s\n",
      "Wall time: 19min 2s\n"
     ]
    },
    {
     "data": {
      "text/plain": [
       "GridSearchCV(estimator=LGBMRegressor(random_state=12345),\n",
       "             param_grid={'max_depth': range(18, 28, 2),\n",
       "                         'n_estimators': [250, 351, 50]},\n",
       "             scoring=make_scorer(rmse, greater_is_better=False))"
      ]
     },
     "execution_count": 34,
     "metadata": {},
     "output_type": "execute_result"
    }
   ],
   "source": [
    "%%time\n",
    "model_4 = LGBMRegressor(random_state=12345)\n",
    "parameter = {'n_estimators': [250, 351, 50], \n",
    "             'max_depth': range(18, 28, 2)\n",
    "             }\n",
    "search_4 = GridSearchCV(model_4, parameter, scoring = rmse_score)\n",
    "search_4.fit(features_train, target_train)\n"
   ]
  },
  {
   "cell_type": "code",
   "execution_count": 35,
   "id": "0965cc67",
   "metadata": {},
   "outputs": [
    {
     "name": "stdout",
     "output_type": "stream",
     "text": [
      "{'max_depth': 20, 'n_estimators': 351}\n",
      "-2261.2003091491174\n",
      "CPU times: user 1.27 s, sys: 7.34 ms, total: 1.28 s\n",
      "Wall time: 1.2 s\n"
     ]
    }
   ],
   "source": [
    "%%time\n",
    "predictions_4 = search_4.predict(features_valid)\n",
    "print(search_4.best_params_)\n",
    "print(search_4.best_score_)"
   ]
  },
  {
   "cell_type": "markdown",
   "id": "e6b6fe2a",
   "metadata": {},
   "source": [
    "**3  Анализ моделей**"
   ]
  },
  {
   "cell_type": "markdown",
   "id": "5649221a",
   "metadata": {},
   "source": [
    "Получившиеся результаты показывают, что RandomForest дает лучший результат по сравнению с остальными.\n",
    "Проверим работу на тестовой выборке"
   ]
  },
  {
   "cell_type": "code",
   "execution_count": 36,
   "id": "c7823853",
   "metadata": {},
   "outputs": [
    {
     "name": "stdout",
     "output_type": "stream",
     "text": [
      "       Операции DecisionTree RandomForest    LightGBM\n",
      "0      Обучение         9,9s         20 s  1 min 18 s\n",
      "1  Предсказание      14,4 ms        6,23s       1,31s\n"
     ]
    }
   ],
   "source": [
    "df = pd.DataFrame({\n",
    "    \"Операции\" : ['Обучение', 'Предсказание'],\n",
    "    \"DecisionTree\" : ['9,9s', '14,4 ms'],\n",
    "    \"RandomForest\" : ['20 s', '6,23s'],\n",
    "    \"LightGBM\" : ['1 min 18 s', '1,31s'],\n",
    "    })\n",
    "print(df)"
   ]
  },
  {
   "cell_type": "markdown",
   "id": "cd96aaea",
   "metadata": {},
   "source": [
    "**4  Тестирование лучшей модели**"
   ]
  },
  {
   "cell_type": "code",
   "execution_count": 37,
   "id": "5cae41b5",
   "metadata": {},
   "outputs": [],
   "source": [
    "features_m = features_train.append(features_valid, ignore_index = True)"
   ]
  },
  {
   "cell_type": "code",
   "execution_count": 38,
   "id": "1aede6fa",
   "metadata": {},
   "outputs": [
    {
     "name": "stdout",
     "output_type": "stream",
     "text": [
      "(203797, 8)\n",
      "(67932, 8)\n",
      "(271729, 8)\n"
     ]
    }
   ],
   "source": [
    "print(features_train.shape)\n",
    "print(features_valid.shape)\n",
    "print(features_m.shape)"
   ]
  },
  {
   "cell_type": "code",
   "execution_count": 39,
   "id": "8a2d6274",
   "metadata": {},
   "outputs": [],
   "source": [
    "target_m = target_train.append(target_valid, ignore_index = True)"
   ]
  },
  {
   "cell_type": "code",
   "execution_count": 40,
   "id": "d9d81672",
   "metadata": {},
   "outputs": [
    {
     "name": "stdout",
     "output_type": "stream",
     "text": [
      "(203797,)\n",
      "(67932,)\n",
      "(271729,)\n"
     ]
    }
   ],
   "source": [
    "print(target_train.shape)\n",
    "print(target_valid.shape)\n",
    "print(target_m.shape)"
   ]
  },
  {
   "cell_type": "code",
   "execution_count": 41,
   "id": "fb4e1819",
   "metadata": {},
   "outputs": [
    {
     "name": "stdout",
     "output_type": "stream",
     "text": [
      "CPU times: user 14.7 s, sys: 47.9 ms, total: 14.7 s\n",
      "Wall time: 14.9 s\n"
     ]
    },
    {
     "data": {
      "text/plain": [
       "LGBMRegressor(max_depth=20, n_estimators=351, random_state=12345)"
      ]
     },
     "execution_count": 41,
     "metadata": {},
     "output_type": "execute_result"
    }
   ],
   "source": [
    "%%time\n",
    "model = LGBMRegressor(random_state=12345, max_depth = 20, n_estimators = 351)\n",
    "model.fit(features_m, target_m)"
   ]
  },
  {
   "cell_type": "code",
   "execution_count": 42,
   "id": "450168fe",
   "metadata": {},
   "outputs": [
    {
     "name": "stdout",
     "output_type": "stream",
     "text": [
      "CPU times: user 1.37 s, sys: 0 ns, total: 1.37 s\n",
      "Wall time: 1.4 s\n"
     ]
    }
   ],
   "source": [
    "%%time\n",
    "predictions = model.predict(features_test)"
   ]
  },
  {
   "cell_type": "code",
   "execution_count": 43,
   "id": "6f9ee800",
   "metadata": {},
   "outputs": [
    {
     "name": "stdout",
     "output_type": "stream",
     "text": [
      "2482.3207117782076\n"
     ]
    }
   ],
   "source": [
    "rmse_2 = mean_squared_error(target_test, predictions)**0.5\n",
    "print(rmse_2)"
   ]
  },
  {
   "cell_type": "markdown",
   "id": "f5d07d4a",
   "metadata": {},
   "source": [
    "**Заключение**\n",
    "\n",
    "На основании предоставленных сервисом по продаже автомобилей данных необходимо разработать модель для расчета рыночной стоимости автомобиля. Модель должна учитывать технические характеристики автомобиля, год регистрации, был ли он подвергнут ремонту и т.д. Помимо качества предсказанных данных для заказчика также важны время обучения модели и время предсказания.\n",
    "\n",
    "1. Подготовка данных\n",
    "\n",
    "При рассмотрении предоставленных данных отмечено наличие большого количества лишней информации. Были удалены столбцы с информацией о датах регистрации пользователя, дате последнего посещения и т.д. Много ошибок и недозаполненных данных было исправлено заполнением по аналогии или просто значением – «unknown», чтобы модель могла рассчитать информацию максимально точно.\n",
    "\n",
    "2. Обучение моделей\n",
    "\n",
    "Для корректного обучения моделей все категориальные данные в таблице были преобразованы в численные методом порядкового кодирования. Данные были разделены на обучающую и тестовую выборки. Для сравнения взяли 3 варианта моделей – DecisionTree, RandomForest и модель градиентного бустинга LGBMRegressor. Общая метрика для сравнения полученных результатов – RMSE. Её значение должно быть минимальным. Для понимания удобства использования той или иной модели рассмотрим также время её работы.\n",
    "\n",
    "3. Анализ моделей\n",
    "\n",
    "Получившиеся результаты показывают, что модель RandomForest дает наилучший результат по сравнению с остальными моделями. Проверим данную модель на тестовой выборке. На тестовой выборке приемлемый результат менее 2500 показывает модель LGBMRegressor. Время обучения 13 секунд, время предсказания 1 секунда, что также вполне удовлетворяет возможным требваниям потребителя. Рекомендуем заказчику применение данной модели."
   ]
  }
 ],
 "metadata": {
  "ExecuteTimeLog": [
   {
    "duration": 92,
    "start_time": "2023-01-27T14:01:19.602Z"
   },
   {
    "duration": 1191,
    "start_time": "2023-01-27T14:01:26.896Z"
   },
   {
    "duration": 3175,
    "start_time": "2023-01-27T14:01:30.497Z"
   },
   {
    "duration": 14,
    "start_time": "2023-01-27T14:01:37.611Z"
   },
   {
    "duration": 63,
    "start_time": "2023-01-27T14:01:39.694Z"
   },
   {
    "duration": 123,
    "start_time": "2023-01-27T14:01:41.732Z"
   },
   {
    "duration": 449,
    "start_time": "2023-01-27T14:01:45.227Z"
   },
   {
    "duration": 502,
    "start_time": "2023-01-27T14:01:46.590Z"
   },
   {
    "duration": 43,
    "start_time": "2023-01-27T14:01:48.350Z"
   },
   {
    "duration": 74,
    "start_time": "2023-01-27T14:01:49.843Z"
   },
   {
    "duration": 87,
    "start_time": "2023-01-27T14:01:52.978Z"
   },
   {
    "duration": 21,
    "start_time": "2023-01-27T14:01:58.401Z"
   },
   {
    "duration": 114,
    "start_time": "2023-01-27T14:02:00.326Z"
   },
   {
    "duration": 19,
    "start_time": "2023-01-27T14:04:21.101Z"
   },
   {
    "duration": 68,
    "start_time": "2023-01-27T14:04:21.926Z"
   },
   {
    "duration": 66,
    "start_time": "2023-01-27T14:04:22.911Z"
   },
   {
    "duration": 19,
    "start_time": "2023-01-27T14:05:31.530Z"
   },
   {
    "duration": 68,
    "start_time": "2023-01-27T14:05:33.474Z"
   },
   {
    "duration": 93,
    "start_time": "2023-01-27T14:05:36.713Z"
   },
   {
    "duration": 4,
    "start_time": "2023-01-27T14:05:37.531Z"
   },
   {
    "duration": 110,
    "start_time": "2023-01-27T14:05:38.724Z"
   },
   {
    "duration": 69,
    "start_time": "2023-01-27T14:05:45.112Z"
   },
   {
    "duration": 31,
    "start_time": "2023-01-27T14:05:46.219Z"
   },
   {
    "duration": 21,
    "start_time": "2023-01-27T14:05:47.046Z"
   },
   {
    "duration": 4,
    "start_time": "2023-01-27T14:05:49.286Z"
   },
   {
    "duration": 411,
    "start_time": "2023-01-27T14:06:03.025Z"
   },
   {
    "duration": 140,
    "start_time": "2023-01-27T14:06:04.637Z"
   },
   {
    "duration": 159,
    "start_time": "2023-01-27T14:06:06.378Z"
   },
   {
    "duration": 4,
    "start_time": "2023-01-27T14:06:19.536Z"
   },
   {
    "duration": 8332,
    "start_time": "2023-01-27T14:06:21.091Z"
   },
   {
    "duration": 18,
    "start_time": "2023-01-27T14:06:34.804Z"
   },
   {
    "duration": 3746491,
    "start_time": "2023-01-27T14:06:41.178Z"
   },
   {
    "duration": 5329,
    "start_time": "2023-01-27T15:09:14.025Z"
   },
   {
    "duration": 1142821,
    "start_time": "2023-01-27T15:09:21.675Z"
   },
   {
    "duration": 1272,
    "start_time": "2023-01-27T15:29:25.310Z"
   },
   {
    "duration": 7,
    "start_time": "2023-01-27T15:29:39.897Z"
   },
   {
    "duration": 12,
    "start_time": "2023-01-27T15:29:46.986Z"
   },
   {
    "duration": 4,
    "start_time": "2023-01-27T15:29:47.700Z"
   },
   {
    "duration": 3,
    "start_time": "2023-01-27T15:29:48.384Z"
   },
   {
    "duration": 4,
    "start_time": "2023-01-27T15:29:49.476Z"
   },
   {
    "duration": 14889,
    "start_time": "2023-01-27T15:29:51.900Z"
   },
   {
    "duration": 1403,
    "start_time": "2023-01-27T15:30:06.791Z"
   },
   {
    "duration": 5,
    "start_time": "2023-01-27T15:30:23.200Z"
   }
  ],
  "kernelspec": {
   "display_name": "Python 3 (ipykernel)",
   "language": "python",
   "name": "python3"
  },
  "language_info": {
   "codemirror_mode": {
    "name": "ipython",
    "version": 3
   },
   "file_extension": ".py",
   "mimetype": "text/x-python",
   "name": "python",
   "nbconvert_exporter": "python",
   "pygments_lexer": "ipython3",
   "version": "3.9.5"
  },
  "toc": {
   "base_numbering": 1,
   "nav_menu": {},
   "number_sections": true,
   "sideBar": true,
   "skip_h1_title": true,
   "title_cell": "Table of Contents",
   "title_sidebar": "Contents",
   "toc_cell": false,
   "toc_position": {},
   "toc_section_display": true,
   "toc_window_display": false
  }
 },
 "nbformat": 4,
 "nbformat_minor": 5
}
