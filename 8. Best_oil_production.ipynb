{
 "cells": [
  {
   "cell_type": "markdown",
   "id": "5c8a95a1",
   "metadata": {},
   "source": [
    "Имеются данные о пробах нефти в трёх регионах, причем в каждом данные о запасах и качестве нефти в 10000 месторождений. Необходимо обучить модель, и с её помощью найти регион, где будет максимально прибыльная добыча. Проанализируем прибыль и риски."
   ]
  },
  {
   "cell_type": "markdown",
   "id": "4d1dc3d5",
   "metadata": {},
   "source": [
    "**1. Изучение данных**"
   ]
  },
  {
   "cell_type": "code",
   "execution_count": 2,
   "id": "170d38b5",
   "metadata": {},
   "outputs": [],
   "source": [
    "import pandas as pd\n",
    "from sklearn.model_selection import train_test_split\n",
    "from sklearn.linear_model import LinearRegression\n",
    "from sklearn.metrics import mean_absolute_error\n",
    "from sklearn.metrics import mean_squared_error\n",
    "import numpy as np"
   ]
  },
  {
   "cell_type": "code",
   "execution_count": 3,
   "id": "ace2b3cd",
   "metadata": {},
   "outputs": [
    {
     "data": {
      "text/html": [
       "<div>\n",
       "<style scoped>\n",
       "    .dataframe tbody tr th:only-of-type {\n",
       "        vertical-align: middle;\n",
       "    }\n",
       "\n",
       "    .dataframe tbody tr th {\n",
       "        vertical-align: top;\n",
       "    }\n",
       "\n",
       "    .dataframe thead th {\n",
       "        text-align: right;\n",
       "    }\n",
       "</style>\n",
       "<table border=\"1\" class=\"dataframe\">\n",
       "  <thead>\n",
       "    <tr style=\"text-align: right;\">\n",
       "      <th></th>\n",
       "      <th>id</th>\n",
       "      <th>f0</th>\n",
       "      <th>f1</th>\n",
       "      <th>f2</th>\n",
       "      <th>product</th>\n",
       "    </tr>\n",
       "  </thead>\n",
       "  <tbody>\n",
       "    <tr>\n",
       "      <th>0</th>\n",
       "      <td>txEyH</td>\n",
       "      <td>0.705745</td>\n",
       "      <td>-0.497823</td>\n",
       "      <td>1.221170</td>\n",
       "      <td>105.280062</td>\n",
       "    </tr>\n",
       "    <tr>\n",
       "      <th>1</th>\n",
       "      <td>2acmU</td>\n",
       "      <td>1.334711</td>\n",
       "      <td>-0.340164</td>\n",
       "      <td>4.365080</td>\n",
       "      <td>73.037750</td>\n",
       "    </tr>\n",
       "    <tr>\n",
       "      <th>2</th>\n",
       "      <td>409Wp</td>\n",
       "      <td>1.022732</td>\n",
       "      <td>0.151990</td>\n",
       "      <td>1.419926</td>\n",
       "      <td>85.265647</td>\n",
       "    </tr>\n",
       "    <tr>\n",
       "      <th>3</th>\n",
       "      <td>iJLyR</td>\n",
       "      <td>-0.032172</td>\n",
       "      <td>0.139033</td>\n",
       "      <td>2.978566</td>\n",
       "      <td>168.620776</td>\n",
       "    </tr>\n",
       "    <tr>\n",
       "      <th>4</th>\n",
       "      <td>Xdl7t</td>\n",
       "      <td>1.988431</td>\n",
       "      <td>0.155413</td>\n",
       "      <td>4.751769</td>\n",
       "      <td>154.036647</td>\n",
       "    </tr>\n",
       "  </tbody>\n",
       "</table>\n",
       "</div>"
      ],
      "text/plain": [
       "      id        f0        f1        f2     product\n",
       "0  txEyH  0.705745 -0.497823  1.221170  105.280062\n",
       "1  2acmU  1.334711 -0.340164  4.365080   73.037750\n",
       "2  409Wp  1.022732  0.151990  1.419926   85.265647\n",
       "3  iJLyR -0.032172  0.139033  2.978566  168.620776\n",
       "4  Xdl7t  1.988431  0.155413  4.751769  154.036647"
      ]
     },
     "metadata": {},
     "output_type": "display_data"
    },
    {
     "data": {
      "text/html": [
       "<div>\n",
       "<style scoped>\n",
       "    .dataframe tbody tr th:only-of-type {\n",
       "        vertical-align: middle;\n",
       "    }\n",
       "\n",
       "    .dataframe tbody tr th {\n",
       "        vertical-align: top;\n",
       "    }\n",
       "\n",
       "    .dataframe thead th {\n",
       "        text-align: right;\n",
       "    }\n",
       "</style>\n",
       "<table border=\"1\" class=\"dataframe\">\n",
       "  <thead>\n",
       "    <tr style=\"text-align: right;\">\n",
       "      <th></th>\n",
       "      <th>id</th>\n",
       "      <th>f0</th>\n",
       "      <th>f1</th>\n",
       "      <th>f2</th>\n",
       "      <th>product</th>\n",
       "    </tr>\n",
       "  </thead>\n",
       "  <tbody>\n",
       "    <tr>\n",
       "      <th>0</th>\n",
       "      <td>kBEdx</td>\n",
       "      <td>-15.001348</td>\n",
       "      <td>-8.276000</td>\n",
       "      <td>-0.005876</td>\n",
       "      <td>3.179103</td>\n",
       "    </tr>\n",
       "    <tr>\n",
       "      <th>1</th>\n",
       "      <td>62mP7</td>\n",
       "      <td>14.272088</td>\n",
       "      <td>-3.475083</td>\n",
       "      <td>0.999183</td>\n",
       "      <td>26.953261</td>\n",
       "    </tr>\n",
       "    <tr>\n",
       "      <th>2</th>\n",
       "      <td>vyE1P</td>\n",
       "      <td>6.263187</td>\n",
       "      <td>-5.948386</td>\n",
       "      <td>5.001160</td>\n",
       "      <td>134.766305</td>\n",
       "    </tr>\n",
       "    <tr>\n",
       "      <th>3</th>\n",
       "      <td>KcrkZ</td>\n",
       "      <td>-13.081196</td>\n",
       "      <td>-11.506057</td>\n",
       "      <td>4.999415</td>\n",
       "      <td>137.945408</td>\n",
       "    </tr>\n",
       "    <tr>\n",
       "      <th>4</th>\n",
       "      <td>AHL4O</td>\n",
       "      <td>12.702195</td>\n",
       "      <td>-8.147433</td>\n",
       "      <td>5.004363</td>\n",
       "      <td>134.766305</td>\n",
       "    </tr>\n",
       "  </tbody>\n",
       "</table>\n",
       "</div>"
      ],
      "text/plain": [
       "      id         f0         f1        f2     product\n",
       "0  kBEdx -15.001348  -8.276000 -0.005876    3.179103\n",
       "1  62mP7  14.272088  -3.475083  0.999183   26.953261\n",
       "2  vyE1P   6.263187  -5.948386  5.001160  134.766305\n",
       "3  KcrkZ -13.081196 -11.506057  4.999415  137.945408\n",
       "4  AHL4O  12.702195  -8.147433  5.004363  134.766305"
      ]
     },
     "metadata": {},
     "output_type": "display_data"
    },
    {
     "data": {
      "text/html": [
       "<div>\n",
       "<style scoped>\n",
       "    .dataframe tbody tr th:only-of-type {\n",
       "        vertical-align: middle;\n",
       "    }\n",
       "\n",
       "    .dataframe tbody tr th {\n",
       "        vertical-align: top;\n",
       "    }\n",
       "\n",
       "    .dataframe thead th {\n",
       "        text-align: right;\n",
       "    }\n",
       "</style>\n",
       "<table border=\"1\" class=\"dataframe\">\n",
       "  <thead>\n",
       "    <tr style=\"text-align: right;\">\n",
       "      <th></th>\n",
       "      <th>id</th>\n",
       "      <th>f0</th>\n",
       "      <th>f1</th>\n",
       "      <th>f2</th>\n",
       "      <th>product</th>\n",
       "    </tr>\n",
       "  </thead>\n",
       "  <tbody>\n",
       "    <tr>\n",
       "      <th>0</th>\n",
       "      <td>fwXo0</td>\n",
       "      <td>-1.146987</td>\n",
       "      <td>0.963328</td>\n",
       "      <td>-0.828965</td>\n",
       "      <td>27.758673</td>\n",
       "    </tr>\n",
       "    <tr>\n",
       "      <th>1</th>\n",
       "      <td>WJtFt</td>\n",
       "      <td>0.262778</td>\n",
       "      <td>0.269839</td>\n",
       "      <td>-2.530187</td>\n",
       "      <td>56.069697</td>\n",
       "    </tr>\n",
       "    <tr>\n",
       "      <th>2</th>\n",
       "      <td>ovLUW</td>\n",
       "      <td>0.194587</td>\n",
       "      <td>0.289035</td>\n",
       "      <td>-5.586433</td>\n",
       "      <td>62.871910</td>\n",
       "    </tr>\n",
       "    <tr>\n",
       "      <th>3</th>\n",
       "      <td>q6cA6</td>\n",
       "      <td>2.236060</td>\n",
       "      <td>-0.553760</td>\n",
       "      <td>0.930038</td>\n",
       "      <td>114.572842</td>\n",
       "    </tr>\n",
       "    <tr>\n",
       "      <th>4</th>\n",
       "      <td>WPMUX</td>\n",
       "      <td>-0.515993</td>\n",
       "      <td>1.716266</td>\n",
       "      <td>5.899011</td>\n",
       "      <td>149.600746</td>\n",
       "    </tr>\n",
       "  </tbody>\n",
       "</table>\n",
       "</div>"
      ],
      "text/plain": [
       "      id        f0        f1        f2     product\n",
       "0  fwXo0 -1.146987  0.963328 -0.828965   27.758673\n",
       "1  WJtFt  0.262778  0.269839 -2.530187   56.069697\n",
       "2  ovLUW  0.194587  0.289035 -5.586433   62.871910\n",
       "3  q6cA6  2.236060 -0.553760  0.930038  114.572842\n",
       "4  WPMUX -0.515993  1.716266  5.899011  149.600746"
      ]
     },
     "metadata": {},
     "output_type": "display_data"
    }
   ],
   "source": [
    "data_0 = pd.read_csv('/datasets/geo_data_0.csv')\n",
    "data_1 = pd.read_csv('/datasets/geo_data_1.csv')\n",
    "data_2 = pd.read_csv('/datasets/geo_data_2.csv')\n",
    "display(data_0.head())\n",
    "display(data_1.head())\n",
    "display(data_2.head())"
   ]
  },
  {
   "cell_type": "code",
   "execution_count": 4,
   "id": "70b55cda",
   "metadata": {},
   "outputs": [
    {
     "name": "stdout",
     "output_type": "stream",
     "text": [
      "<class 'pandas.core.frame.DataFrame'>\n",
      "RangeIndex: 100000 entries, 0 to 99999\n",
      "Data columns (total 5 columns):\n",
      " #   Column   Non-Null Count   Dtype  \n",
      "---  ------   --------------   -----  \n",
      " 0   id       100000 non-null  object \n",
      " 1   f0       100000 non-null  float64\n",
      " 2   f1       100000 non-null  float64\n",
      " 3   f2       100000 non-null  float64\n",
      " 4   product  100000 non-null  float64\n",
      "dtypes: float64(4), object(1)\n",
      "memory usage: 3.8+ MB\n"
     ]
    }
   ],
   "source": [
    "data_0.info()"
   ]
  },
  {
   "cell_type": "code",
   "execution_count": 5,
   "id": "9d93fc91",
   "metadata": {},
   "outputs": [
    {
     "name": "stdout",
     "output_type": "stream",
     "text": [
      "<class 'pandas.core.frame.DataFrame'>\n",
      "RangeIndex: 100000 entries, 0 to 99999\n",
      "Data columns (total 5 columns):\n",
      " #   Column   Non-Null Count   Dtype  \n",
      "---  ------   --------------   -----  \n",
      " 0   id       100000 non-null  object \n",
      " 1   f0       100000 non-null  float64\n",
      " 2   f1       100000 non-null  float64\n",
      " 3   f2       100000 non-null  float64\n",
      " 4   product  100000 non-null  float64\n",
      "dtypes: float64(4), object(1)\n",
      "memory usage: 3.8+ MB\n"
     ]
    }
   ],
   "source": [
    "data_1.info()"
   ]
  },
  {
   "cell_type": "code",
   "execution_count": 6,
   "id": "73ba5e82",
   "metadata": {},
   "outputs": [
    {
     "name": "stdout",
     "output_type": "stream",
     "text": [
      "<class 'pandas.core.frame.DataFrame'>\n",
      "RangeIndex: 100000 entries, 0 to 99999\n",
      "Data columns (total 5 columns):\n",
      " #   Column   Non-Null Count   Dtype  \n",
      "---  ------   --------------   -----  \n",
      " 0   id       100000 non-null  object \n",
      " 1   f0       100000 non-null  float64\n",
      " 2   f1       100000 non-null  float64\n",
      " 3   f2       100000 non-null  float64\n",
      " 4   product  100000 non-null  float64\n",
      "dtypes: float64(4), object(1)\n",
      "memory usage: 3.8+ MB\n"
     ]
    }
   ],
   "source": [
    "data_2.info()"
   ]
  },
  {
   "cell_type": "code",
   "execution_count": 7,
   "id": "eb45b94d",
   "metadata": {},
   "outputs": [],
   "source": [
    "data_0 = data_0.drop(['id'] , axis=1)\n",
    "data_1 = data_1.drop(['id'] , axis=1)\n",
    "data_2 = data_2.drop(['id'] , axis=1)"
   ]
  },
  {
   "cell_type": "markdown",
   "id": "3d872fea",
   "metadata": {},
   "source": [
    "**2  Обучение и проверка модели**"
   ]
  },
  {
   "cell_type": "markdown",
   "id": "7d4ac52d",
   "metadata": {},
   "source": [
    "Обучим модель на имеющихся данных. Данные разбиваем на обучающую и валидационную выборки в отношении 75:25. Будем использовать модель LinearRegression. Для каждого региона рассчитаем средние значения предсказаний и метрику RMSE."
   ]
  },
  {
   "cell_type": "code",
   "execution_count": 8,
   "id": "6a174f75",
   "metadata": {},
   "outputs": [],
   "source": [
    "def learn_targ (data):\n",
    "    target = data['product']\n",
    "    features = data.drop(['product'] , axis=1)\n",
    "    features_tr, features_v, target_tr, target_v = train_test_split(\n",
    "    features, target, test_size=0.25, random_state=12345)\n",
    "    model = LinearRegression()\n",
    "    model.fit(features_tr, target_tr)\n",
    "    predicted_v = model.predict(features_v)\n",
    "    predicted = pd.Series(predicted_v)\n",
    "    target = target_v.reset_index(drop=True)\n",
    "    mse = mean_squared_error(target_v, predicted_v)\n",
    "    rmse = mse ** 0.5\n",
    "    mean_stock = predicted.mean()\n",
    "    print(\"RMSE =\", mse ** 0.5)\n",
    "    print(\"Cредний запас предсказанного сырья:\", predicted.mean())"
   ]
  },
  {
   "cell_type": "code",
   "execution_count": 9,
   "id": "4c9c7207",
   "metadata": {},
   "outputs": [
    {
     "name": "stdout",
     "output_type": "stream",
     "text": [
      "RMSE = 37.5794217150813\n",
      "Cредний запас предсказанного сырья: 92.59256778438035\n"
     ]
    }
   ],
   "source": [
    "learn_targ(data_0)"
   ]
  },
  {
   "cell_type": "code",
   "execution_count": 10,
   "id": "81e8eb77",
   "metadata": {},
   "outputs": [
    {
     "name": "stdout",
     "output_type": "stream",
     "text": [
      "RMSE = 0.893099286775617\n",
      "Cредний запас предсказанного сырья: 68.728546895446\n"
     ]
    }
   ],
   "source": [
    "learn_targ(data_1)"
   ]
  },
  {
   "cell_type": "code",
   "execution_count": 11,
   "id": "8c119274",
   "metadata": {},
   "outputs": [
    {
     "name": "stdout",
     "output_type": "stream",
     "text": [
      "RMSE = 40.02970873393434\n",
      "Cредний запас предсказанного сырья: 94.96504596800489\n"
     ]
    }
   ],
   "source": [
    "learn_targ(data_2)"
   ]
  },
  {
   "cell_type": "code",
   "execution_count": 18,
   "id": "08192468",
   "metadata": {},
   "outputs": [
    {
     "name": "stdout",
     "output_type": "stream",
     "text": [
      "RMSE = 37.5794217150813\n",
      "Cредний запас предсказанного сырья: 92.59256778438035\n"
     ]
    }
   ],
   "source": [
    "target_0 = data_0['product']\n",
    "features_0 = data_0.drop(['product'] , axis=1)\n",
    "features_tr_0, features_v_0, target_tr_0, target_v_0 = train_test_split(\n",
    "    features_0, target_0, test_size=0.25, random_state=12345)\n",
    "model = LinearRegression()\n",
    "model.fit(features_tr_0, target_tr_0)\n",
    "predicted_v_0 = model.predict(features_v_0)\n",
    "predicted_0 = pd.Series(predicted_v_0)\n",
    "target_0 = target_v_0.reset_index(drop=True)\n",
    "mse = mean_squared_error(target_v_0, predicted_v_0)\n",
    "print(\"RMSE =\", mse ** 0.5)\n",
    "print(\"Cредний запас предсказанного сырья:\", predicted_0.mean())"
   ]
  },
  {
   "cell_type": "code",
   "execution_count": 19,
   "id": "c4bb9a88",
   "metadata": {},
   "outputs": [
    {
     "name": "stdout",
     "output_type": "stream",
     "text": [
      "RMSE = 0.893099286775617\n",
      "Cредний запас предсказанного сырья: 68.728546895446\n"
     ]
    }
   ],
   "source": [
    "target_1 = data_1['product']\n",
    "features_1 = data_1.drop(['product'] , axis=1)\n",
    "features_tr_1, features_v_1, target_tr_1, target_v_1 = train_test_split(\n",
    "    features_1, target_1, test_size=0.25, random_state=12345)\n",
    "model = LinearRegression()\n",
    "model.fit(features_tr_1, target_tr_1)\n",
    "predicted_v_1 = model.predict(features_v_1)\n",
    "predicted_1 = pd.Series(predicted_v_1)\n",
    "target_1 = target_v_1.reset_index(drop=True)\n",
    "mse = mean_squared_error(target_v_1, predicted_v_1)\n",
    "print(\"RMSE =\", mse ** 0.5)\n",
    "print(\"Cредний запас предсказанного сырья:\", predicted_1.mean())\n"
   ]
  },
  {
   "cell_type": "code",
   "execution_count": 20,
   "id": "d72504c7",
   "metadata": {},
   "outputs": [
    {
     "name": "stdout",
     "output_type": "stream",
     "text": [
      "RMSE = 40.02970873393434\n",
      "Cредний запас предсказанного сырья: 94.96504596800489\n"
     ]
    }
   ],
   "source": [
    "target_2 = data_2['product']\n",
    "features_2 = data_2.drop(['product'] , axis=1)\n",
    "features_tr_2, features_v_2, target_tr_2, target_v_2 = train_test_split(\n",
    "    features_2, target_2, test_size=0.25, random_state=12345)\n",
    "model = LinearRegression()\n",
    "model.fit(features_tr_2, target_tr_2)\n",
    "predicted_v_2 = model.predict(features_v_2)\n",
    "predicted_2 = pd.Series(predicted_v_2)\n",
    "target_2 = target_v_2.reset_index(drop=True)\n",
    "mse = mean_squared_error(target_v_2, predicted_v_2)\n",
    "print(\"RMSE =\", mse ** 0.5)\n",
    "print(\"Cредний запас предсказанного сырья:\", predicted_2.mean())"
   ]
  },
  {
   "cell_type": "markdown",
   "id": "72f01410",
   "metadata": {},
   "source": [
    "Значение RMSE показывает среднюю величину отличия предсказания модели от правильного ответа. Чем меньше это значение, тем лучше. Для региона номер 2 предсказания оказались максимально точны. Однако, именно в этом регионе и наименьший предсказанный средний обьем запасов в скважинах."
   ]
  },
  {
   "cell_type": "markdown",
   "id": "83d686ae",
   "metadata": {},
   "source": [
    "**3  Подготовка к расчёту прибыли**"
   ]
  },
  {
   "cell_type": "markdown",
   "id": "4d4a1a32",
   "metadata": {},
   "source": [
    "При разведке региона исследуют 500 точек, из которых с помощью машинного обучения выбирают 200 лучших для разработки. Бюджет на разработку скважин в регионе — 10 млрд рублей. При нынешних ценах один баррель сырья приносит 450 рублей дохода. Доход с каждой единицы продукта составляет 450 тыс. рублей, поскольку объём указан в тысячах баррелей. После оценки рисков нужно оставить лишь те регионы, в которых вероятность убытков меньше 2.5%. Создаем необходимые для дальнейших расчетов константы"
   ]
  },
  {
   "cell_type": "code",
   "execution_count": 12,
   "id": "517e4c8c",
   "metadata": {},
   "outputs": [
    {
     "name": "stdout",
     "output_type": "stream",
     "text": [
      "22222.222222222223\n"
     ]
    }
   ],
   "source": [
    "BUDGET = 10000000000\n",
    "BARREL = 450\n",
    "INCOME = 450000\n",
    "PRODUCTION = BUDGET/INCOME\n",
    "print(PRODUCTION)"
   ]
  },
  {
   "cell_type": "markdown",
   "id": "1aa17414",
   "metadata": {},
   "source": [
    "Бюджет на разработку скважин - себестоимость проекта. Т.к. каждая скважина приносит 450 т.р. дохода, то для получения прибыли в регионе должно быть получено более 22222 тыс.баррелей нефти.\n",
    "\n",
    "Если в каждом регионе разрабатывается 200 точек, то рассчитаем, сколько сырья должно вырабатываться на одну точку для достижения безубыточности разработки в регионе."
   ]
  },
  {
   "cell_type": "code",
   "execution_count": 13,
   "id": "91875c67",
   "metadata": {},
   "outputs": [
    {
     "name": "stdout",
     "output_type": "stream",
     "text": [
      "111.11111111111111\n"
     ]
    }
   ],
   "source": [
    "print(PRODUCTION/200)"
   ]
  },
  {
   "cell_type": "markdown",
   "id": "d3600aa6",
   "metadata": {},
   "source": [
    "Соответственно, чтобы рассчитать потенциальную прибыль в каждом регионе проверяем найдем количество баррелей нефти, согласно предсказанию модели."
   ]
  },
  {
   "cell_type": "markdown",
   "id": "c16ecb82",
   "metadata": {},
   "source": [
    "Рассмотрим средний истинный запас сырья в регионах."
   ]
  },
  {
   "cell_type": "markdown",
   "id": "4c2db1b4",
   "metadata": {},
   "source": [
    "print(target_0.mean())\n",
    "print(target_1.mean())\n",
    "print(target_2.mean())"
   ]
  },
  {
   "cell_type": "markdown",
   "id": "ac6d817f",
   "metadata": {},
   "source": [
    "Получается, что ни в одном регионе мы не сможем достигнуть безубыточности работы. Средний истинный запас сырья в одной скважине для каждого региона значительно меньше, чем требуемая величина - 111 баррелей."
   ]
  },
  {
   "cell_type": "markdown",
   "id": "d12516c7",
   "metadata": {},
   "source": [
    "**4  Расчёт прибыли и рисков**"
   ]
  },
  {
   "cell_type": "markdown",
   "id": "d6f4c164",
   "metadata": {},
   "source": [
    "Для расчета потенциальной прибыли создаем функцию, в котрую в дальнейшем подставим значения модели для каждого региона. Отсортировываем положительные предсказания, для 200 точек суммируем значения имеющихся запасов сырья. Имеющиеся запасы сырья необходимо умножить на стоимость барреля нефти и вычитаем себестоимость разработки."
   ]
  },
  {
   "cell_type": "code",
   "execution_count": 15,
   "id": "cbf99e49",
   "metadata": {},
   "outputs": [],
   "source": [
    "def profit(target, predicted):\n",
    "    preds_sorted = predicted.sort_values(ascending=False)\n",
    "    selected = target[preds_sorted.index][:200]\n",
    "    value = INCOME * selected.sum() - BUDGET\n",
    "    return value"
   ]
  },
  {
   "cell_type": "markdown",
   "id": "08323ac2",
   "metadata": {},
   "source": [
    "Применим технику Bootstrap с 1000 выборок, чтобы найти распределение прибыли. Собираем значения прибыли по каждой выборке, чтобы вычислить среднее. Доверительный интервал для нашего задания - 95%."
   ]
  },
  {
   "cell_type": "code",
   "execution_count": 16,
   "id": "3aeeb6ae",
   "metadata": {},
   "outputs": [],
   "source": [
    "state = np.random.RandomState(12345)\n",
    "def calc(target, predictions):\n",
    "    values = []\n",
    "    for i in range(1000):\n",
    "        target_subsample = target.sample(n=500, replace=True, random_state=state)\n",
    "        pr_subsample = predictions[target_subsample.index]\n",
    "        values.append(profit(target_subsample, pr_subsample))\n",
    "        \n",
    "    values = pd.Series(values)\n",
    "    lower = values.quantile(0.025)\n",
    "    high = values.quantile(0.975)\n",
    "    mean = values.mean()\n",
    "    risk = (values<0).mean()*100\n",
    "\n",
    "    print(\"Средняя прибыль региона:\", mean)\n",
    "    print(\"5%-квантиль:\", lower)\n",
    "    print(\"95%-квантиль:\", high)\n",
    "    print(\"Риск неполучения прибыли:\", risk,'%')"
   ]
  },
  {
   "cell_type": "code",
   "execution_count": 21,
   "id": "2f8d3344",
   "metadata": {
    "scrolled": true
   },
   "outputs": [
    {
     "name": "stdout",
     "output_type": "stream",
     "text": [
      "Средняя прибыль региона: 425938526.91059244\n",
      "5%-квантиль: -102090094.83793654\n",
      "95%-квантиль: 947976353.3583689\n",
      "Риск неполучения прибыли: 6.0 %\n"
     ]
    }
   ],
   "source": [
    "calc(target_0, predicted_0)"
   ]
  },
  {
   "cell_type": "code",
   "execution_count": 22,
   "id": "6d627bb7",
   "metadata": {},
   "outputs": [
    {
     "name": "stdout",
     "output_type": "stream",
     "text": [
      "Средняя прибыль региона: 518259493.6973249\n",
      "5%-квантиль: 128123231.43308444\n",
      "95%-квантиль: 953612982.0669085\n",
      "Риск неполучения прибыли: 0.3 %\n"
     ]
    }
   ],
   "source": [
    "calc(target_1, predicted_1)"
   ]
  },
  {
   "cell_type": "code",
   "execution_count": 23,
   "id": "027d9ba1",
   "metadata": {},
   "outputs": [
    {
     "name": "stdout",
     "output_type": "stream",
     "text": [
      "Средняя прибыль региона: 420194005.3440501\n",
      "5%-квантиль: -115852609.16001143\n",
      "95%-квантиль: 989629939.8445739\n",
      "Риск неполучения прибыли: 6.2 %\n"
     ]
    }
   ],
   "source": [
    "calc(target_2, predicted_2)"
   ]
  },
  {
   "cell_type": "markdown",
   "id": "44296c6e",
   "metadata": {},
   "source": [
    "Получившиеся данные показывают, что единственный регион, в которм риск убытка менее 2,5% - это регион номер 2. Именно его и нужно использовать для разработки месторождений."
   ]
  },
  {
   "cell_type": "markdown",
   "id": "ed92aeaf",
   "metadata": {},
   "source": [
    "**Заключение.**\n",
    "\n",
    "По имеющимся данным о наличии нефти в 3 регионах необходимо было обучить модель по вычислению потенциально прибыльного месторождения. Модель должна выбрать 200 скважин, самых выгодных для разработки, предсказать потенциальное количество нефти в них. Имея необходимые числовые значения для оценки финансовой успешности данных скважин, делаем выбор наиболее выгодного региона.\n",
    "\n",
    "1.Загружаем и рассматриваем имеющиеся данные.\n",
    "\n",
    "Предоставленные данные практически полностью готовы к работе, удаляем только столбец “Id”, поскольку для дальнейших расчетов в нем нет необходимости.\n",
    "\n",
    "2.Обучение и проверка модели для каждого региона.\n",
    "\n",
    "Имеющиеся данные разбиваем на обучающую и валидационную выборки в соотношении 75:25. Обучаем модель LinearRegression на полученных обучающих выборках. Результаты среднего значения предсказаний показывают, что самый большой запас сырья в третьем регионе, однако величина RMSE, показывает, что наиболее точные предсказания модель делает по 2 региону. Величина запасов во втором регионе самая низкая.\n",
    "\n",
    "3.Подготовка к расчету прибыли.\n",
    "\n",
    "Предоставлены данные по себестоимости проекта – 10 млрд. руб, величина дохода с каждой скважины. Получаем, что для безубыточной работы региона необходим запас 111,11 бареллей в каждой скважине, если в регионе их 200. Все необходимые для расчетов величины сохраняем в константах, которые в дальнейшем будут использованы для расчетов. Для понимания имеющейся ситуации рассмотрим средний фактический запас сырья в скважинах в каждом регионе. Получается, что нив одном регионе средняя величина не достигает заданного необходимого уровня запасов.\n",
    "\n",
    "4.Расчет прибыли и рисков.\n",
    "\n",
    "Для расчета потенциальной прибыли создаем функцию, в которой отсортировываем положительные предсказания, для 200 точек суммируем значения имеющихся запасов сырья. Имеющиеся запасы сырья необходимо умножить на стоимость барреля нефти и вычитаем себестоимость разработки. Используем функцию бутстреп, создающую 1000 выборок, для нахождения распределения прибыли. Находим среднюю величину прибыли, среди всего распределения прибыли. Для надежности определяем границы доверительного интервала – 95%, т.е. 2,5% и 97,5%. Рассчитываем величину рисков – отношение отрицательных значений прибыли ко всем. Получившиеся результаты позволяют выбрать регион № 2 в качестве потенциально прибыльного."
   ]
  }
 ],
 "metadata": {
  "ExecuteTimeLog": [
   {
    "duration": 56,
    "start_time": "2023-01-27T12:30:14.367Z"
   },
   {
    "duration": 1175,
    "start_time": "2023-01-27T12:30:19.916Z"
   },
   {
    "duration": 1650,
    "start_time": "2023-01-27T12:30:21.616Z"
   },
   {
    "duration": 23,
    "start_time": "2023-01-27T12:30:26.315Z"
   },
   {
    "duration": 13,
    "start_time": "2023-01-27T12:30:27.738Z"
   },
   {
    "duration": 16,
    "start_time": "2023-01-27T12:30:30.697Z"
   },
   {
    "duration": 21,
    "start_time": "2023-01-27T12:30:31.581Z"
   },
   {
    "duration": 5,
    "start_time": "2023-01-27T12:30:34.284Z"
   },
   {
    "duration": 36,
    "start_time": "2023-01-27T12:30:36.377Z"
   },
   {
    "duration": 28,
    "start_time": "2023-01-27T12:30:37.195Z"
   },
   {
    "duration": 36,
    "start_time": "2023-01-27T12:30:38.069Z"
   },
   {
    "duration": 3,
    "start_time": "2023-01-27T12:30:41.380Z"
   },
   {
    "duration": 3,
    "start_time": "2023-01-27T12:30:43.665Z"
   },
   {
    "duration": 93,
    "start_time": "2023-01-27T12:30:46.963Z"
   },
   {
    "duration": 3,
    "start_time": "2023-01-27T12:30:54.306Z"
   },
   {
    "duration": 7,
    "start_time": "2023-01-27T12:30:55.962Z"
   },
   {
    "duration": 9,
    "start_time": "2023-01-27T12:30:57.568Z"
   },
   {
    "duration": 26,
    "start_time": "2023-01-27T12:33:08.944Z"
   },
   {
    "duration": 29,
    "start_time": "2023-01-27T12:33:10.651Z"
   },
   {
    "duration": 27,
    "start_time": "2023-01-27T12:33:12.760Z"
   },
   {
    "duration": 1327,
    "start_time": "2023-01-27T12:33:18.979Z"
   },
   {
    "duration": 1340,
    "start_time": "2023-01-27T12:33:21.258Z"
   },
   {
    "duration": 1373,
    "start_time": "2023-01-27T12:33:23.481Z"
   }
  ],
  "kernelspec": {
   "display_name": "Python 3 (ipykernel)",
   "language": "python",
   "name": "python3"
  },
  "language_info": {
   "codemirror_mode": {
    "name": "ipython",
    "version": 3
   },
   "file_extension": ".py",
   "mimetype": "text/x-python",
   "name": "python",
   "nbconvert_exporter": "python",
   "pygments_lexer": "ipython3",
   "version": "3.9.5"
  },
  "toc": {
   "base_numbering": 1,
   "nav_menu": {},
   "number_sections": true,
   "sideBar": true,
   "skip_h1_title": true,
   "title_cell": "Table of Contents",
   "title_sidebar": "Contents",
   "toc_cell": false,
   "toc_position": {},
   "toc_section_display": true,
   "toc_window_display": false
  }
 },
 "nbformat": 4,
 "nbformat_minor": 5
}
